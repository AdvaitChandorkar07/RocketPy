{
 "cells": [
  {
   "cell_type": "markdown",
   "metadata": {},
   "source": [
    "# Getting Started"
   ]
  },
  {
   "cell_type": "markdown",
   "metadata": {},
   "source": [
    "Here we go through a simplified rocket trajectory simulation to get you started. Let's start by importing the rocketpy module."
   ]
  },
  {
   "cell_type": "code",
   "execution_count": 1,
   "metadata": {},
   "outputs": [],
   "source": [
    "%load_ext autoreload\n",
    "%autoreload 2"
   ]
  },
  {
   "cell_type": "code",
   "execution_count": 2,
   "metadata": {},
   "outputs": [],
   "source": [
    "from rocketpy import *"
   ]
  },
  {
   "cell_type": "markdown",
   "metadata": {},
   "source": [
    "If you are using Jupyter Notebooks, it is recommended to run the following line to make matplotlib plots which will be shown later interactive and higher quality."
   ]
  },
  {
   "cell_type": "code",
   "execution_count": 3,
   "metadata": {},
   "outputs": [],
   "source": [
    "%matplotlib widget"
   ]
  },
  {
   "cell_type": "code",
   "execution_count": 4,
   "metadata": {},
   "outputs": [],
   "source": [
    "from datetime import datetime"
   ]
  },
  {
   "cell_type": "markdown",
   "metadata": {},
   "source": [
    "## Running with dictionary only"
   ]
  },
  {
   "cell_type": "code",
   "execution_count": 13,
   "metadata": {},
   "outputs": [],
   "source": [
    "analysis_parameters = {\n",
    "    # Mass Details\n",
    "    \"rocketMass\": (\n",
    "        8.257,\n",
    "        0.001,\n",
    "    ),  # Rocket's dry mass (kg) and its uncertainty (standard deviation)\n",
    "    # Propulsion Details - run help(SolidMotor) for more information\n",
    "\n",
    "    \"thrustSource\": [\"docs/notebooks/dispersion_analysis/dispersion_analysis_inputs/thrustCurve.csv\"],\n",
    "    \"impulse\": (1415.15, 35.3),  # Motor total impulse (N*s)\n",
    "    \"burnOut\": (5.274, 1),  # Motor burn out time (s)\n",
    "    \"nozzleRadius\": (21.642 / 1000, 0.5 / 1000),  # Motor's nozzle radius (m)\n",
    "    \"throatRadius\": (8 / 1000, 0.5 / 1000),  # Motor's nozzle throat radius (m)\n",
    "    \"grainNumber\":[6],\n",
    "    \"grainSeparation\": (\n",
    "        6 / 1000,\n",
    "        1 / 1000,\n",
    "    ),  # Motor's grain separation (axial distance between two grains) (m)\n",
    "    \"grainDensity\": (1707, 50),  # Motor's grain density (kg/m^3)\n",
    "    \"grainOuterRadius\": (21.4 / 1000, 0.375 / 1000),  # Motor's grain outer radius (m)\n",
    "    \"grainInitialInnerRadius\": (\n",
    "        9.65 / 1000,\n",
    "        0.375 / 1000,\n",
    "    ),  # Motor's grain inner radius (m)\n",
    "    \"grainInitialHeight\": (120 / 1000, 1 / 1000),  # Motor's grain height (m)\n",
    "    \"interpolationMethod\":[\"linear\"],\n",
    "    # Aerodynamic Details - run help(Rocket) for more information\n",
    "    \"inertiaI\": (\n",
    "        3.675,\n",
    "        0.03675,\n",
    "    ),  # Rocket's inertia moment perpendicular to its axis (kg*m^2)\n",
    "    \"inertiaZ\": (\n",
    "        0.007,\n",
    "        0.00007,\n",
    "    ),  # Rocket's inertia moment relative to its axis (kg*m^2)\n",
    "    \"radius\": (40.45 / 1000, 0.001),  # Rocket's radius (kg*m^2)\n",
    "    \"distanceRocketNozzle\": (\n",
    "        -1.024,\n",
    "        0.001,\n",
    "    ),  # Distance between rocket's center of dry mass and nozzle exit plane (m) (negative)\n",
    "    \"distanceRocketPropellant\": (\n",
    "        -0.571,\n",
    "        0.001,\n",
    "    ),  # Distance between rocket's center of dry mass and and center of propellant mass (m) (negative)\n",
    "    \"powerOffDrag\": (\n",
    "        0.9081 / 1.05,\n",
    "        0.033,\n",
    "    ),  # Multiplier for rocket's drag curve. Usually has a mean value of 1 and a uncertainty of 5% to 10%\n",
    "    \"powerOnDrag\": (\n",
    "        0.9081 / 1.05,\n",
    "        0.033,\n",
    "    ),  # Multiplier for rocket's drag curve. Usually has a mean value of 1 and a uncertainty of 5% to 10%\n",
    "    \"noseLength\": (0.274, 0.001),  # Rocket's nose cone length (m)\n",
    "    \"noseDistanceToCM\": (\n",
    "        1.134,\n",
    "        0.001,\n",
    "    ),  # Axial distance between rocket's center of dry mass and nearest point in its nose cone (m)\n",
    "    \"finSpan\": (0.077, 0.0005),  # Fin span (m)\n",
    "    \"finRootChord\": (0.058, 0.0005),  # Fin root chord (m)\n",
    "    \"finTipChord\": (0.018, 0.0005),  # Fin tip chord (m)\n",
    "    \"finDistanceToCM\": (\n",
    "        -0.906,\n",
    "        0.001,\n",
    "    ),  # Axial distance between rocket's center of dry mass and nearest point in its fin (m)\n",
    "    # Launch and Environment Details - run help(Environment) and help(Flight) for more information\n",
    "    \"inclination\": (\n",
    "        84.7,\n",
    "        1,\n",
    "    ),  # Launch rail inclination angle relative to the horizontal plane (degrees)\n",
    "    \"heading\": (53, 2),  # Launch rail heading relative to north (degrees)\n",
    "    \"railLength\": (5.7, 0.0005),  # Launch rail length (m)\n",
    "    \"ensembleMember\": list(range(10)),  # Members of the ensemble forecast to be used\n",
    "    # Parachute Details - run help(Rocket) for more information\n",
    "    \"CdSDrogue\": (\n",
    "        0.349 * 1.3,\n",
    "        0.07,\n",
    "    ),  # Drag coefficient times reference area for the drogue chute (m^2)\n",
    "    \"lag_rec\": (\n",
    "        1,\n",
    "        0.5,\n",
    "    ),  # Time delay between parachute ejection signal is detected and parachute is inflated (s)\n",
    "    # Electronic Systems Details - run help(Rocket) for more information\n",
    "    \"lag_se\": (\n",
    "        0.73,\n",
    "        0.16,\n",
    "    ),  # Time delay between sensor signal is received and ejection signal is fired (s)\n",
    "}"
   ]
  },
  {
   "cell_type": "code",
   "execution_count": 14,
   "metadata": {},
   "outputs": [],
   "source": [
    "from rocketpy import Environment"
   ]
  },
  {
   "cell_type": "code",
   "execution_count": 15,
   "metadata": {},
   "outputs": [],
   "source": [
    "# Define basic Environment object\n",
    "Env = Environment(\n",
    "    railLength=5.7, date=(2019, 8, 10, 21), latitude=-23.363611, longitude=-48.011389\n",
    ")\n",
    "Env.setElevation(668)\n",
    "Env.maxExpectedHeight = 1500\n",
    "Env.setAtmosphericModel(\n",
    "    type=\"Ensemble\",\n",
    "    file=\"docs/notebooks/dispersion_analysis/dispersion_analysis_inputs/LASC2019_reanalysis.nc\",\n",
    "    dictionary=\"ECMWF\",\n",
    ")"
   ]
  },
  {
   "cell_type": "code",
   "execution_count": null,
   "metadata": {},
   "outputs": [],
   "source": [
    "Disp = Dispersion('test')\n",
    "Disp.runDispersion(100,analysis_parameters,Env)"
   ]
  },
  {
   "cell_type": "markdown",
   "metadata": {},
   "source": [
    "## Setting Up a Simulation"
   ]
  },
  {
   "cell_type": "markdown",
   "metadata": {},
   "source": [
    "### Creating an Environment for Spaceport America"
   ]
  },
  {
   "cell_type": "code",
   "execution_count": null,
   "metadata": {},
   "outputs": [],
   "source": [
    "Env = Environment(\n",
    "    railLength=5.2, latitude=32.990254, longitude=-106.974998, elevation=1400\n",
    ")"
   ]
  },
  {
   "cell_type": "markdown",
   "metadata": {},
   "source": [
    "To get weather data from the GFS forecast, available online, we run the following lines.\n",
    "\n",
    "First, we set tomorrow's date."
   ]
  },
  {
   "cell_type": "code",
   "execution_count": null,
   "metadata": {},
   "outputs": [],
   "source": [
    "import datetime\n",
    "\n",
    "tomorrow = datetime.date.today() + datetime.timedelta(days=1)\n",
    "\n",
    "Env.setDate((tomorrow.year, tomorrow.month, tomorrow.day, 12))  # Hour given in UTC time"
   ]
  },
  {
   "cell_type": "markdown",
   "metadata": {},
   "source": [
    "Then, we tell Env to use a GFS forecast to get the atmospheric conditions for flight.\n",
    "\n",
    "Don't mind the warning, it just means that not all variables, such as wind speed or atmospheric temperature, are available at all altitudes given by the forecast."
   ]
  },
  {
   "cell_type": "code",
   "execution_count": null,
   "metadata": {},
   "outputs": [],
   "source": [
    "Env.setAtmosphericModel(type=\"Forecast\", file=\"GFS\")"
   ]
  },
  {
   "cell_type": "markdown",
   "metadata": {},
   "source": [
    "We can see what the weather will look like by calling the info method!"
   ]
  },
  {
   "cell_type": "code",
   "execution_count": null,
   "metadata": {},
   "outputs": [],
   "source": [
    "Env.info()"
   ]
  },
  {
   "cell_type": "markdown",
   "metadata": {},
   "source": [
    "### Creating a Motor\n",
    "\n",
    "A solid rocket motor is used in this case. To create a motor, the SolidMotor class is used and the required arguments are given.\n",
    "\n",
    "The SolidMotor class requires the user to have a thrust curve ready. This can come either from a .eng file for a commercial motor, such as below, or a .csv file from a static test measurement.\n",
    "\n",
    "Besides the thrust curve, other parameters such as grain properties and nozzle dimensions must also be given."
   ]
  },
  {
   "cell_type": "code",
   "execution_count": null,
   "metadata": {},
   "outputs": [],
   "source": [
    "Pro75M1670 = SolidMotor(\n",
    "    thrustSource=\"data/motors/Cesaroni_M1670.eng\",\n",
    "    burnOut=3.9,\n",
    "    grainNumber=5,\n",
    "    grainSeparation=5 / 1000,\n",
    "    grainDensity=1815,\n",
    "    grainOuterRadius=33 / 1000,\n",
    "    grainInitialInnerRadius=15 / 1000,\n",
    "    grainInitialHeight=120 / 1000,\n",
    "    nozzleRadius=33 / 1000,\n",
    "    throatRadius=11 / 1000,\n",
    "    interpolationMethod=\"linear\",\n",
    ")"
   ]
  },
  {
   "cell_type": "markdown",
   "metadata": {},
   "source": [
    "To see what our thrust curve looks like, along with other import properties, we invoke the info method yet again. You may try the allInfo method if you want more information all at once!"
   ]
  },
  {
   "cell_type": "code",
   "execution_count": null,
   "metadata": {},
   "outputs": [],
   "source": [
    "Pro75M1670.info()"
   ]
  },
  {
   "cell_type": "markdown",
   "metadata": {},
   "source": [
    "### Creating a Rocket"
   ]
  },
  {
   "cell_type": "markdown",
   "metadata": {},
   "source": [
    "A rocket is composed of several components. Namely, we must have a motor (good thing we have the Pro75M1670 ready), a couple of aerodynamic surfaces (nose cone, fins and tail) and parachutes (if we are not launching a missile).\n",
    "\n",
    "Let's start by initializing our rocket, named Calisto, supplying it with the Pro75M1670 engine, entering its inertia properties, some dimensions and also its drag curves."
   ]
  },
  {
   "cell_type": "code",
   "execution_count": null,
   "metadata": {},
   "outputs": [],
   "source": [
    "Calisto = Rocket(\n",
    "    motor=Pro75M1670,\n",
    "    radius=127 / 2000,\n",
    "    mass=19.197 - 2.956,\n",
    "    inertiaI=6.60,\n",
    "    inertiaZ=0.0351,\n",
    "    distanceRocketNozzle=-1.255,\n",
    "    distanceRocketPropellant=-0.85704,\n",
    "    powerOffDrag=\"data/calisto/powerOffDragCurve.csv\",\n",
    "    powerOnDrag=\"data/calisto/powerOnDragCurve.csv\",\n",
    ")\n",
    "\n",
    "Calisto.setRailButtons([0.2, -0.5])"
   ]
  },
  {
   "cell_type": "markdown",
   "metadata": {},
   "source": [
    "#### Adding Aerodynamic Surfaces"
   ]
  },
  {
   "cell_type": "markdown",
   "metadata": {},
   "source": [
    "Now we define the aerodynamic surfaces. They are really straight forward."
   ]
  },
  {
   "cell_type": "code",
   "execution_count": null,
   "metadata": {},
   "outputs": [],
   "source": [
    "NoseCone = Calisto.addNose(length=0.55829, kind=\"vonKarman\", distanceToCM=0.71971)\n",
    "\n",
    "FinSet = Calisto.addFins(\n",
    "    4, span=0.100, rootChord=0.120, tipChord=0.040, distanceToCM=-1.04956\n",
    ")\n",
    "\n",
    "Tail = Calisto.addTail(\n",
    "    topRadius=0.0635, bottomRadius=0.0435, length=0.060, distanceToCM=-1.194656\n",
    ")"
   ]
  },
  {
   "cell_type": "markdown",
   "metadata": {},
   "source": [
    "#### Adding Parachutes"
   ]
  },
  {
   "cell_type": "markdown",
   "metadata": {},
   "source": [
    "Finally, we have parachutes! Calisto will have two parachutes, Drogue and Main.\n",
    "\n",
    "Both parachutes are activated by some special algorithm, which is usually really complex and a trade secret. Most algorithms are based on pressure sampling only, while some also use acceleration info.\n",
    "\n",
    "RocketPy allows you to define a trigger function which will decide when to activate the ejection event for each parachute. This trigger function is supplied with pressure measurement at a predefined sampling rate. This pressure signal is usually noisy, so artificial noise parameters can be given. Call help(Rocket.addParachute) for more details. Furthermore, the trigger function also receives the complete state vector of the rocket, allowing us to use velocity, acceleration or even attitude to decide when the parachute event should be triggered.\n",
    "\n",
    "Here, we define our trigger functions rather simply using Python. However, you can call the exact code which will fly inside your rocket as well."
   ]
  },
  {
   "cell_type": "code",
   "execution_count": null,
   "metadata": {},
   "outputs": [],
   "source": [
    "def drogueTrigger(p, y):\n",
    "    # p = pressure\n",
    "    # y = [x, y, z, vx, vy, vz, e0, e1, e2, e3, w1, w2, w3]\n",
    "    # activate drogue when vz < 0 m/s.\n",
    "    return True if y[5] < 0 else False\n",
    "\n",
    "\n",
    "def mainTrigger(p, y):\n",
    "    # p = pressure\n",
    "    # y = [x, y, z, vx, vy, vz, e0, e1, e2, e3, w1, w2, w3]\n",
    "    # activate main when vz < 0 m/s and z < 800 + 1400 m (+1400 due to surface elevation).\n",
    "    return True if y[5] < 0 and y[2] < 800 + 1400 else False\n",
    "\n",
    "\n",
    "Main = Calisto.addParachute(\n",
    "    \"Main\",\n",
    "    CdS=10.0,\n",
    "    trigger=mainTrigger,\n",
    "    samplingRate=105,\n",
    "    lag=1.5,\n",
    "    noise=(0, 8.3, 0.5),\n",
    ")\n",
    "\n",
    "Drogue = Calisto.addParachute(\n",
    "    \"Drogue\",\n",
    "    CdS=1.0,\n",
    "    trigger=drogueTrigger,\n",
    "    samplingRate=105,\n",
    "    lag=1.5,\n",
    "    noise=(0, 8.3, 0.5),\n",
    ")"
   ]
  },
  {
   "cell_type": "markdown",
   "metadata": {},
   "source": [
    "Just be careful if you run this last cell multiple times! If you do so, your rocket will end up with lots of parachutes which activate together, which may cause problems during the flight simulation. We advise you to re-run all cells which define our rocket before running this, preventing unwanted old parachutes. Alternatively, you can run the following lines to remove parachutes.\n",
    "\n",
    "```python\n",
    "Calisto.parachutes.remove(Drogue)\n",
    "Calisto.parachutes.remove(Main)\n",
    "```"
   ]
  },
  {
   "cell_type": "markdown",
   "metadata": {},
   "source": [
    "## Simulating a Flight\n",
    "\n",
    "Simulating a flight trajectory is as simple as initializing a Flight class object givin the rocket and environnement set up above as inputs. The launch rail inclination and heading are also given here."
   ]
  },
  {
   "cell_type": "code",
   "execution_count": null,
   "metadata": {},
   "outputs": [],
   "source": [
    "TestFlight = Flight(rocket=Calisto, environment=Env, inclination=85, heading=0)"
   ]
  },
  {
   "cell_type": "markdown",
   "metadata": {},
   "source": [
    "## Analyzing the Results\n",
    "\n",
    "RocketPy gives you many plots, thats for sure! They are divided into sections to keep them organized. Alternatively, see the Flight class documentation to see how to get plots for specific variables only, instead of all of them at once."
   ]
  },
  {
   "cell_type": "code",
   "execution_count": null,
   "metadata": {
    "scrolled": false
   },
   "outputs": [],
   "source": [
    "TestFlight.allInfo()"
   ]
  },
  {
   "cell_type": "markdown",
   "metadata": {},
   "source": [
    "Export Flight Trajectory to a .kml file so it can be opened on Google Earth"
   ]
  },
  {
   "cell_type": "code",
   "execution_count": null,
   "metadata": {},
   "outputs": [],
   "source": [
    "TestDispersion = Dispersion('teste')"
   ]
  },
  {
   "cell_type": "code",
   "execution_count": null,
   "metadata": {},
   "outputs": [],
   "source": [
    "dispersionDict={\n",
    "    'rocketMass':(19.197 - 2.956, 0.2),\n",
    "    'radius': 0.1* 127 / 2000,\n",
    "    'burnOut':(3.9, 0.5), \n",
    "    'parachuteNames': [\"Main\",\"Drogue\"],\n",
    "    'CdS': [(10,2),(1)],\n",
    "    'trigger':[[mainTrigger],[drogueTrigger]]\n",
    "    } "
   ]
  },
  {
   "cell_type": "code",
   "execution_count": null,
   "metadata": {},
   "outputs": [],
   "source": [
    "TestDispersion.runDispersion(number_of_simulations=10,dispersionDict=dispersionDict,  \n",
    "    flight=TestFlight, image='dispersion_analysis_inputs/Valetudo_basemap_final.jpg')"
   ]
  },
  {
   "cell_type": "code",
   "execution_count": null,
   "metadata": {},
   "outputs": [],
   "source": [
    "TestDispersion.info()"
   ]
  },
  {
   "cell_type": "code",
   "execution_count": null,
   "metadata": {},
   "outputs": [],
   "source": []
  }
 ],
 "metadata": {
  "hide_input": false,
  "kernelspec": {
   "display_name": "Python 3.10.5 64-bit",
   "language": "python",
   "name": "python3"
  },
  "language_info": {
   "codemirror_mode": {
    "name": "ipython",
    "version": 3
   },
   "file_extension": ".py",
   "mimetype": "text/x-python",
   "name": "python",
   "nbconvert_exporter": "python",
   "pygments_lexer": "ipython3",
   "version": "3.10.5"
  },
  "vscode": {
   "interpreter": {
    "hash": "26de051ba29f2982a8de78e945f0abaf191376122a1563185a90213a26c5da77"
   }
  }
 },
 "nbformat": 4,
 "nbformat_minor": 2
}
