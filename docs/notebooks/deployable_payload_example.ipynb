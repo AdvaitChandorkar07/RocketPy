{
 "cells": [
  {
   "attachments": {},
   "cell_type": "markdown",
   "metadata": {},
   "source": [
    "# Deployable Payload Flight Simulation Example"
   ]
  },
  {
   "attachments": {},
   "cell_type": "markdown",
   "metadata": {},
   "source": [
    "Here we try to demonstrate how to use RocketPy to simulate a flight of a rocket\n",
    "that presents a deployable payload."
   ]
  },
  {
   "attachments": {},
   "cell_type": "markdown",
   "metadata": {},
   "source": [
    "To run this notebook, we will need:\n",
    "\n",
    "*   RocketPy\n",
    "*   netCDF4 (to get weather forecasts)\n",
    "*   Data files (we will clone RocketPy's repository for these)\n",
    "\n",
    "Therefore, let's run the following lines of code:"
   ]
  },
  {
   "cell_type": "code",
   "execution_count": null,
   "metadata": {},
   "outputs": [],
   "source": [
    "!pip install rocketpy netCDF4\n",
    "!git clone https://github.com/RocketPy-Team/RocketPy.git"
   ]
  },
  {
   "cell_type": "code",
   "execution_count": null,
   "metadata": {},
   "outputs": [],
   "source": [
    "import os\n",
    "\n",
    "os.chdir(\"RocketPy/docs/notebooks\")"
   ]
  },
  {
   "attachments": {},
   "cell_type": "markdown",
   "metadata": {},
   "source": [
    "Now we can start!\n",
    "\n",
    "Here we go through a simplified rocket trajectory simulation to get you started. Let's start by importing the rocketpy module."
   ]
  },
  {
   "cell_type": "code",
   "execution_count": null,
   "metadata": {},
   "outputs": [],
   "source": [
    "from rocketpy import Environment, SolidMotor, Rocket, Flight, Function, utilities"
   ]
  },
  {
   "attachments": {},
   "cell_type": "markdown",
   "metadata": {},
   "source": [
    "If you are using a version of Jupyter Notebooks, it is recommended to run the following lines of code to make plots that will be shown later interactive and/or higher quality."
   ]
  },
  {
   "cell_type": "code",
   "execution_count": null,
   "metadata": {},
   "outputs": [],
   "source": [
    "%config InlineBackend.figure_formats = ['svg']\n",
    "%matplotlib inline"
   ]
  },
  {
   "attachments": {},
   "cell_type": "markdown",
   "metadata": {},
   "source": [
    "## Setting Up a Simulation"
   ]
  },
  {
   "attachments": {},
   "cell_type": "markdown",
   "metadata": {},
   "source": [
    "### Creating an Environment for Spaceport America"
   ]
  },
  {
   "cell_type": "code",
   "execution_count": null,
   "metadata": {},
   "outputs": [],
   "source": [
    "Env = Environment(\n",
    "    rail_length=5.2, latitude=32.990254, longitude=-106.974998, elevation=1400\n",
    ")"
   ]
  },
  {
   "attachments": {},
   "cell_type": "markdown",
   "metadata": {},
   "source": [
    "To get weather data from the GFS forecast, available online, we run the following lines.\n",
    "See [Environment Class Usage](environment_class_usage.ipynb) for more information on how to use the Environment class."
   ]
  },
  {
   "cell_type": "code",
   "execution_count": null,
   "metadata": {},
   "outputs": [],
   "source": [
    "import datetime\n",
    "\n",
    "tomorrow = datetime.date.today() + datetime.timedelta(days=1)\n",
    "\n",
    "Env.set_date((tomorrow.year, tomorrow.month, tomorrow.day, 12))  # Hour given in UTC time\n",
    "\n",
    "Env.set_atmospheric_model(type=\"Forecast\", file=\"GFS\")\n",
    "Env.max_expected_height = 8000"
   ]
  },
  {
   "cell_type": "code",
   "execution_count": null,
   "metadata": {},
   "outputs": [],
   "source": [
    "Env.info()"
   ]
  },
  {
   "attachments": {},
   "cell_type": "markdown",
   "metadata": {},
   "source": [
    "### Creating a Motor\n",
    "\n",
    "A solid rocket motor is used in this case. See [Solid Motor Class Usage](solid_motor_class_usage.ipynb) for more information on how to use the Motor class."
   ]
  },
  {
   "cell_type": "code",
   "execution_count": null,
   "metadata": {},
   "outputs": [],
   "source": [
    "Pro75M1670 = SolidMotor(\n",
    "    thrust_source=\"../../data/motors/Cesaroni_M1670.eng\",\n",
    "    burn_out=3.9,\n",
    "    grain_number=5,\n",
    "    grain_separation=5 / 1000,\n",
    "    grain_density=1815,\n",
    "    grain_outer_radius=33 / 1000,\n",
    "    grain_initial_inner_radius=15 / 1000,\n",
    "    grain_initial_height=120 / 1000,\n",
    "    nozzle_radius=33 / 1000,\n",
    "    throat_radius=11 / 1000,\n",
    "    grains_center_of_mass_position=-0.85704,\n",
    "    interpolation_method=\"linear\",\n",
    ")"
   ]
  },
  {
   "cell_type": "code",
   "execution_count": null,
   "metadata": {},
   "outputs": [],
   "source": [
    "Pro75M1670.info()"
   ]
  },
  {
   "attachments": {},
   "cell_type": "markdown",
   "metadata": {},
   "source": [
    "## Simulating the First Flight Stage"
   ]
  },
  {
   "attachments": {},
   "cell_type": "markdown",
   "metadata": {},
   "source": [
    "Let's start to simulate our rocket's flight. We will use the Environment and Motor objects we created before.\n",
    "\n",
    "We will assume that the payload is ejected at apogee, however, this can be modified if needed."
   ]
  },
  {
   "attachments": {},
   "cell_type": "markdown",
   "metadata": {},
   "source": [
    "We start by defining the value of each relevant mass, ensuring they are correct before continuing."
   ]
  },
  {
   "cell_type": "code",
   "execution_count": null,
   "metadata": {},
   "outputs": [],
   "source": [
    "# 16.241 is the mass of the rocket including the payload but without the propellant\n",
    "payload_mass = 4.5  # in kg\n",
    "rocket_mass = 16.241 - payload_mass  # in kg\n",
    "\n",
    "print(\"Rocket dry mass: {:.4} kg (with Payload)\".format(rocket_mass + payload_mass))\n",
    "print(\"Propellant Mass: {:.4} kg\".format(Pro75M1670.mass(0)))\n",
    "print(\"Payload Mass: {:.4} kg\".format(payload_mass))\n",
    "print(\n",
    "    \"Fully loaded Rocket Mass: {:.4} kg\".format(\n",
    "        rocket_mass + Pro75M1670.mass(0) + payload_mass\n",
    "    )\n",
    ")"
   ]
  },
  {
   "attachments": {},
   "cell_type": "markdown",
   "metadata": {},
   "source": [
    "Then we define our rocket. See [Getting Started](getting_started_colab.ipynb) for more information on defining a Rocket."
   ]
  },
  {
   "cell_type": "code",
   "execution_count": null,
   "metadata": {},
   "outputs": [],
   "source": [
    "Rocket1 = Rocket(\n",
    "    radius=127 / 2000,\n",
    "    mass=rocket_mass + payload_mass,\n",
    "    inertia_i=6.60,\n",
    "    inertia_z=0.0351,\n",
    "    power_off_drag=\"../../data/calisto/powerOffDragCurve.csv\",\n",
    "    power_on_drag=\"../../data/calisto/powerOnDragCurve.csv\",\n",
    "    center_of_dry_mass_position=0,\n",
    "    coordinate_system_orientation=\"tail_to_nose\",\n",
    ")\n",
    "\n",
    "Rocket1.add_motor(motor=Pro75M1670, position=-1.255)\n",
    "\n",
    "Rocket1.set_rail_buttons([0.2, -0.5])\n",
    "\n",
    "nosecone_rocket1 = Rocket1.add_nose(\n",
    "    length=0.55829, kind=\"vonKarman\", position=1.278\n",
    ")\n",
    "\n",
    "finset_rocket1 = Rocket1.add_fins(\n",
    "    4, span=0.100, root_chord=0.120, tip_chord=0.040, position=-1.04956\n",
    ")\n",
    "\n",
    "tail_rocket1 = Rocket1.add_tail(\n",
    "    top_radius=0.0635, bottom_radius=0.0435, length=0.060, position=-1.194656\n",
    ")"
   ]
  },
  {
   "cell_type": "code",
   "execution_count": null,
   "metadata": {},
   "outputs": [],
   "source": [
    "Rocket1.info()"
   ]
  },
  {
   "attachments": {},
   "cell_type": "markdown",
   "metadata": {},
   "source": [
    "Finally we create the flight simulation of this rocket, stopping at apogee"
   ]
  },
  {
   "cell_type": "code",
   "execution_count": null,
   "metadata": {},
   "outputs": [],
   "source": [
    "RocketFlight1 = Flight(\n",
    "    rocket=Rocket1, environment=Env, inclination=85, heading=25, terminate_on_apogee=True, name=\"RocketFlight1\"\n",
    ")"
   ]
  },
  {
   "attachments": {},
   "cell_type": "markdown",
   "metadata": {},
   "source": [
    "## Start the Second Flight Stage"
   ]
  },
  {
   "attachments": {},
   "cell_type": "markdown",
   "metadata": {},
   "source": [
    "Now we will simulate the second flight stage, which is the landing phase of our Rocket.\n",
    "Here we will consider that the payload was ejected at the apogee of the first stage.\n",
    "Therefore we should be careful with the value of its mass."
   ]
  },
  {
   "cell_type": "code",
   "execution_count": null,
   "metadata": {},
   "outputs": [],
   "source": [
    "Rocket2 = Rocket(\n",
    "    radius=127 / 2000,\n",
    "    mass=rocket_mass,   # Rocket with the eject payload\n",
    "    inertia_i=6.60,\n",
    "    inertia_z=0.0351,\n",
    "    power_off_drag=1,\n",
    "    power_on_drag=1,\n",
    "    center_of_dry_mass_position=0,\n",
    "    coordinate_system_orientation=\"tail_to_nose\",\n",
    ")\n",
    "\n",
    "\n",
    "\n",
    "def drogue_trigger(p, y):\n",
    "    # p = pressure\n",
    "    # y = [x, y, z, vx, vy, vz, e0, e1, e2, e3, w1, w2, w3]\n",
    "    # activate drogue when vz < 0 m/s.\n",
    "    return True if y[5] < 0 else False\n",
    "\n",
    "\n",
    "def main_trigger(p, y):\n",
    "    # p = pressure\n",
    "    # y = [x, y, z, vx, vy, vz, e0, e1, e2, e3, w1, w2, w3]\n",
    "    # activate main when vz < 0 m/s and z < 800 + 1400 m (+1400 due to surface elevation).\n",
    "    return True if y[5] < 0 and y[2] < 800 + 1400 else False\n",
    "\n",
    "\n",
    "# Define Parachutes for the rocket\n",
    "Main_Rocket2 = Rocket2.add_parachute(\n",
    "    \"Main\",\n",
    "    CdS=7.2,\n",
    "    trigger=main_trigger,\n",
    "    sampling_rate=105,\n",
    "    lag=1.5,\n",
    "    noise=(0, 8.3, 0.5),\n",
    ")\n",
    "\n",
    "Drogue_Rocket2 = Rocket2.add_parachute(\n",
    "    \"Drogue\",\n",
    "    CdS=0.72,\n",
    "    trigger=drogue_trigger,\n",
    "    sampling_rate=105,\n",
    "    lag=1.5,\n",
    "    noise=(0, 8.3, 0.5),\n",
    ")"
   ]
  },
  {
   "cell_type": "code",
   "execution_count": null,
   "metadata": {},
   "outputs": [],
   "source": [
    "Rocket2.info()"
   ]
  },
  {
   "attachments": {},
   "cell_type": "markdown",
   "metadata": {},
   "source": [
    "The magic line `initialSolution=RocketFlight1` will make the simulation start from the end of the first stage. \n",
    "\n",
    "This will simulate our rocket with its payload ejected, after reaching apogee."
   ]
  },
  {
   "cell_type": "code",
   "execution_count": null,
   "metadata": {},
   "outputs": [],
   "source": [
    "RocketFlight2 = Flight(\n",
    "    rocket=Rocket2,\n",
    "    environment=Env,\n",
    "    inclination=0,\n",
    "    heading=0,\n",
    "    max_time=600,\n",
    "    initial_solution=RocketFlight1,\n",
    "    name=\"RocketFlight2\",\n",
    ")"
   ]
  },
  {
   "attachments": {},
   "cell_type": "markdown",
   "metadata": {},
   "source": [
    "## Simulating the Third Flight Stage - Payload Flight"
   ]
  },
  {
   "attachments": {},
   "cell_type": "markdown",
   "metadata": {},
   "source": [
    "Here we will simulate the payload flight, which is the third flight stage of our Rocket.\n",
    "The Payload will be ejected at the apogee of the first stage.\n",
    "Here, it will be modeled as a \"dummy\" rocket, which does not have any aerodynamic surfaces to stabilize it, nor a motor that ignites.\n",
    "It does, however, have parachutes."
   ]
  },
  {
   "cell_type": "code",
   "execution_count": null,
   "metadata": {},
   "outputs": [],
   "source": [
    "# Define the \"Payload Rocket\"\n",
    "\n",
    "PayloadRocket = Rocket(\n",
    "    radius=127 / 2000,\n",
    "    mass=payload_mass,\n",
    "    # The next arguments do not matter for the simulation since it is only a dummy rocket\n",
    "    # so we just add symbolic values:\n",
    "    inertia_i=6.60,\n",
    "    inertia_z=0.0351,\n",
    "    power_off_drag=0.5,\n",
    "    power_on_drag=0.5,\n",
    "    center_of_dry_mass_position=0,\n",
    "    coordinate_system_orientation=\"tail_to_nose\",\n",
    ")\n",
    "\n",
    "\n",
    "def drogue_trigger(p, y):\n",
    "    # p = pressure\n",
    "    # y = [x, y, z, vx, vy, vz, e0, e1, e2, e3, w1, w2, w3]\n",
    "    # activate drogue when vz < 0 m/s.\n",
    "    return True if y[5] < 0 else False\n",
    "\n",
    "\n",
    "def main_trigger(p, y):\n",
    "    # p = pressure\n",
    "    # y = [x, y, z, vx, vy, vz, e0, e1, e2, e3, w1, w2, w3]\n",
    "    # activate main when vz < 0 m/s and z < 800 + 1400 m (+1400 due to surface elevation).\n",
    "    return True if y[5] < 0 and y[2] < 800 + 1400 else False\n",
    "\n",
    "\n",
    "PayloadDrogue = PayloadRocket.add_parachute(\n",
    "    \"Drogue\",\n",
    "    CdS=0.35,\n",
    "    trigger=drogue_trigger,\n",
    "    sampling_rate=105,\n",
    "    lag=1.5,\n",
    "    noise=(0, 8.3, 0.5),\n",
    ")\n",
    "\n",
    "PayloadMain = PayloadRocket.add_parachute(\n",
    "    \"Main\",\n",
    "    CdS=4.0,\n",
    "    trigger=main_trigger,\n",
    "    sampling_rate=105,\n",
    "    lag=1.5,\n",
    "    noise=(0, 8.3, 0.5),\n",
    ")"
   ]
  },
  {
   "attachments": {},
   "cell_type": "markdown",
   "metadata": {},
   "source": [
    "The magic line `initialSolution=RocketFlight1` will make the simulation start from the end of the first stage."
   ]
  },
  {
   "cell_type": "code",
   "execution_count": null,
   "metadata": {},
   "outputs": [],
   "source": [
    "PayloadFlight = Flight(\n",
    "    rocket=PayloadRocket,\n",
    "    environment=Env,\n",
    "    inclination=0,\n",
    "    heading=0,\n",
    "    max_time=600,\n",
    "    initial_solution=RocketFlight1,\n",
    "    name=\"PayloadFlight\",\n",
    ")"
   ]
  },
  {
   "attachments": {},
   "cell_type": "markdown",
   "metadata": {},
   "source": [
    "## Plotting Everything together"
   ]
  },
  {
   "attachments": {},
   "cell_type": "markdown",
   "metadata": {},
   "source": [
    "We will invoke a method from RocketPy's utilities class in order to visualize \n",
    "the trajectory."
   ]
  },
  {
   "cell_type": "code",
   "execution_count": null,
   "metadata": {},
   "outputs": [],
   "source": [
    "from rocketpy.plots.compare import CompareFlights"
   ]
  },
  {
   "attachments": {},
   "cell_type": "markdown",
   "metadata": {},
   "source": [
    "Then we create the `comparison` object, an instance of CompareFligths class"
   ]
  },
  {
   "cell_type": "code",
   "execution_count": null,
   "metadata": {},
   "outputs": [],
   "source": [
    "comparison = CompareFlights([RocketFlight1, RocketFlight2, PayloadFlight])"
   ]
  },
  {
   "attachments": {},
   "cell_type": "markdown",
   "metadata": {},
   "source": [
    "And, finally, we are able to plot different aspects of the comparison object."
   ]
  },
  {
   "cell_type": "code",
   "execution_count": null,
   "metadata": {},
   "outputs": [],
   "source": [
    "comparison.trajectories_3d(legend=True)"
   ]
  },
  {
   "cell_type": "code",
   "execution_count": null,
   "metadata": {},
   "outputs": [],
   "source": [
    "comparison.positions()"
   ]
  },
  {
   "cell_type": "code",
   "execution_count": null,
   "metadata": {},
   "outputs": [],
   "source": [
    "comparison.velocities()"
   ]
  },
  {
   "cell_type": "code",
   "execution_count": null,
   "metadata": {},
   "outputs": [],
   "source": [
    "comparison.accelerations()"
   ]
  },
  {
   "cell_type": "code",
   "execution_count": null,
   "metadata": {},
   "outputs": [],
   "source": [
    "comparison.aerodynamic_forces()"
   ]
  },
  {
   "cell_type": "code",
   "execution_count": null,
   "metadata": {},
   "outputs": [],
   "source": [
    "comparison.aerodynamic_moments()"
   ]
  },
  {
   "cell_type": "code",
   "execution_count": null,
   "metadata": {},
   "outputs": [],
   "source": [
    "comparison.angles_of_attack()"
   ]
  }
 ],
 "metadata": {
  "kernelspec": {
   "display_name": "Python 3",
   "language": "python",
   "name": "python3"
  },
  "language_info": {
   "codemirror_mode": {
    "name": "ipython",
    "version": 3
   },
   "file_extension": ".py",
   "mimetype": "text/x-python",
   "name": "python",
   "nbconvert_exporter": "python",
   "pygments_lexer": "ipython3",
   "version": "3.10.5"
  },
  "orig_nbformat": 4,
  "vscode": {
   "interpreter": {
    "hash": "26de051ba29f2982a8de78e945f0abaf191376122a1563185a90213a26c5da77"
   }
  }
 },
 "nbformat": 4,
 "nbformat_minor": 2
}
