{
 "cells": [
  {
   "attachments": {},
   "cell_type": "markdown",
   "metadata": {
    "colab_type": "text",
    "id": "nvAT8wcRNVEk"
   },
   "source": [
    "# Air Brakes Example\n"
   ]
  },
  {
   "cell_type": "code",
   "execution_count": null,
   "metadata": {
    "colab": {},
    "colab_type": "code",
    "id": "XGK9M8ecNVEp"
   },
   "outputs": [],
   "source": [
    "from rocketpy import Environment, SolidMotor, Rocket, Flight, Function"
   ]
  },
  {
   "cell_type": "code",
   "execution_count": null,
   "metadata": {
    "colab": {},
    "colab_type": "code",
    "id": "uRa566HoNVE9"
   },
   "outputs": [],
   "source": [
    "%matplotlib widget"
   ]
  },
  {
   "cell_type": "code",
   "execution_count": null,
   "metadata": {
    "colab": {},
    "colab_type": "code",
    "id": "5kl-Je8dNVFI"
   },
   "outputs": [],
   "source": [
    "env = Environment(latitude=32.990254, longitude=-106.974998, elevation=1400)"
   ]
  },
  {
   "cell_type": "code",
   "execution_count": null,
   "metadata": {
    "colab": {},
    "colab_type": "code",
    "id": "Vx1dZObwNVFX"
   },
   "outputs": [],
   "source": [
    "Pro75M1670 = SolidMotor(\n",
    "    thrust_source=\"../../data/motors/Cesaroni_M1670.eng\",\n",
    "    dry_mass=1.815,\n",
    "    dry_inertia=(0.125, 0.125, 0.002),\n",
    "    nozzle_radius=33 / 1000,\n",
    "    grain_number=5,\n",
    "    grain_density=1815,\n",
    "    grain_outer_radius=33 / 1000,\n",
    "    grain_initial_inner_radius=15 / 1000,\n",
    "    grain_initial_height=120 / 1000,\n",
    "    grain_separation=5 / 1000,\n",
    "    grains_center_of_mass_position=0.397,\n",
    "    center_of_dry_mass_position=0.317,\n",
    "    nozzle_position=0,\n",
    "    burn_time=3.9,\n",
    "    throat_radius=11 / 1000,\n",
    "    coordinate_system_orientation=\"nozzle_to_combustion_chamber\",\n",
    ")"
   ]
  },
  {
   "cell_type": "code",
   "execution_count": null,
   "metadata": {
    "colab": {},
    "colab_type": "code",
    "id": "D1fyK8u_NVFh"
   },
   "outputs": [],
   "source": [
    "calisto = Rocket(\n",
    "    radius=127 / 2000,\n",
    "    mass=14.426,\n",
    "    inertia=(6.321, 6.321, 0.034),\n",
    "    power_off_drag=\"../../data/calisto/powerOffDragCurve.csv\",\n",
    "    power_on_drag=\"../../data/calisto/powerOnDragCurve.csv\",\n",
    "    center_of_mass_without_motor=0,\n",
    "    coordinate_system_orientation=\"tail_to_nose\",\n",
    ")\n",
    "\n",
    "rail_buttons = calisto.set_rail_buttons(\n",
    "    upper_button_position=0.0818,\n",
    "    lower_button_position=-0.618,\n",
    "    angular_position=45,\n",
    ")\n",
    "\n",
    "calisto.add_motor(Pro75M1670, position=-1.255)\n",
    "\n",
    "nose_cone = calisto.add_nose(length=0.55829, kind=\"vonKarman\", position=1.278)\n",
    "\n",
    "fin_set = calisto.add_trapezoidal_fins(\n",
    "    n=4,\n",
    "    root_chord=0.120,\n",
    "    tip_chord=0.060,\n",
    "    span=0.110,\n",
    "    position=-1.04956,\n",
    "    cant_angle=0.5,\n",
    "    airfoil=(\"../../data/calisto/NACA0012-radians.csv\", \"radians\"),\n",
    ")\n",
    "\n",
    "tail = calisto.add_tail(\n",
    "    top_radius=0.0635, bottom_radius=0.0435, length=0.060, position=-1.194656\n",
    ")"
   ]
  },
  {
   "cell_type": "code",
   "execution_count": null,
   "metadata": {},
   "outputs": [],
   "source": [
    "def controller_function(time, sampling_rate, state, state_history, air_brakes):\n",
    "    # state = [x, y, z, v_x, v_y, v_z, e0, e1, e2, e3, w_x, w_y, w_z]\n",
    "    z = state[2]\n",
    "    vz = state[5]\n",
    "\n",
    "    # Get previous state from state_history\n",
    "    previous_state = state_history[-1]\n",
    "    previous_vz = previous_state[5]\n",
    "    \n",
    "    # Check if the rocket has reached burnout\n",
    "    if time > Pro75M1670.burn_out_time:\n",
    "        # If below 1500 meters, air_brakes are not deployed\n",
    "        if z < 1500 + env.elevation:\n",
    "            air_brakes.set_deployed_level(0)\n",
    "\n",
    "        # Else calculate the deployed level\n",
    "        else:\n",
    "            new_deployed_level = (\n",
    "                air_brakes.deployed_level + 0.1 * vz + 0.01 * previous_vz**2\n",
    "            )\n",
    "\n",
    "            # Limiting the speed of the air_brakes to 0.1 per second\n",
    "            # Since this function is called every 1/sampling_rate seconds\n",
    "            # the max change in deployed level per call is 0.1/sampling_rate\n",
    "            if new_deployed_level > air_brakes.deployed_level + 0.2 / sampling_rate:\n",
    "                new_deployed_level = air_brakes.deployed_level + 0.2 / sampling_rate\n",
    "            elif new_deployed_level < air_brakes.deployed_level - 0.2 / sampling_rate:\n",
    "                new_deployed_level = air_brakes.deployed_level - 0.2 / sampling_rate\n",
    "            else:\n",
    "                new_deployed_level = air_brakes.deployed_level\n",
    "\n",
    "            air_brakes.set_deployed_level(new_deployed_level)"
   ]
  },
  {
   "cell_type": "code",
   "execution_count": null,
   "metadata": {},
   "outputs": [],
   "source": [
    "air_brakes, controller = calisto.add_air_brakes(\n",
    "    drag_coefficient_curve=\"../../data/calisto/air_brakes_cd.csv\",\n",
    "    controller_function=controller_function,\n",
    "    sampling_rate=10,\n",
    "    reference_area=None,\n",
    "    clamp=True,\n",
    "    name=\"AirBrakes\",\n",
    "    controller_name=\"AirBrakes Controller\",\n",
    ")"
   ]
  },
  {
   "cell_type": "code",
   "execution_count": null,
   "metadata": {},
   "outputs": [],
   "source": [
    "air_brakes.all_info()"
   ]
  },
  {
   "cell_type": "code",
   "execution_count": null,
   "metadata": {},
   "outputs": [],
   "source": [
    "air_brakes.drag_coefficient == 'Function from R2 to R1 : (Deployed Level, Mach) → (Drag Coefficient)'"
   ]
  },
  {
   "cell_type": "code",
   "execution_count": null,
   "metadata": {
    "colab": {},
    "colab_type": "code",
    "id": "v__Ud2p2NVFx"
   },
   "outputs": [],
   "source": [
    "test_flight = Flight(\n",
    "    rocket=calisto,\n",
    "    environment=env,\n",
    "    rail_length=5.2,\n",
    "    inclination=85,\n",
    "    heading=0,\n",
    "    time_overshoot=False,\n",
    "    terminate_on_apogee=True,\n",
    ")"
   ]
  },
  {
   "attachments": {},
   "cell_type": "markdown",
   "metadata": {
    "colab_type": "text",
    "id": "8SjrGQqzNVF0"
   },
   "source": [
    "## Analyzing the Results\n",
    "\n",
    "Now we can see some plots from our air brakes:"
   ]
  },
  {
   "cell_type": "code",
   "execution_count": null,
   "metadata": {},
   "outputs": [],
   "source": [
    "air_brakes.deployed_level_by_time.plot(force_data=True)\n",
    "air_brakes.drag_coefficient_by_time.plot(force_data=True)"
   ]
  },
  {
   "cell_type": "markdown",
   "metadata": {},
   "source": [
    "And of course, the simulation results:"
   ]
  },
  {
   "cell_type": "code",
   "execution_count": null,
   "metadata": {},
   "outputs": [],
   "source": [
    "test_flight.altitude()\n",
    "test_flight.vz()"
   ]
  },
  {
   "cell_type": "code",
   "execution_count": null,
   "metadata": {
    "colab": {},
    "colab_type": "code",
    "id": "Hh4A_RQzNVF0",
    "scrolled": false
   },
   "outputs": [],
   "source": [
    "test_flight.all_info()"
   ]
  }
 ],
 "metadata": {
  "colab": {
   "name": "getting_started.ipynb",
   "provenance": [],
   "toc_visible": true
  },
  "hide_input": false,
  "kernelspec": {
   "display_name": "Python 3.10.0 ('rocketpy_dev')",
   "language": "python",
   "name": "python3"
  },
  "language_info": {
   "codemirror_mode": {
    "name": "ipython",
    "version": 3
   },
   "file_extension": ".py",
   "mimetype": "text/x-python",
   "name": "python",
   "nbconvert_exporter": "python",
   "pygments_lexer": "ipython3",
   "version": "3.12.0"
  },
  "vscode": {
   "interpreter": {
    "hash": "18e93d5347af13ace37d47ea4e2a2ad720f0331bd9cb28f9983f5585f4dfaa5c"
   }
  }
 },
 "nbformat": 4,
 "nbformat_minor": 2
}
