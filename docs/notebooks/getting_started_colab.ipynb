{
 "cells": [
  {
   "attachments": {},
   "cell_type": "markdown",
   "metadata": {
    "colab_type": "text",
    "id": "nvAT8wcRNVEk"
   },
   "source": [
    "# Getting Started - RocketPy in Colab"
   ]
  },
  {
   "attachments": {},
   "cell_type": "markdown",
   "metadata": {
    "colab_type": "text",
    "id": "8gCWjpEyPNp1"
   },
   "source": [
    "We start by setting up our environment. To run this notebook, we will need:\n",
    "\n",
    "\n",
    "*   RocketPy\n",
    "*   netCDF4 (to get weather forecasts)\n",
    "*   Data files (we will clone RocketPy's repository for these)\n",
    "\n",
    "Therefore, let's run the following lines of code:"
   ]
  },
  {
   "cell_type": "code",
   "execution_count": null,
   "metadata": {
    "colab": {},
    "colab_type": "code",
    "id": "zwDDabtpNc6Z"
   },
   "outputs": [],
   "source": [
    "%pip install rocketpy netCDF4\n",
    "%git clone https://github.com/giovaniceotto/RocketPy.git"
   ]
  },
  {
   "cell_type": "code",
   "execution_count": null,
   "metadata": {
    "colab": {},
    "colab_type": "code",
    "id": "pY5XGge5OoGJ"
   },
   "outputs": [],
   "source": [
    "import os\n",
    "\n",
    "os.chdir(\"RocketPy/docs/notebooks\")"
   ]
  },
  {
   "attachments": {},
   "cell_type": "markdown",
   "metadata": {
    "colab_type": "text",
    "id": "55zcnvqdNVEo"
   },
   "source": [
    "Now we can start!\n",
    "\n",
    "Here we go through a simplified rocket trajectory simulation to get you started. Let's start by importing the rocketpy module."
   ]
  },
  {
   "cell_type": "code",
   "execution_count": null,
   "metadata": {
    "colab": {},
    "colab_type": "code",
    "id": "XGK9M8ecNVEp"
   },
   "outputs": [],
   "source": [
    "from rocketpy import Environment, SolidMotor, Rocket, Flight"
   ]
  },
  {
   "attachments": {},
   "cell_type": "markdown",
   "metadata": {
    "colab_type": "text",
    "id": "ImgkhEkZNVE8"
   },
   "source": [
    "If you are using Jupyter Notebooks, it is recommended to run the following line to make matplotlib plots which will be shown later interactive and higher quality."
   ]
  },
  {
   "cell_type": "code",
   "execution_count": null,
   "metadata": {
    "colab": {},
    "colab_type": "code",
    "id": "uRa566HoNVE9"
   },
   "outputs": [],
   "source": [
    "%config InlineBackend.figure_formats = ['svg']\n",
    "%matplotlib inline"
   ]
  },
  {
   "attachments": {},
   "cell_type": "markdown",
   "metadata": {
    "colab_type": "text",
    "id": "sSeqramENVFB"
   },
   "source": [
    "## Setting Up a Simulation"
   ]
  },
  {
   "attachments": {},
   "cell_type": "markdown",
   "metadata": {
    "colab_type": "text",
    "id": "Vm4ZHAnnNVFC"
   },
   "source": [
    "### Creating an Environment for Spaceport America"
   ]
  },
  {
   "cell_type": "code",
   "execution_count": null,
   "metadata": {
    "colab": {},
    "colab_type": "code",
    "id": "d7mooAZONVFD"
   },
   "outputs": [],
   "source": [
    "env = Environment(\n",
    "    rail_length=5.2, latitude=32.990254, longitude=-106.974998, elevation=1400\n",
    ")"
   ]
  },
  {
   "attachments": {},
   "cell_type": "markdown",
   "metadata": {
    "colab_type": "text",
    "id": "Fz8Ha6usNVFH"
   },
   "source": [
    "To get weather data from the GFS forecast, available online, we run the following lines.\n",
    "\n",
    "First, we set tomorrow's date."
   ]
  },
  {
   "cell_type": "code",
   "execution_count": null,
   "metadata": {
    "colab": {},
    "colab_type": "code",
    "id": "5kl-Je8dNVFI"
   },
   "outputs": [],
   "source": [
    "import datetime\n",
    "\n",
    "tomorrow = datetime.date.today() + datetime.timedelta(days=1)\n",
    "\n",
    "env.set_date(\n",
    "    (tomorrow.year, tomorrow.month, tomorrow.day, 12)\n",
    ")  # Hour given in UTC time"
   ]
  },
  {
   "attachments": {},
   "cell_type": "markdown",
   "metadata": {
    "colab_type": "text",
    "id": "or5MLF9gNVFM"
   },
   "source": [
    "Then, we tell env to use a GFS forecast to get the atmospheric conditions for flight.\n",
    "\n",
    "Don't mind the warning, it just means that not all variables, such as wind speed or atmospheric temperature, are available at all altitudes given by the forecast."
   ]
  },
  {
   "cell_type": "code",
   "execution_count": null,
   "metadata": {
    "colab": {},
    "colab_type": "code",
    "id": "g73fa7DWNVFN"
   },
   "outputs": [],
   "source": [
    "env.set_atmospheric_model(type=\"Forecast\", file=\"GFS\")"
   ]
  },
  {
   "attachments": {},
   "cell_type": "markdown",
   "metadata": {
    "colab_type": "text",
    "id": "wSnZQuRYNVFS"
   },
   "source": [
    "We can see what the weather will look like by calling the info method!"
   ]
  },
  {
   "cell_type": "code",
   "execution_count": null,
   "metadata": {
    "colab": {},
    "colab_type": "code",
    "id": "H_AMjVTjNVFT"
   },
   "outputs": [],
   "source": [
    "env.info()"
   ]
  },
  {
   "attachments": {},
   "cell_type": "markdown",
   "metadata": {
    "colab_type": "text",
    "id": "Aksbs-pMNVFW"
   },
   "source": [
    "### Creating a Motor\n",
    "\n",
    "A solid rocket motor is used in this case. To create a motor, the SolidMotor class is used and the required arguments are given.\n",
    "\n",
    "The SolidMotor class requires the user to have a thrust curve ready. This can come either from a .eng file for a commercial motor, such as below, or a .csv file from a static test measurement.\n",
    "\n",
    "Besides the thrust curve, other parameters such as grain properties and nozzle dimensions must also be given."
   ]
  },
  {
   "cell_type": "code",
   "execution_count": null,
   "metadata": {
    "colab": {},
    "colab_type": "code",
    "id": "Vx1dZObwNVFX"
   },
   "outputs": [],
   "source": [
    "Pro75M1670 = SolidMotor(\n",
    "    thrust_source=\"../../data/motors/Cesaroni_M1670.eng\",\n",
    "    burn_time=3.9,\n",
    "    grains_center_of_mass_position=-0.85704,\n",
    "    grain_number=5,\n",
    "    grain_separation=5 / 1000,\n",
    "    grain_density=1815,\n",
    "    grain_outer_radius=33 / 1000,\n",
    "    grain_initial_inner_radius=15 / 1000,\n",
    "    grain_initial_height=120 / 1000,\n",
    "    nozzle_radius=33 / 1000,\n",
    "    throat_radius=11 / 1000,\n",
    "    interpolation_method=\"linear\",\n",
    "    nozzle_position=-1.255,\n",
    "    coordinate_system_orientation=\"nozzle_to_combustion_chamber\",\n",
    ")\n",
    "# TODO check coordinate_system_orientation when input string is mispelled"
   ]
  },
  {
   "attachments": {},
   "cell_type": "markdown",
   "metadata": {
    "colab_type": "text",
    "id": "E1LJDIa0NVFa"
   },
   "source": [
    "The arguments *`nozzle_position`* and *`coordinate_system_orientation`* need to be handled with care since the coordinate system origin is chosen by the user. This means that *`nozzle_position`* is given with respect to an arbitrary reference. The definition of these arguments are really helpful:\n",
    "\n",
    "- `coordinate_system_orientation` : *string, optional*\n",
    "\n",
    "        Orientation of the motor's coordinate system. The coordinate system is\n",
    "        defined by the motor's axis of symmetry. The origin of the coordinate\n",
    "        system may be placed anywhere along such axis, such as at the nozzle area,\n",
    "        and must be kept the same for all other positions specified.\n",
    "        Options are \"nozzle_to_combustion_chamber\" and \"combustionChamberToNozzle\".\n",
    "        Default is \"nozzle_to_combustion_chamber\".\n",
    "\n",
    "\n",
    "- `nozzle_position` : *float, optional*\n",
    "\n",
    "        Motor's nozzle outlet position in meters. More specifically, the coordinate\n",
    "        of the nozzle outlet specified in the motor's coordinate system.\n",
    "        Default is 0, in which case the origin of the motor's coordinate system\n",
    "        is placed at the motor's nozzle outlet.\n",
    "\n",
    "- `grains_center_of_mass_position` : *float*\n",
    "\n",
    "        Position of the center of mass of the grains in meters. More specifically,\n",
    "        the coordinate of the center of mass specified in the motor's coordinate\n",
    "\n",
    "\n",
    "Here is a useful schematic for explanation:\n",
    "\n",
    "![Motor orientation explanation](https://drive.google.com/uc?export=view&id=1jl5klD6EiRIS2zhgNBSrVKR8Sk_K9JXg)\n",
    "\n",
    "In the calisto example, the coordinate system origin we chose is at the center of dry mass of the rocket. Meaning the nozzle is 1.255 meters away from it. The minus sign comes from the `coordinate_system_orientation` argument, which is responsible for defining the positive direction of the coordinate system. Here is a representation of the reference used in calisto:\n",
    "\n",
    "<img src=\"https://drive.google.com/uc?export=view&id=1IamUZ-OGVFDRi7pP-VFWo5_B02VcFdOL\" alt=\"Drawing\" style=\"width: 500px;\"/>"
   ]
  },
  {
   "attachments": {},
   "cell_type": "markdown",
   "metadata": {},
   "source": [
    "To see what our thrust curve looks like, along with other import properties, we invoke the info method yet again. You may try the allinfo method if you want more information all at once!"
   ]
  },
  {
   "cell_type": "code",
   "execution_count": null,
   "metadata": {
    "colab": {},
    "colab_type": "code",
    "id": "vjyPT7GVNVFb"
   },
   "outputs": [],
   "source": [
    "Pro75M1670.info()"
   ]
  },
  {
   "attachments": {},
   "cell_type": "markdown",
   "metadata": {
    "colab_type": "text",
    "id": "kN7y1EwLNVFf"
   },
   "source": [
    "### Creating a Rocket"
   ]
  },
  {
   "attachments": {},
   "cell_type": "markdown",
   "metadata": {
    "colab_type": "text",
    "id": "_Ee-0vb5NVFg"
   },
   "source": [
    "A rocket is composed of several components. Namely, we must have a motor (good thing we have the Pro75M1670 ready), a couple of aerodynamic surfaces (nose cone, fins and tail) and parachutes (if we are not launching a missile).\n",
    "\n",
    "Let's start by initializing our rocket, named calisto, entering inertia properties, some dimensions and drag curves. "
   ]
  },
  {
   "attachments": {},
   "cell_type": "markdown",
   "metadata": {},
   "source": [
    "Here are some definitions that might prove useful. Check out the documentation for more.\n",
    "\n",
    "- *`mass`* : *int, float*\n",
    "        \n",
    "        Unloaded rocket total mass (without propellant) in kg.\n",
    "\n",
    "- *`inertia_i`* : *int, float*\n",
    "        \n",
    "        Unloaded rocket lateral (perpendicular to axis of symmetry)\n",
    "        moment of inertia (without propellant) in kg m^2.\n",
    "\n",
    "- *`inertia_z`* : *int, float*\n",
    "\n",
    "        Unloaded rocket axial moment of inertia (without propellant) in kg m^2.\n",
    "\n",
    "- *`power_off_drag`* : *int, float, callable, string, array*\n",
    "\n",
    "        Rocket's drag coefficient when the motor is off.  If int or float\n",
    "        is given, it is assumed constant. If callable, string or array is\n",
    "        given, it must be a function of Mach number only.\n",
    "\n",
    "- *`power_on_drag`* : *int, float, callable, string, array*\n",
    "\n",
    "        Rocket's drag coefficient when the motor is on. If int or float is\n",
    "        given, it is assumed constant. If callable, string or array is\n",
    "        given, it must be a function of Mach number only."
   ]
  },
  {
   "cell_type": "code",
   "execution_count": null,
   "metadata": {
    "colab": {},
    "colab_type": "code",
    "id": "D1fyK8u_NVFh"
   },
   "outputs": [],
   "source": [
    "calisto = Rocket(\n",
    "    radius=127 / 2000,\n",
    "    mass=19.197 - 2.956,\n",
    "    inertia_i=6.60,\n",
    "    inertia_z=0.0351,\n",
    "    power_off_drag=\"../../data/calisto/powerOffDragCurve.csv\",\n",
    "    power_on_drag=\"../../data/calisto/powerOnDragCurve.csv\",\n",
    "    center_of_dry_mass_position=0,\n",
    "    coordinate_system_orientation=\"tail_to_nose\",\n",
    ")\n",
    "\n",
    "calisto.set_rail_buttons(0.2, -0.5)"
   ]
  },
  {
   "attachments": {},
   "cell_type": "markdown",
   "metadata": {},
   "source": [
    "Similar to the motor, the last two arguments, *`center_of_dry_mass_position`* and *`coordinate_system_orientation`*, need special care. Here, the coordinate system origin is chosen by the user. This means that *`center_of_dry_mass_position`* is given with respect to an arbitrary reference. *`coordinate_system_orientation`*.\n",
    "The definitions are also helpful:\n",
    "\n",
    "- `coordinate_system_orientation` : *string, optional*\n",
    "\n",
    "        String defining the orientation of the rocket's coordinate system. The\n",
    "        coordinate system is defined by the rocket's axis of symmetry. The system's\n",
    "        origin may be placed anywhere along such axis and must be kept the same for\n",
    "        all other positions specified.\n",
    "        The two options available are: \"tail_to_nose\" and \"noseToTail\". The first\n",
    "        defines the coordinate system with the rocket's axis of symmetry pointing\n",
    "        from the rocket's tail to the rocket's nose cone. The second option defines\n",
    "        the coordinate system with the rocket's axis of symmetry pointing from the\n",
    "        rocket's nose cone to the rocket's tail. Default is \"tail_to_nose\".\n",
    "\n",
    "\n",
    "- `center_of_dry_mass_position` : *int, float, optional*\n",
    "\n",
    "        Position, in m, of the rocket's center of dry mass (i.e. center of mass\n",
    "        without propellant) relative to the rocket's coordinate system.\n",
    "        Default is 0, which means the center of dry mass is chosen as the origin.\n",
    "\n",
    "\n",
    "\n",
    "And a schematic for explanation:\n",
    "\n",
    "![Rocket orientation explanation](https://drive.google.com/uc?export=view&id=1eEIHobK9gPyL0sgr8vH7EZZtS2Rgs10E)\n",
    "\n",
    "In the calisto example, the coordinate system origin we chose is at the center of dry mass of the rocket. Meaning the nozzle is 1.255 meters away from it. The minus sign comes from the `coordinate_system_orientation` argument, which is responsible for defining the positive direction of the coordinate system. The positions of the motor, the fins, the nose cone, and the tail must also be given by \n",
    "\n",
    "<img src=\"https://drive.google.com/uc?export=view&id=1Z64YTavVbUWq-qX28EJgcBQPCPcxeDYW\" alt=\"Drawing\" style=\"width: 600px;\"/>\n",
    "\n",
    "It is important to note that the position of the origin of the coordinate system can be anywhere, as long as all positions are given coherently. This means that you could input all positions based on the nosecone's tip, or based on the coordinates of a CAD model."
   ]
  },
  {
   "attachments": {},
   "cell_type": "markdown",
   "metadata": {},
   "source": [
    "To add the motor to our rocket we need only inform what motor we are adding (Pro75M1670) and inform the position, in meters, of the motor's nozzle exit area relative to the previously defined coordinate system."
   ]
  },
  {
   "cell_type": "code",
   "execution_count": null,
   "metadata": {},
   "outputs": [],
   "source": [
    "calisto.add_motor(Pro75M1670, position=-1.255)"
   ]
  },
  {
   "attachments": {},
   "cell_type": "markdown",
   "metadata": {
    "colab_type": "text",
    "id": "CfOfqmroNVFk"
   },
   "source": [
    "#### Adding Aerodynamic Surfaces"
   ]
  },
  {
   "attachments": {},
   "cell_type": "markdown",
   "metadata": {
    "colab_type": "text",
    "id": "LuUdEmWhNVFl"
   },
   "source": [
    "Now we define the aerodynamic surfaces. They are really straight forward with special attention needed only for the position values. Here is a quick guide:\n",
    "\n",
    "- The positions given **must** be relative to the same coordinate system as the rockets;\n",
    "- Position of the nose cone refers to the tip of the nose;\n",
    "- Position of fins refers to the point belonging to the root chord which is highest in the rocket coordinate system;\n",
    "- Position of the tail the point belonging to the tail which is highest in the rocket coordinate system."
   ]
  },
  {
   "cell_type": "code",
   "execution_count": null,
   "metadata": {
    "colab": {},
    "colab_type": "code",
    "id": "AQbv244VNVFm"
   },
   "outputs": [],
   "source": [
    "nosecone = calisto.add_nose(\n",
    "    length=0.55829, kind=\"vonKarman\", position=0.71971 + 0.55829\n",
    ")\n",
    "\n",
    "fin_set = calisto.add_trapezoidal_fins(\n",
    "    n=4,\n",
    "    root_chord=0.120,\n",
    "    tip_chord=0.040,\n",
    "    span=0.100,\n",
    "    position=-1.04956,\n",
    "    cant_angle=0,\n",
    "    radius=None,\n",
    "    airfoil=None,\n",
    ")\n",
    "\n",
    "tail = calisto.add_tail(\n",
    "    top_radius=0.0635, bottom_radius=0.0435, length=0.060, position=-1.194656\n",
    ")"
   ]
  },
  {
   "attachments": {},
   "cell_type": "markdown",
   "metadata": {},
   "source": [
    "To see all information regarding the rocket we just defined we run:"
   ]
  },
  {
   "cell_type": "code",
   "execution_count": null,
   "metadata": {},
   "outputs": [],
   "source": [
    "calisto.allinfo()"
   ]
  },
  {
   "attachments": {},
   "cell_type": "markdown",
   "metadata": {
    "colab_type": "text",
    "id": "D8oKc7s2NVFp"
   },
   "source": [
    "#### Adding Parachutes"
   ]
  },
  {
   "attachments": {},
   "cell_type": "markdown",
   "metadata": {
    "colab_type": "text",
    "id": "IxAX61ZENVFq"
   },
   "source": [
    "Finally, we have parachutes! calisto will have two parachutes, Drogue and Main.\n",
    "\n",
    "Both parachutes are activated by some special algorithm, which is usually really complex and a trade secret. Most algorithms are based on pressure sampling only, while some also use acceleration info.\n",
    "\n",
    "RocketPy allows you to define a trigger function which will decide when to activate the ejection event for each parachute. This trigger function is supplied with pressure measurement at a predefined sampling rate. This pressure signal is usually noisy, so artificial noise parameters can be given. Call help(Rocket.add_parachute) for more details. Furthermore, the trigger function also receives the complete state vector of the rocket, allowing us to use velocity, acceleration or even attitude to decide when the parachute event should be triggered.\n",
    "\n",
    "Here, we define our trigger functions rather simply using Python. However, you can call the exact code which will fly inside your rocket as well."
   ]
  },
  {
   "cell_type": "code",
   "execution_count": null,
   "metadata": {
    "colab": {},
    "colab_type": "code",
    "id": "f0PmLcF8NVFr"
   },
   "outputs": [],
   "source": [
    "def drogue_trigger(p, h, y):\n",
    "    # p = pressure\n",
    "    # y = [x, y, z, vx, vy, vz, e0, e1, e2, e3, w1, w2, w3]\n",
    "    # activate drogue when vz < 0 m/s.\n",
    "    return True if y[5] < 0 else False\n",
    "\n",
    "\n",
    "def main_trigger(p, h, y):\n",
    "    # p = pressure\n",
    "    # y = [x, y, z, vx, vy, vz, e0, e1, e2, e3, w1, w2, w3]\n",
    "    # activate main when vz < 0 m/s and z < 800 + 1400 m (+1400 due to surface elevation).\n",
    "    return True if y[5] < 0 and y[2] < 800 + 1400 else False\n",
    "\n",
    "\n",
    "Main = calisto.add_parachute(\n",
    "    \"Main\",\n",
    "    cd_s=10.0,\n",
    "    trigger=main_trigger,\n",
    "    sampling_rate=105,\n",
    "    lag=1.5,\n",
    "    noise=(0, 8.3, 0.5),\n",
    ")\n",
    "\n",
    "Drogue = calisto.add_parachute(\n",
    "    \"Drogue\",\n",
    "    cd_s=1.0,\n",
    "    trigger=drogue_trigger,\n",
    "    sampling_rate=105,\n",
    "    lag=1.5,\n",
    "    noise=(0, 8.3, 0.5),\n",
    ")"
   ]
  },
  {
   "attachments": {},
   "cell_type": "markdown",
   "metadata": {
    "colab_type": "text",
    "id": "xIoXe33FNVFv"
   },
   "source": [
    "Just be careful if you run this last cell multiple times! If you do so, your rocket will end up with lots of parachutes which activate together, which may cause problems during the flight simulation. We advise you to re-run all cells which define our rocket before running this, preventing unwanted old parachutes. Alternatively, you can run the following lines to remove parachutes.\n",
    "\n",
    "```python\n",
    "calisto.parachutes.remove(Drogue)\n",
    "calisto.parachutes.remove(Main)\n",
    "```"
   ]
  },
  {
   "attachments": {},
   "cell_type": "markdown",
   "metadata": {
    "colab_type": "text",
    "id": "4PR0fgSbNVFw"
   },
   "source": [
    "## Simulating a Flight\n",
    "\n",
    "Simulating a flight trajectory is as simple as initializing a Flight class object givin the rocket and environnement set up above as inputs. The launch rail inclination and heading are also given here."
   ]
  },
  {
   "cell_type": "code",
   "execution_count": null,
   "metadata": {
    "colab": {},
    "colab_type": "code",
    "id": "v__Ud2p2NVFx"
   },
   "outputs": [],
   "source": [
    "test_flight = Flight(rocket=calisto, environment=env, inclination=85, heading=0)"
   ]
  },
  {
   "attachments": {},
   "cell_type": "markdown",
   "metadata": {
    "colab_type": "text",
    "id": "8SjrGQqzNVF0"
   },
   "source": [
    "## Analyzing the Results\n",
    "\n",
    "RocketPy gives you many plots, thats for sure! They are divided into sections to keep them organized. Alternatively, see the Flight class documentation to see how to get plots for specific variables only, instead of all of them at once."
   ]
  },
  {
   "cell_type": "code",
   "execution_count": null,
   "metadata": {
    "colab": {},
    "colab_type": "code",
    "id": "Hh4A_RQzNVF0",
    "scrolled": false
   },
   "outputs": [],
   "source": [
    "test_flight.allinfo()"
   ]
  },
  {
   "attachments": {},
   "cell_type": "markdown",
   "metadata": {},
   "source": [
    "Export Flight Trajectory to a .kml file so it can be opened on Google Earth"
   ]
  },
  {
   "cell_type": "code",
   "execution_count": null,
   "metadata": {},
   "outputs": [],
   "source": [
    "test_flight.export_kml(\n",
    "    file_name=\"trajectory.kml\",\n",
    "    extrude=True,\n",
    "    altitude_mode=\"relativetoground\",\n",
    ")"
   ]
  },
  {
   "attachments": {},
   "cell_type": "markdown",
   "metadata": {
    "colab_type": "text",
    "id": "Aun9D2OINVF4"
   },
   "source": [
    "## Using Simulation for Design\n",
    "\n",
    "Here, we go through a couple of examples which make use of RocketPy in cool ways to help us design our rocket."
   ]
  },
  {
   "attachments": {},
   "cell_type": "markdown",
   "metadata": {
    "colab_type": "text",
    "id": "gcT43lt2NVF5"
   },
   "source": [
    "### Dynamic Stability Analysis"
   ]
  },
  {
   "attachments": {},
   "cell_type": "markdown",
   "metadata": {
    "colab_type": "text",
    "id": "tFd1yJujNVF6"
   },
   "source": [
    "Ever wondered how static stability translates into dynamic stability? Different static margins result in different dynamic behavior, which also depends on the rocket's rotational inertial.\n",
    "\n",
    "Let's make use of RocketPy's helper class called Function to explore how the dynamic stability of calisto varies if we change the fins span by a certain factor."
   ]
  },
  {
   "cell_type": "code",
   "execution_count": null,
   "metadata": {
    "colab": {},
    "colab_type": "code",
    "id": "ULLEtVz7NVF7"
   },
   "outputs": [],
   "source": [
    "# Helper class\n",
    "from rocketpy import Function\n",
    "\n",
    "# Prepare Rocket Class\n",
    "calisto = Rocket(\n",
    "    radius=127 / 2000,\n",
    "    mass=19.197 - 2.956,\n",
    "    inertia_i=6.60,\n",
    "    inertia_z=0.0351,\n",
    "    power_off_drag=\"../../data/calisto/powerOffDragCurve.csv\",\n",
    "    power_on_drag=\"../../data/calisto/powerOnDragCurve.csv\",\n",
    "    center_of_dry_mass_position=0,\n",
    "    coordinate_system_orientation=\"tail_to_nose\",\n",
    ")\n",
    "\n",
    "calisto.set_rail_buttons(0.2, -0.5)\n",
    "\n",
    "calisto.add_motor(Pro75M1670, position=-1.255)\n",
    "\n",
    "nosecone = calisto.add_nose(\n",
    "    length=0.55829, kind=\"vonKarman\", position=0.71971 + 0.55829\n",
    ")\n",
    "\n",
    "fin_set = calisto.add_trapezoidal_fins(\n",
    "    n=4,\n",
    "    root_chord=0.120,\n",
    "    tip_chord=0.040,\n",
    "    span=0.100,\n",
    "    position=-1.04956,\n",
    "    cant_angle=0,\n",
    "    radius=None,\n",
    "    airfoil=None,\n",
    ")\n",
    "tail = calisto.add_tail(\n",
    "    top_radius=0.0635, bottom_radius=0.0435, length=0.060, position=-1.194656\n",
    ")\n",
    "\n",
    "# Prepare Environment Class\n",
    "env = Environment(5.2, 9.8)\n",
    "env.set_atmospheric_model(type=\"custom_atmosphere\", wind_v=-5)\n",
    "\n",
    "# Simulate Different Static Margins by Varying Fin Position\n",
    "simulation_results = []\n",
    "\n",
    "for factor in [0.5, 0.7, 0.9, 1.1, 1.3]:\n",
    "    # Modify rocket fin set by removing previous one and adding new one\n",
    "    calisto.aerodynamic_surfaces.remove((fin_set, fin_set.position))\n",
    "    fin_set = calisto.add_trapezoidal_fins(\n",
    "        4, span=0.100, root_chord=0.120, tip_chord=0.040, position=-1.04956 * factor\n",
    "    )\n",
    "    # Simulate\n",
    "    print(\n",
    "        \"Simulating Rocket with Static Margin of {:1.3f}->{:1.3f} c\".format(\n",
    "            calisto.static_margin(0), calisto.static_margin(calisto.motor.burn_out_time)\n",
    "        )\n",
    "    )\n",
    "    test_flight = Flight(\n",
    "        rocket=calisto,\n",
    "        environment=env,\n",
    "        inclination=90,\n",
    "        heading=0,\n",
    "        max_time_step=0.01,\n",
    "        max_time=5,\n",
    "        terminate_on_apogee=True,\n",
    "        verbose=True,\n",
    "    )\n",
    "    # Post process flight data\n",
    "    test_flight.post_process()\n",
    "    # Store Results\n",
    "    static_margin_at_ignition = calisto.static_margin(0)\n",
    "    static_margin_at_out_of_rail = calisto.static_margin(test_flight.out_of_rail_time)\n",
    "    static_margin_at_steady_state = calisto.static_margin(test_flight.t_final)\n",
    "    simulation_results += [\n",
    "        (\n",
    "            test_flight.attitude_angle,\n",
    "            \"{:1.2f} c | {:1.2f} c | {:1.2f} c\".format(\n",
    "                static_margin_at_ignition,\n",
    "                static_margin_at_out_of_rail,\n",
    "                static_margin_at_steady_state,\n",
    "            ),\n",
    "        )\n",
    "    ]\n",
    "\n",
    "Function.compare_plots(\n",
    "    simulation_results,\n",
    "    lower=0,\n",
    "    upper=1.5,\n",
    "    xlabel=\"Time (s)\",\n",
    "    ylabel=\"Attitude Angle (deg)\",\n",
    ")"
   ]
  },
  {
   "attachments": {},
   "cell_type": "markdown",
   "metadata": {
    "colab_type": "text",
    "id": "WHIeM9f3NVF_"
   },
   "source": [
    "### Characteristic Frequency Calculation\n",
    "\n",
    "Here we analyse the characteristic frequency of oscillation of our rocket just as it leaves the launch rail. Note that when we ran test_flight.allinfo(), one of the plots already showed us the frequency spectrum of our flight. Here, however, we have more control of what we are plotting."
   ]
  },
  {
   "cell_type": "code",
   "execution_count": null,
   "metadata": {
    "colab": {},
    "colab_type": "code",
    "id": "OJdN2XMANVGA"
   },
   "outputs": [],
   "source": [
    "import numpy as np\n",
    "import matplotlib.pyplot as plt\n",
    "\n",
    "env = Environment(\n",
    "    rail_length=5.2, latitude=32.990254, longitude=-106.974998, elevation=1400\n",
    ")\n",
    "\n",
    "env.set_atmospheric_model(type=\"custom_atmosphere\", wind_v=-5)\n",
    "\n",
    "# Prepare Motor\n",
    "Pro75M1670 = SolidMotor(\n",
    "    thrust_source=\"../../data/motors/Cesaroni_M1670.eng\",\n",
    "    burn_time=3.9,\n",
    "    grains_center_of_mass_position=-0.85704,\n",
    "    grain_number=5,\n",
    "    grain_separation=5 / 1000,\n",
    "    grain_density=1815,\n",
    "    grain_outer_radius=33 / 1000,\n",
    "    grain_initial_inner_radius=15 / 1000,\n",
    "    grain_initial_height=120 / 1000,\n",
    "    nozzle_radius=33 / 1000,\n",
    "    throat_radius=11 / 1000,\n",
    "    interpolation_method=\"linear\",\n",
    "    nozzle_position=-1.255,\n",
    "    coordinate_system_orientation=\"nozzle_to_combustion_chamber\",\n",
    ")\n",
    "\n",
    "# Prepare Rocket\n",
    "calisto = Rocket(\n",
    "    radius=127 / 2000,\n",
    "    mass=19.197 - 2.956,\n",
    "    inertia_i=6.60,\n",
    "    inertia_z=0.0351,\n",
    "    power_off_drag=\"../../data/calisto/powerOffDragCurve.csv\",\n",
    "    power_on_drag=\"../../data/calisto/powerOnDragCurve.csv\",\n",
    "    center_of_dry_mass_position=0,\n",
    "    coordinate_system_orientation=\"tail_to_nose\",\n",
    ")\n",
    "\n",
    "calisto.set_rail_buttons(0.2, -0.5)\n",
    "\n",
    "calisto.add_motor(Pro75M1670, position=-1.255)\n",
    "\n",
    "nosecone = calisto.add_nose(\n",
    "    length=0.55829, kind=\"vonKarman\", position=0.71971 + 0.55829\n",
    ")\n",
    "\n",
    "fin_set = calisto.add_trapezoidal_fins(\n",
    "    n=4,\n",
    "    root_chord=0.120,\n",
    "    tip_chord=0.040,\n",
    "    span=0.100,\n",
    "    position=-1.04956,\n",
    "    cant_angle=0,\n",
    "    radius=None,\n",
    "    airfoil=None,\n",
    ")\n",
    "\n",
    "tail = calisto.add_tail(\n",
    "    top_radius=0.0635, bottom_radius=0.0435, length=0.060, position=-1.194656\n",
    ")\n",
    "\n",
    "# Simulate first 5 seconds of Flight\n",
    "test_flight = Flight(\n",
    "    rocket=calisto,\n",
    "    environment=env,\n",
    "    inclination=90,\n",
    "    heading=0,\n",
    "    max_time_step=0.01,\n",
    "    max_time=5,\n",
    ")\n",
    "test_flight.post_process()\n",
    "\n",
    "# Perform a Fourier Analysis\n",
    "Fs = 100.0\n",
    "# sampling rate\n",
    "Ts = 1.0 / Fs\n",
    "# sampling interval\n",
    "t = np.arange(1, 400, Ts)  # time vector\n",
    "ff = 5\n",
    "# frequency of the signal\n",
    "y = test_flight.attitude_angle(t) - np.mean(test_flight.attitude_angle(t))\n",
    "n = len(y)  # length of the signal\n",
    "k = np.arange(n)\n",
    "T = n / Fs\n",
    "frq = k / T  # two sides frequency range\n",
    "frq = frq[range(n // 2)]  # one side frequency range\n",
    "Y = np.fft.fft(y) / n  # fft computing and normalization\n",
    "Y = Y[range(n // 2)]\n",
    "fig, ax = plt.subplots(2, 1)\n",
    "ax[0].plot(t, y)\n",
    "ax[0].set_xlabel(\"Time\")\n",
    "ax[0].set_ylabel(\"Signal\")\n",
    "ax[0].set_xlim((0, 5))\n",
    "ax[1].plot(frq, abs(Y), \"r\")  # plotting the spectrum\n",
    "ax[1].set_xlabel(\"Freq (Hz)\")\n",
    "ax[1].set_ylabel(\"|Y(freq)|\")\n",
    "ax[1].set_xlim((0, 5))\n",
    "plt.subplots_adjust(hspace=0.5)\n",
    "plt.show()\n",
    "\n",
    "# TODO ask gio about this cell"
   ]
  },
  {
   "attachments": {},
   "cell_type": "markdown",
   "metadata": {
    "colab_type": "text",
    "id": "qsXBVgGANVGD"
   },
   "source": [
    "### Apogee as a Function of Mass\n",
    "\n",
    "This one is a classic one! We always need to know how much our rocket's apogee will change when our payload gets heavier."
   ]
  },
  {
   "cell_type": "code",
   "execution_count": null,
   "metadata": {
    "colab": {},
    "colab_type": "code",
    "id": "XAxTud5MNVGE"
   },
   "outputs": [],
   "source": [
    "def apogee(mass):\n",
    "    # Prepare Environment\n",
    "    env = Environment(\n",
    "        rail_length=5.2,\n",
    "        latitude=32.990254,\n",
    "        longitude=-106.974998,\n",
    "        elevation=1400,\n",
    "        date=(2018, 6, 20, 18),\n",
    "    )\n",
    "\n",
    "    env.set_atmospheric_model(type=\"custom_atmosphere\", wind_v=-5)\n",
    "\n",
    "    # Prepare Motor\n",
    "    Pro75M1670 = SolidMotor(\n",
    "        thrust_source=\"../../data/motors/Cesaroni_M1670.eng\",\n",
    "        burn_time=3.9,\n",
    "        grains_center_of_mass_position=-0.85704,\n",
    "        grain_number=5,\n",
    "        grain_separation=5 / 1000,\n",
    "        grain_density=1815,\n",
    "        grain_outer_radius=33 / 1000,\n",
    "        grain_initial_inner_radius=15 / 1000,\n",
    "        grain_initial_height=120 / 1000,\n",
    "        nozzle_radius=33 / 1000,\n",
    "        throat_radius=11 / 1000,\n",
    "        interpolation_method=\"linear\",\n",
    "        nozzle_position=-1.255,\n",
    "        coordinate_system_orientation=\"nozzle_to_combustion_chamber\",\n",
    "    )\n",
    "\n",
    "    # Prepare Rocket\n",
    "    calisto = Rocket(\n",
    "        radius=127 / 2000,\n",
    "        mass=mass,\n",
    "        inertia_i=6.60,\n",
    "        inertia_z=0.0351,\n",
    "        power_off_drag=\"../../data/calisto/powerOffDragCurve.csv\",\n",
    "        power_on_drag=\"../../data/calisto/powerOnDragCurve.csv\",\n",
    "        center_of_dry_mass_position=0,\n",
    "        coordinate_system_orientation=\"tail_to_nose\",\n",
    "    )\n",
    "\n",
    "    calisto.set_rail_buttons(0.2, -0.5)\n",
    "\n",
    "    calisto.add_motor(Pro75M1670, position=-1.255)\n",
    "\n",
    "    nosecone = calisto.add_nose(\n",
    "        length=0.55829, kind=\"vonKarman\", position=0.71971 + 0.55829\n",
    "    )\n",
    "\n",
    "    fin_set = calisto.add_trapezoidal_fins(\n",
    "        n=4,\n",
    "        root_chord=0.120,\n",
    "        tip_chord=0.040,\n",
    "        span=0.100,\n",
    "        position=-1.04956,\n",
    "        cant_angle=0,\n",
    "        radius=None,\n",
    "        airfoil=None,\n",
    "    )\n",
    "\n",
    "    tail = calisto.add_tail(\n",
    "        top_radius=0.0635, bottom_radius=0.0435, length=0.060, position=-1.194656\n",
    "    )\n",
    "\n",
    "    # Simulate Flight until Apogee\n",
    "    test_flight = Flight(\n",
    "        rocket=calisto,\n",
    "        environment=env,\n",
    "        inclination=85,\n",
    "        heading=0,\n",
    "        terminate_on_apogee=True,\n",
    "    )\n",
    "    return test_flight.apogee - env.elevation\n",
    "\n",
    "\n",
    "apogeebymass = Function(apogee, inputs=\"Mass (kg)\", outputs=\"Estimated Apogee (m)\")\n",
    "apogeebymass.plot(8, 20, 20)"
   ]
  },
  {
   "attachments": {},
   "cell_type": "markdown",
   "metadata": {
    "colab_type": "text",
    "id": "yBMOVQnUNVGG"
   },
   "source": [
    "### Out of Rail Speed as a Function of Mass\n",
    "\n",
    "To finish off, lets make a really important plot. Out of rail speed is the speed our rocket has when it is leaving the launch rail. This is crucial to make sure it can fly safely after leaving the rail. A common rule of thumb is that our rocket's out of rail speed should be 4 times the wind speed so that it does not stall and become unstable."
   ]
  },
  {
   "cell_type": "code",
   "execution_count": null,
   "metadata": {
    "colab": {},
    "colab_type": "code",
    "id": "MJ7YRKt8NVGH"
   },
   "outputs": [],
   "source": [
    "def speed(mass):\n",
    "    # Prepare Environment\n",
    "    env = Environment(\n",
    "        rail_length=5.2,\n",
    "        latitude=32.990254,\n",
    "        longitude=-106.974998,\n",
    "        elevation=1400,\n",
    "        date=(2018, 6, 20, 18),\n",
    "    )\n",
    "\n",
    "    env.set_atmospheric_model(type=\"custom_atmosphere\", wind_v=-5)\n",
    "\n",
    "    # Prepare Motor\n",
    "    Pro75M1670 = SolidMotor(\n",
    "        thrust_source=\"../../data/motors/Cesaroni_M1670.eng\",\n",
    "        burn_time=3.9,\n",
    "        grains_center_of_mass_position=-0.85704,\n",
    "        grain_number=5,\n",
    "        grain_separation=5 / 1000,\n",
    "        grain_density=1815,\n",
    "        grain_outer_radius=33 / 1000,\n",
    "        grain_initial_inner_radius=15 / 1000,\n",
    "        grain_initial_height=120 / 1000,\n",
    "        nozzle_radius=33 / 1000,\n",
    "        throat_radius=11 / 1000,\n",
    "        interpolation_method=\"linear\",\n",
    "        nozzle_position=-1.255,\n",
    "        coordinate_system_orientation=\"nozzle_to_combustion_chamber\",\n",
    "    )\n",
    "\n",
    "    # Prepare Rocket\n",
    "    calisto = Rocket(\n",
    "        radius=127 / 2000,\n",
    "        mass=mass,\n",
    "        inertia_i=6.60,\n",
    "        inertia_z=0.0351,\n",
    "        power_off_drag=\"../../data/calisto/powerOffDragCurve.csv\",\n",
    "        power_on_drag=\"../../data/calisto/powerOnDragCurve.csv\",\n",
    "        center_of_dry_mass_position=0,\n",
    "        coordinate_system_orientation=\"tail_to_nose\",\n",
    "    )\n",
    "\n",
    "    calisto.set_rail_buttons(0.2, -0.5)\n",
    "\n",
    "    calisto.add_motor(Pro75M1670, position=-1.255)\n",
    "\n",
    "    nosecone = calisto.add_nose(\n",
    "        length=0.55829, kind=\"vonKarman\", position=0.71971 + 0.55829\n",
    "    )\n",
    "\n",
    "    fin_set = calisto.add_trapezoidal_fins(\n",
    "        n=4,\n",
    "        root_chord=0.120,\n",
    "        tip_chord=0.040,\n",
    "        span=0.100,\n",
    "        position=-1.04956,\n",
    "        cant_angle=0,\n",
    "        radius=None,\n",
    "        airfoil=None,\n",
    "    )\n",
    "\n",
    "    tail = calisto.add_tail(\n",
    "        top_radius=0.0635, bottom_radius=0.0435, length=0.060, position=-1.194656\n",
    "    )\n",
    "\n",
    "    # Simulate Flight until Apogee\n",
    "    test_flight = Flight(\n",
    "        rocket=calisto,\n",
    "        environment=env,\n",
    "        inclination=85,\n",
    "        heading=0,\n",
    "        terminate_on_apogee=True,\n",
    "    )\n",
    "    return test_flight.out_of_rail_velocity\n",
    "\n",
    "\n",
    "speedbymass = Function(speed, inputs=\"Mass (kg)\", outputs=\"Out of Rail Speed (m/s)\")\n",
    "speedbymass.plot(8, 20, 20)"
   ]
  }
 ],
 "metadata": {
  "colab": {
   "name": "getting_started.ipynb",
   "provenance": [],
   "toc_visible": true
  },
  "hide_input": false,
  "kernelspec": {
   "display_name": "Python 3.10.0 ('rocketpy_dev')",
   "language": "python",
   "name": "python3"
  },
  "language_info": {
   "codemirror_mode": {
    "name": "ipython",
    "version": 3
   },
   "file_extension": ".py",
   "mimetype": "text/x-python",
   "name": "python",
   "nbconvert_exporter": "python",
   "pygments_lexer": "ipython3",
   "version": "3.11.0"
  },
  "vscode": {
   "interpreter": {
    "hash": "18e93d5347af13ace37d47ea4e2a2ad720f0331bd9cb28f9983f5585f4dfaa5c"
   }
  }
 },
 "nbformat": 4,
 "nbformat_minor": 2
}
