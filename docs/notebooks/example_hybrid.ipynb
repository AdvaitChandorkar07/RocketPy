{
 "cells": [
  {
   "attachments": {},
   "cell_type": "markdown",
   "metadata": {},
   "source": [
    "# Hybrid Motor\n"
   ]
  },
  {
   "attachments": {},
   "cell_type": "markdown",
   "metadata": {},
   "source": [
    "A hybrid motor is\n",
    "\n",
    "For simulating this kind of motor in RocketPy,\n"
   ]
  },
  {
   "cell_type": "code",
   "execution_count": null,
   "metadata": {},
   "outputs": [],
   "source": [
    "from rocketpy.motors import HybridMotor, CylindricalTank\n",
    "from rocketpy.motors.Tank import MassFlowRateBasedTank\n",
    "from rocketpy.motors import Fluid"
   ]
  },
  {
   "attachments": {},
   "cell_type": "markdown",
   "metadata": {},
   "source": [
    "## Setting the fluids\n"
   ]
  },
  {
   "cell_type": "code",
   "execution_count": null,
   "metadata": {},
   "outputs": [],
   "source": [
    "oxidizer_liq = Fluid(name=\"N2O_l\", density=1220, quality=1)\n",
    "oxidizer_gas = Fluid(name=\"N2O_g\", density=1.9277, quality=1)"
   ]
  },
  {
   "attachments": {},
   "cell_type": "markdown",
   "metadata": {},
   "source": [
    "## Setting the tank\n"
   ]
  },
  {
   "attachments": {},
   "cell_type": "markdown",
   "metadata": {},
   "source": [
    "The tank will hold the liquid oxidizer, in this case, nitrous oxide.\n",
    "\n",
    "We first create te tank geometry, and then the tank object itself.\n"
   ]
  },
  {
   "cell_type": "code",
   "execution_count": null,
   "metadata": {},
   "outputs": [],
   "source": [
    "tank_shape = CylindricalTank(115 / 2000, 0.705)"
   ]
  },
  {
   "cell_type": "code",
   "execution_count": null,
   "metadata": {},
   "outputs": [],
   "source": [
    "oxidizer_tank = MassFlowRateBasedTank(\n",
    "    name=\"oxidizer tank\",\n",
    "    geometry=tank_shape,\n",
    "    flux_time=(5.2),\n",
    "    initial_liquid_mass=4.11,\n",
    "    initial_gas_mass=0,\n",
    "    liquid_mass_flow_rate_in=0,\n",
    "    liquid_mass_flow_rate_out=(4.11 - 0.5) / 5.2,\n",
    "    gas_mass_flow_rate_in=0,\n",
    "    gas_mass_flow_rate_out=0,\n",
    "    liquid=oxidizer_liq,\n",
    "    gas=oxidizer_gas,\n",
    ")"
   ]
  },
  {
   "attachments": {},
   "cell_type": "markdown",
   "metadata": {},
   "source": [
    "## Create the HybridMotor object\n"
   ]
  },
  {
   "cell_type": "code",
   "execution_count": null,
   "metadata": {},
   "outputs": [],
   "source": [
    "hybrid_motor = HybridMotor(\n",
    "    thrustSource=lambda t: 2000 - (2000 - 1400) / 5.2 * t,\n",
    "    dry_mass=100,\n",
    "    dry_inertia=(0, 0, 0),\n",
    "    center_of_dry_mass=550 / 2000 + 109 / 1000,\n",
    "    burn_time=5.2,\n",
    "    reshapeThrustCurve=False,\n",
    "    grainNumber=4,\n",
    "    grainSeparation=0,\n",
    "    grainOuterRadius=115 / 2000,\n",
    "    grainInitialInnerRadius=0.05 / 2,\n",
    "    grainInitialHeight=550 / 4000,\n",
    "    grainDensity=900,\n",
    "    nozzleRadius=63.36 / 2000,\n",
    "    throatRadius=26 / 2000,\n",
    "    interpolationMethod=\"linear\",\n",
    "    grainsCenterOfMassPosition=550 / 2000 + 109 / 1000,\n",
    ")"
   ]
  },
  {
   "attachments": {},
   "cell_type": "markdown",
   "metadata": {},
   "source": [
    "## Visualize the results\n"
   ]
  },
  {
   "attachments": {},
   "cell_type": "markdown",
   "metadata": {},
   "source": [
    "At this point, you can already check the thrust curve of the motor.\n"
   ]
  },
  {
   "cell_type": "code",
   "execution_count": null,
   "metadata": {},
   "outputs": [],
   "source": [
    "hybrid_motor.thrust()"
   ]
  },
  {
   "attachments": {},
   "cell_type": "markdown",
   "metadata": {},
   "source": [
    "However, we still need to add the tank to the motor.\n"
   ]
  },
  {
   "cell_type": "code",
   "execution_count": null,
   "metadata": {},
   "outputs": [],
   "source": [
    "hybrid_motor.addTank(\n",
    "    tank=oxidizer_tank, position=2 * 550 / 2000 + 109 / 1000 + 0.705 / 2\n",
    ")"
   ]
  },
  {
   "attachments": {},
   "cell_type": "markdown",
   "metadata": {},
   "source": [
    "Now we can proceed with several different plots."
   ]
  },
  {
   "cell_type": "code",
   "execution_count": null,
   "metadata": {},
   "outputs": [],
   "source": [
    "# TODO: mass not burning completely. Is this right?\n",
    "hybrid_motor.propellantMass.plot(0, 5.2)"
   ]
  },
  {
   "cell_type": "code",
   "execution_count": null,
   "metadata": {},
   "outputs": [],
   "source": [
    "# TODO: why isn't there a change in variation in the mass flow rate?\n",
    "hybrid_motor.massFlowRate.plot(0, 5.2)"
   ]
  },
  {
   "cell_type": "code",
   "execution_count": null,
   "metadata": {},
   "outputs": [],
   "source": [
    "# TODO: center of mass starts going back?\n",
    "hybrid_motor.centerOfMass.plot(0, 5.2, samples=50)"
   ]
  },
  {
   "cell_type": "code",
   "execution_count": null,
   "metadata": {},
   "outputs": [],
   "source": [
    "from rocketpy import Function\n",
    "\n",
    "inertias = [\n",
    "    (hybrid_motor.I_11, \"I_11\",),\n",
    "    (hybrid_motor.I_22, \"I_22\",),\n",
    "    (hybrid_motor.I_33, \"I_33\",),\n",
    "]\n",
    "\n",
    "Function.comparePlots(\n",
    "    plot_list=inertias,\n",
    "    lower=0,\n",
    "    upper=5.2,\n",
    "    title=\"Inertia moments of the hybrid motor\",\n",
    "    xlabel=\"Time (s)\",\n",
    "    ylabel=\"Inertia (kg * m^2)\",\n",
    ")"
   ]
  },
  {
   "attachments": {},
   "cell_type": "markdown",
   "metadata": {},
   "source": [
    "Alternatively, one may also want to check all the information at once.\n",
    "This can be done using the `allInfo()` method.\n"
   ]
  },
  {
   "cell_type": "code",
   "execution_count": null,
   "metadata": {},
   "outputs": [],
   "source": [
    "hybrid_motor.allInfo()"
   ]
  }
 ],
 "metadata": {
  "kernelspec": {
   "display_name": "venv",
   "language": "python",
   "name": "python3"
  },
  "language_info": {
   "codemirror_mode": {
    "name": "ipython",
    "version": 3
   },
   "file_extension": ".py",
   "mimetype": "text/x-python",
   "name": "python",
   "nbconvert_exporter": "python",
   "pygments_lexer": "ipython3",
   "version": "3.11.0"
  },
  "orig_nbformat": 4
 },
 "nbformat": 4,
 "nbformat_minor": 2
}
