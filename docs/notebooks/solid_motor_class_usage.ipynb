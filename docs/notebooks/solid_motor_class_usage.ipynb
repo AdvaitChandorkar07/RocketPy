{
    "cells": [
        {
            "cell_type": "markdown",
            "metadata": {},
            "source": [
                "# SolidMotor Class Usage"
            ]
        },
        {
            "cell_type": "markdown",
            "metadata": {},
            "source": [
                "Here we explore different features of the SolidMotor class."
            ]
        },
        {
            "cell_type": "markdown",
            "metadata": {},
            "source": [
                "Let's start by importing the rocketpy module."
            ]
        },
        {
            "cell_type": "code",
            "execution_count": null,
            "metadata": {},
            "outputs": [],
            "source": [
                "from rocketpy import *\n"
            ]
        },
        {
            "cell_type": "markdown",
            "metadata": {},
            "source": [
                "If you are using Jupyter Notebooks, it is recommended to run the following line to make matplotlib plots which will be shown later interactive and higher quality."
            ]
        },
        {
            "cell_type": "code",
            "execution_count": null,
            "metadata": {},
            "outputs": [],
            "source": [
                "%matplotlib widget"
            ]
        },
        {
            "cell_type": "markdown",
            "metadata": {},
            "source": [
                "## Thrust Source"
            ]
        },
        {
            "cell_type": "markdown",
            "metadata": {},
            "source": [
                "The thrust source is of most importance when analysing parameters such as out of rail velocity, thrust to weight ratio, apogee and many others. Let's create a new motor called MOTOR and take a closer look at this funcionality."
            ]
        },
        {
            "cell_type": "markdown",
            "metadata": {},
            "source": [
                "### Constant Thrust"
            ]
        },
        {
            "cell_type": "markdown",
            "metadata": {},
            "source": [
                "When passing an int or float the thrust will be considered constant in time. "
            ]
        },
        {
            "cell_type": "code",
            "execution_count": null,
            "metadata": {},
            "outputs": [],
            "source": [
                "MOTOR = SolidMotor(\n",
                "    thrustSource=1500,\n",
                "    burnOutTime=5.3,\n",
                "    reshapeThrustCurve=False,\n",
                "    grainsCenterOfMassPosition=-0.571,\n",
                "    grainNumber=6,\n",
                "    grainSeparation=6 / 1000,\n",
                "    grainOuterRadius=21.40 / 1000,\n",
                "    grainInitialInnerRadius=9.65 / 1000,\n",
                "    grainInitialHeight=120 / 1000,\n",
                "    grainDensity=1707,\n",
                "    nozzleRadius=21.642 / 1000,\n",
                "    throatRadius=8 / 1000,\n",
                "    interpolationMethod=\"linear\",\n",
                "    nozzlePosition=-1.024,\n",
                "    coordinateSystemOrientation=\"nozzleToCombustionChamber\",\n",
                ")\n"
            ]
        },
        {
            "cell_type": "markdown",
            "metadata": {},
            "source": [
                "Let's call the info method to see what kind of information we get."
            ]
        },
        {
            "cell_type": "code",
            "execution_count": null,
            "metadata": {
                "tags": []
            },
            "outputs": [],
            "source": [
                "MOTOR.info()\n"
            ]
        },
        {
            "cell_type": "markdown",
            "metadata": {},
            "source": [
                "There is valuable information such as Propellant exhaust velocity and Total Impulse being also being displayed. In fact, there is another method called allInfo which outputs even more relevant physical quantities such as grain configuration. Let's try that method also."
            ]
        },
        {
            "cell_type": "code",
            "execution_count": null,
            "metadata": {
                "tags": []
            },
            "outputs": [],
            "source": [
                "MOTOR.allInfo()\n"
            ]
        },
        {
            "cell_type": "markdown",
            "metadata": {},
            "source": [
                "### Thrust From Static Firings (CSV Files)"
            ]
        },
        {
            "cell_type": "markdown",
            "metadata": {},
            "source": [
                "Usually one has much more precise information about the motor and wishes to specify a directory containing a .csv file (the file shall contain no headers) which contains thrust (Newtons) as a function of time (seconds). That can be done as follows:"
            ]
        },
        {
            "cell_type": "code",
            "execution_count": null,
            "metadata": {},
            "outputs": [],
            "source": [
                "MOTOR = SolidMotor(\n",
                "    thrustSource=r\"../../data/motors/keron/thrustCurve.csv\",\n",
                "    burnOutTime=5.274,\n",
                "    reshapeThrustCurve=False,\n",
                "    grainsCenterOfMassPosition=-0.571,\n",
                "    grainNumber=6,\n",
                "    grainSeparation=6 / 1000,\n",
                "    grainOuterRadius=21.40 / 1000,\n",
                "    grainInitialInnerRadius=9.65 / 1000,\n",
                "    grainInitialHeight=120 / 1000,\n",
                "    grainDensity=1707,\n",
                "    nozzleRadius=21.642 / 1000,\n",
                "    throatRadius=8 / 1000,\n",
                "    interpolationMethod=\"linear\",\n",
                "    nozzlePosition=-1.024,\n",
                "    coordinateSystemOrientation=\"nozzleToCombustionChamber\",\n",
                ")\n"
            ]
        },
        {
            "cell_type": "code",
            "execution_count": null,
            "metadata": {
                "tags": []
            },
            "outputs": [],
            "source": [
                "MOTOR.info()\n"
            ]
        },
        {
            "cell_type": "markdown",
            "metadata": {},
            "source": [
                "### Eng Files Are Also Supported! (RASP)"
            ]
        },
        {
            "cell_type": "markdown",
            "metadata": {},
            "source": [
                "Most rocket motors providers share the thrust curve from their motors using the RASP file format (`.eng` files). RocketPy can import such files as the thrust source. Furthermore, if you have a thrust curve in a `.csv`file, RocketPy can also read your data and exported as a `.eng` file."
            ]
        },
        {
            "cell_type": "code",
            "execution_count": null,
            "metadata": {},
            "outputs": [],
            "source": [
                "MOTOR = SolidMotor(\n",
                "    thrustSource=r\"../../data/motors/Cesaroni_7450M2505-P.eng\",\n",
                "    burnOutTime=3.0,\n",
                "    grainsCenterOfMassPosition=-0.571,\n",
                "    grainNumber=6,\n",
                "    grainSeparation=6 / 1000,\n",
                "    grainOuterRadius=21.40 / 1000,\n",
                "    grainInitialInnerRadius=9.65 / 1000,\n",
                "    grainInitialHeight=120 / 1000,\n",
                "    grainDensity=1707,\n",
                "    nozzleRadius=21.642 / 1000,\n",
                "    throatRadius=8 / 1000,\n",
                "    interpolationMethod=\"linear\",\n",
                ")\n"
            ]
        },
        {
            "cell_type": "markdown",
            "metadata": {},
            "source": [
                "#### One More Option..."
            ]
        },
        {
            "cell_type": "markdown",
            "metadata": {},
            "source": [
                "There is also a fourth option where one specifies the thrust source parameter by passing a callable function like below."
            ]
        },
        {
            "cell_type": "code",
            "execution_count": null,
            "metadata": {},
            "outputs": [],
            "source": [
                "MOTOR = SolidMotor(\n",
                "    thrustSource=lambda x: 1 / (x + 1),\n",
                "    burnOutTime=5.274,\n",
                "    reshapeThrustCurve=False,\n",
                "    grainsCenterOfMassPosition=-0.571,\n",
                "    grainNumber=6,\n",
                "    grainSeparation=6 / 1000,\n",
                "    grainOuterRadius=21.40 / 1000,\n",
                "    grainInitialInnerRadius=9.65 / 1000,\n",
                "    grainInitialHeight=120 / 1000,\n",
                "    grainDensity=1707,\n",
                "    nozzleRadius=21.642 / 1000,\n",
                "    throatRadius=8 / 1000,\n",
                "    interpolationMethod=\"linear\",\n",
                ")\n"
            ]
        },
        {
            "cell_type": "code",
            "execution_count": null,
            "metadata": {
                "tags": []
            },
            "outputs": [],
            "source": [
                "MOTOR.allInfo()\n"
            ]
        },
        {
            "cell_type": "markdown",
            "metadata": {},
            "source": [
                "# Reshaping and interpolating the thrust curve"
            ]
        },
        {
            "cell_type": "markdown",
            "metadata": {},
            "source": [
                "We know explore the reshape feature concerning the thrust curve and the interpolation method. Sometimes is useful to rescale a given curve to match new specifications when impulse and burn out time are expected to vary only slightly. That can be done how we know exemplify by setting the new burn out time in seconds to be ten and the new total impulse to be 6000 Ns."
            ]
        },
        {
            "cell_type": "code",
            "execution_count": null,
            "metadata": {},
            "outputs": [],
            "source": [
                "MOTOR = SolidMotor(\n",
                "    thrustSource=r\"../../data/motors/keron/thrustCurve.csv\",\n",
                "    burnOutTime=5.274,\n",
                "    reshapeThrustCurve=[10, 6000],\n",
                "    grainsCenterOfMassPosition=-0.571,\n",
                "    grainNumber=6,\n",
                "    grainSeparation=6 / 1000,\n",
                "    grainOuterRadius=21.40 / 1000,\n",
                "    grainInitialInnerRadius=9.65 / 1000,\n",
                "    grainInitialHeight=120 / 1000,\n",
                "    grainDensity=1707,\n",
                "    nozzleRadius=21.642 / 1000,\n",
                "    throatRadius=8 / 1000,\n",
                "    interpolationMethod=\"linear\",\n",
                ")\n"
            ]
        },
        {
            "cell_type": "markdown",
            "metadata": {},
            "source": [
                "Pay close attention to the newly generated curve and be aware of the changes the rescale has produced regarding the physical quantities."
            ]
        },
        {
            "cell_type": "code",
            "execution_count": null,
            "metadata": {
                "tags": []
            },
            "outputs": [],
            "source": [
                "MOTOR.info()\n"
            ]
        },
        {
            "cell_type": "code",
            "execution_count": null,
            "metadata": {
                "tags": []
            },
            "outputs": [],
            "source": [
                "MOTOR.allInfo()\n"
            ]
        },
        {
            "cell_type": "markdown",
            "metadata": {},
            "source": [
                "Also one is able to specify a certain interpolation method. That can be done by simply changing the 'interpolationMethod' parameter to 'spline' , 'akima' or 'linear'. Default is set to linear. "
            ]
        },
        {
            "cell_type": "markdown",
            "metadata": {},
            "source": [
                "## Key Assumptions and Grain Configurations"
            ]
        },
        {
            "cell_type": "markdown",
            "metadata": {},
            "source": [
                "One might wonder how some parameters were calculated and what key assumptions were made. Regarding grain configuration one should pay close attention to the fact that only BATES grain configuration is supported. "
            ]
        },
        {
            "cell_type": "markdown",
            "metadata": {},
            "source": [
                "Finally, another key physical assumption is that constant exhaust velocity is assumed to be the case at all times which is in fact equivalent to saying that specific impulse is constant."
            ]
        }
    ],
    "metadata": {
        "kernelspec": {
            "display_name": "Python 3",
            "language": "python",
            "name": "python3"
        },
        "language_info": {
            "codemirror_mode": {
                "name": "ipython",
                "version": 3
            },
            "file_extension": ".py",
            "mimetype": "text/x-python",
            "name": "python",
            "nbconvert_exporter": "python",
            "pygments_lexer": "ipython3",
            "version": "3.10.5 (tags/v3.10.5:f377153, Jun  6 2022, 16:14:13) [MSC v.1929 64 bit (AMD64)]"
        },
        "vscode": {
            "interpreter": {
                "hash": "26de051ba29f2982a8de78e945f0abaf191376122a1563185a90213a26c5da77"
            }
        }
    },
    "nbformat": 4,
    "nbformat_minor": 2
}
