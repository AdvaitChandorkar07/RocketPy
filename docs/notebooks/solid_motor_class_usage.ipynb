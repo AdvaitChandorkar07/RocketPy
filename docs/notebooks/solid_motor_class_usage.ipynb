{
    "cells": [
        {
            "attachments": {},
            "cell_type": "markdown",
            "metadata": {},
            "source": [
                "# SolidMotor Class Usage"
            ]
        },
        {
            "attachments": {},
            "cell_type": "markdown",
            "metadata": {},
            "source": [
                "Here we explore different features of the SolidMotor class."
            ]
        },
        {
            "attachments": {},
            "cell_type": "markdown",
            "metadata": {},
            "source": [
                "Let's start by importing the rocketpy module."
            ]
        },
        {
            "cell_type": "code",
            "execution_count": null,
            "metadata": {},
            "outputs": [],
            "source": [
                "from rocketpy import *\n"
            ]
        },
        {
            "attachments": {},
            "cell_type": "markdown",
            "metadata": {},
            "source": [
                "If you are using Jupyter Notebooks, it is recommended to run the following line to make matplotlib plots which will be shown later interactive and higher quality."
            ]
        },
        {
            "cell_type": "code",
            "execution_count": null,
            "metadata": {},
            "outputs": [],
            "source": [
                "%matplotlib widget"
            ]
        },
        {
            "attachments": {},
            "cell_type": "markdown",
            "metadata": {},
            "source": [
                "## Thrust Source"
            ]
        },
        {
            "attachments": {},
            "cell_type": "markdown",
            "metadata": {},
            "source": [
                "The thrust source is of most importance when analysing parameters such as out of rail velocity, thrust to weight ratio, apogee and many others. Let's create a new motor called MOTOR and take a closer look at this funcionality."
            ]
        },
        {
            "attachments": {},
            "cell_type": "markdown",
            "metadata": {},
            "source": [
                "### Constant Thrust"
            ]
        },
        {
            "attachments": {},
            "cell_type": "markdown",
            "metadata": {},
            "source": [
                "When passing an int or float the thrust will be considered constant in time. "
            ]
        },
        {
            "cell_type": "code",
            "execution_count": null,
            "metadata": {},
            "outputs": [],
            "source": [
                "motor = SolidMotor(\n",
                "    thrust_source=1500,\n",
                "    burn_out=5.3,\n",
                "    reshape_thrust_curve=False,\n",
                "    grains_center_of_mass_position=-0.571,\n",
                "    grain_number=6,\n",
                "    grain_separation=6 / 1000,\n",
                "    grain_outer_radius=21.40 / 1000,\n",
                "    grain_initial_inner_radius=9.65 / 1000,\n",
                "    grain_initial_height=120 / 1000,\n",
                "    grain_density=1707,\n",
                "    nozzle_radius=21.642 / 1000,\n",
                "    throat_radius=8 / 1000,\n",
                "    interpolation_method=\"linear\",\n",
                "    nozzle_position=-1.024,\n",
                "    coordinate_system_orientation=\"nozzle_to_combustion_chamber\",\n",
                ")\n"
            ]
        },
        {
            "attachments": {},
            "cell_type": "markdown",
            "metadata": {},
            "source": [
                "Let's call the info method to see what kind of information we get."
            ]
        },
        {
            "cell_type": "code",
            "execution_count": null,
            "metadata": {
                "tags": []
            },
            "outputs": [],
            "source": [
                "motor.info()\n"
            ]
        },
        {
            "attachments": {},
            "cell_type": "markdown",
            "metadata": {},
            "source": [
                "There is valuable information such as Propellant exhaust velocity and Total Impulse being also being displayed. In fact, there is another method called allinfo which outputs even more relevant physical quantities such as grain configuration. Let's try that method also."
            ]
        },
        {
            "cell_type": "code",
            "execution_count": null,
            "metadata": {
                "tags": []
            },
            "outputs": [],
            "source": [
                "motor.allinfo()\n"
            ]
        },
        {
            "attachments": {},
            "cell_type": "markdown",
            "metadata": {},
            "source": [
                "### Thrust From Static Firings (CSV Files)"
            ]
        },
        {
            "attachments": {},
            "cell_type": "markdown",
            "metadata": {},
            "source": [
                "Usually one has much more precise information about the motor and wishes to specify a directory containing a .csv file (the file shall contain no headers) which contains thrust (Newtons) as a function of time (seconds). That can be done as follows:"
            ]
        },
        {
            "cell_type": "code",
            "execution_count": null,
            "metadata": {},
            "outputs": [],
            "source": [
                "motor = SolidMotor(\n",
                "    thrust_source=r\"../../data/motors/keron/thrustCurve.csv\",\n",
                "    burn_out=5.274,\n",
                "    reshape_thrust_curve=False,\n",
                "    grains_center_of_mass_position=-0.571,\n",
                "    grain_number=6,\n",
                "    grain_separation=6 / 1000,\n",
                "    grain_outer_radius=21.40 / 1000,\n",
                "    grain_initial_inner_radius=9.65 / 1000,\n",
                "    grain_initial_height=120 / 1000,\n",
                "    grain_density=1707,\n",
                "    nozzle_radius=21.642 / 1000,\n",
                "    throat_radius=8 / 1000,\n",
                "    interpolation_method=\"linear\",\n",
                "    nozzle_position=-1.024,\n",
                "    coordinate_system_orientation=\"nozzle_to_combustion_chamber\",\n",
                ")\n"
            ]
        },
        {
            "cell_type": "code",
            "execution_count": null,
            "metadata": {
                "tags": []
            },
            "outputs": [],
            "source": [
                "motor.info()\n"
            ]
        },
        {
            "attachments": {},
            "cell_type": "markdown",
            "metadata": {},
            "source": [
                "### Eng Files Are Also Supported! (RASP)"
            ]
        },
        {
            "attachments": {},
            "cell_type": "markdown",
            "metadata": {},
            "source": [
                "Most rocket motors providers share the thrust curve from their motors using the RASP file format (`.eng` files). RocketPy can import such files as the thrust source. Furthermore, if you have a thrust curve in a `.csv`file, RocketPy can also read your data and exported as a `.eng` file."
            ]
        },
        {
            "cell_type": "code",
            "execution_count": null,
            "metadata": {},
            "outputs": [],
            "source": [
                "motor = SolidMotor(\n",
                "    thrust_source=\"../../data/motors/Cesaroni_M1670.eng\",\n",
                "    burn_out=3.0,\n",
                "    grains_center_of_mass_position=-0.571,\n",
                "    grain_number=6,\n",
                "    grain_separation=6 / 1000,\n",
                "    grain_outer_radius=21.40 / 1000,\n",
                "    grain_initial_inner_radius=9.65 / 1000,\n",
                "    grain_initial_height=120 / 1000,\n",
                "    grain_density=1707,\n",
                "    nozzle_radius=21.642 / 1000,\n",
                "    throat_radius=8 / 1000,\n",
                "    interpolation_method=\"linear\",\n",
                ")\n"
            ]
        },
        {
            "attachments": {},
            "cell_type": "markdown",
            "metadata": {},
            "source": [
                "#### One More Option..."
            ]
        },
        {
            "attachments": {},
            "cell_type": "markdown",
            "metadata": {},
            "source": [
                "There is also a fourth option where one specifies the thrust source parameter by passing a callable function like below."
            ]
        },
        {
            "cell_type": "code",
            "execution_count": null,
            "metadata": {},
            "outputs": [],
            "source": [
                "motor = SolidMotor(\n",
                "    thrust_source=lambda x: 1 / (x + 1),\n",
                "    burn_out=5.274,\n",
                "    reshape_thrust_curve=False,\n",
                "    grains_center_of_mass_position=-0.571,\n",
                "    grain_number=6,\n",
                "    grain_separation=6 / 1000,\n",
                "    grain_outer_radius=21.40 / 1000,\n",
                "    grain_initial_inner_radius=9.65 / 1000,\n",
                "    grain_initial_height=120 / 1000,\n",
                "    grain_density=1707,\n",
                "    nozzle_radius=21.642 / 1000,\n",
                "    throat_radius=8 / 1000,\n",
                "    interpolation_method=\"linear\",\n",
                ")\n"
            ]
        },
        {
            "cell_type": "code",
            "execution_count": null,
            "metadata": {
                "tags": []
            },
            "outputs": [],
            "source": [
                "motor.allinfo()\n"
            ]
        },
        {
            "attachments": {},
            "cell_type": "markdown",
            "metadata": {},
            "source": [
                "# Reshaping and interpolating the thrust curve"
            ]
        },
        {
            "attachments": {},
            "cell_type": "markdown",
            "metadata": {},
            "source": [
                "We know explore the reshape feature concerning the thrust curve and the interpolation method. Sometimes is useful to rescale a given curve to match new specifications when impulse and burn out time are expected to vary only slightly. That can be done how we know exemplify by setting the new burn out time in seconds to be ten and the new total impulse to be 6000 Ns."
            ]
        },
        {
            "cell_type": "code",
            "execution_count": null,
            "metadata": {},
            "outputs": [],
            "source": [
                "motor = SolidMotor(\n",
                "    thrust_source=r\"../../data/motors/keron/thrustCurve.csv\",\n",
                "    burn_out=5.274,\n",
                "    reshape_thrust_curve=[10, 6000],\n",
                "    grains_center_of_mass_position=-0.571,\n",
                "    grain_number=6,\n",
                "    grain_separation=6 / 1000,\n",
                "    grain_outer_radius=21.40 / 1000,\n",
                "    grain_initial_inner_radius=9.65 / 1000,\n",
                "    grain_initial_height=120 / 1000,\n",
                "    grain_density=1707,\n",
                "    nozzle_radius=21.642 / 1000,\n",
                "    throat_radius=8 / 1000,\n",
                "    interpolation_method=\"linear\",\n",
                ")\n"
            ]
        },
        {
            "attachments": {},
            "cell_type": "markdown",
            "metadata": {},
            "source": [
                "Pay close attention to the newly generated curve and be aware of the changes the rescale has produced regarding the physical quantities."
            ]
        },
        {
            "cell_type": "code",
            "execution_count": null,
            "metadata": {
                "tags": []
            },
            "outputs": [],
            "source": [
                "motor.info()\n"
            ]
        },
        {
            "cell_type": "code",
            "execution_count": null,
            "metadata": {
                "tags": []
            },
            "outputs": [],
            "source": [
                "motor.allinfo()\n"
            ]
        },
        {
            "attachments": {},
            "cell_type": "markdown",
            "metadata": {},
            "source": [
                "Also one is able to specify a certain interpolation method. That can be done by simply changing the 'interpolationMethod' parameter to 'spline' , 'akima' or 'linear'. Default is set to linear. "
            ]
        },
        {
            "attachments": {},
            "cell_type": "markdown",
            "metadata": {},
            "source": [
                "## Key Assumptions and Grain Configurations"
            ]
        },
        {
            "attachments": {},
            "cell_type": "markdown",
            "metadata": {},
            "source": [
                "One might wonder how some parameters were calculated and what key assumptions were made. Regarding grain configuration one should pay close attention to the fact that only BATES grain configuration is supported. "
            ]
        },
        {
            "attachments": {},
            "cell_type": "markdown",
            "metadata": {},
            "source": [
                "Finally, another key physical assumption is that constant exhaust velocity is assumed to be the case at all times which is in fact equivalent to saying that specific impulse is constant."
            ]
        }
    ],
    "metadata": {
        "kernelspec": {
            "display_name": "Python 3",
            "language": "python",
            "name": "python3"
        },
        "language_info": {
            "codemirror_mode": {
                "name": "ipython",
                "version": 3
            },
            "file_extension": ".py",
            "mimetype": "text/x-python",
            "name": "python",
            "nbconvert_exporter": "python",
            "pygments_lexer": "ipython3",
            "version": "3.10.5"
        },
        "vscode": {
            "interpreter": {
                "hash": "26de051ba29f2982a8de78e945f0abaf191376122a1563185a90213a26c5da77"
            }
        }
    },
    "nbformat": 4,
    "nbformat_minor": 2
}
