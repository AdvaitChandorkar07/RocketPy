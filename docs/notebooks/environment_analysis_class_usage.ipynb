{
 "cells": [
  {
   "cell_type": "markdown",
   "metadata": {},
   "source": [
    "# Environment Analysis Class Usage"
   ]
  },
  {
   "cell_type": "markdown",
   "metadata": {},
   "source": [
    "Welcome to RocketPy's Enviroment Analysis!\n",
    "\n",
    "This notebook intends to present you a brief description of what is possible to be done by using the most recent class of RocketPy library. Analysing weather historical data is of upmost importance for rocket lauch operations, specially with regards range closure decision which may impact safety and rocket flight performance, therefore the results presented here may be useful to support your lauch operation design.\n",
    "\n",
    "In this case we are going to use the Spaceport America location to perform an historical analysis over the last 12 years (i.e. from 2010 to 2022). However, Environment Analysis allows for both different location and time range to be analysed as well."
   ]
  },
  {
   "cell_type": "markdown",
   "metadata": {},
   "source": [
    "## Initializing class and loading files"
   ]
  },
  {
   "cell_type": "markdown",
   "metadata": {},
   "source": [
    "Let's start by importing the required libraries for our work:"
   ]
  },
  {
   "cell_type": "code",
   "execution_count": null,
   "metadata": {},
   "outputs": [],
   "source": [
    "%pip install jupyter-dash"
   ]
  },
  {
   "cell_type": "code",
   "execution_count": null,
   "metadata": {},
   "outputs": [],
   "source": [
    "from rocketpy.EnvironmentAnalysis import EnvironmentAnalysis\n",
    "from datetime import datetime\n",
    "import dash\n",
    "import plotly as plt\n",
    "import pandas as pd\n",
    "\n",
    "%load_ext autoreload\n",
    "%autoreload 2"
   ]
  },
  {
   "cell_type": "markdown",
   "metadata": {},
   "source": [
    "The next cell will capture the dataset file previous donwloaded. For more details about how to get .nc files for another specific time and location, please consult the following thread:"
   ]
  },
  {
   "cell_type": "code",
   "execution_count": null,
   "metadata": {},
   "outputs": [],
   "source": [
    "env_analysis = EnvironmentAnalysis(\n",
    "    start_date= datetime(2010, 6, 15), # (Year, Month, Day)\n",
    "    end_date= datetime(2020, 6, 30), # (Year, Month, Day)\n",
    "    latitude= 32.990629, \n",
    "    longitude= -106.976097,\n",
    "    elevation= 1400,\n",
    "    surfaceDataFile=\"..\\..\\data\\weather\\spaceport_america_surface_reanalysis_2015_2021.nc\",\n",
    "    pressureLevelDataFile=\"..\\..\\data\\weather\\spaceport_america_pressure_level_reanalysis_2015_2021.nc\"\n",
    ")"
   ]
  },
  {
   "cell_type": "markdown",
   "metadata": {},
   "source": [
    "# Surface level Analysis"
   ]
  },
  {
   "cell_type": "markdown",
   "metadata": {},
   "source": [
    "At this first section we are looking for at the surface level.\n",
    "Data from surface analysis usually come with bigger amounts of information and therefore are important to give us a complete understanding of the scenario faced at the place and time that we are analysing."
   ]
  },
  {
   "cell_type": "markdown",
   "metadata": {},
   "source": [
    "## Average and record values"
   ]
  },
  {
   "cell_type": "markdown",
   "metadata": {},
   "source": [
    "A good start on our analysis is by checking numerical values that are critical for the selected time range."
   ]
  },
  {
   "cell_type": "code",
   "execution_count": null,
   "metadata": {},
   "outputs": [],
   "source": [
    "print(env_analysis.calculate_average_max_temperature())\n",
    "print(env_analysis.calculate_average_min_temperature())\n",
    "print(env_analysis.calculate_record_max_temperature())\n",
    "print(env_analysis.calculate_record_min_temperature())\n",
    "print(env_analysis.calculate_average_max_wind_gust())\n",
    "print(env_analysis.calculate_maximum_wind_gust())"
   ]
  },
  {
   "cell_type": "markdown",
   "metadata": {},
   "source": [
    "It's also important to look at the variation of temperature and wind distribution throught a typical day, which can be easily done by running the next code cells:"
   ]
  },
  {
   "cell_type": "code",
   "execution_count": null,
   "metadata": {},
   "outputs": [],
   "source": [
    "env_analysis.calculate_average_temperature_along_day()"
   ]
  },
  {
   "cell_type": "code",
   "execution_count": null,
   "metadata": {},
   "outputs": [],
   "source": [
    "env_analysis.calculate_wind_gust_distribution()"
   ]
  },
  {
   "cell_type": "code",
   "execution_count": null,
   "metadata": {},
   "outputs": [],
   "source": [
    "env_analysis.animate_wind_gust_distribution_over_average_day()"
   ]
  },
  {
   "cell_type": "markdown",
   "metadata": {},
   "source": [
    "## Windrose plot"
   ]
  },
  {
   "cell_type": "markdown",
   "metadata": {},
   "source": [
    "Finally, we can use the previous informations to generate a graphic known as Windrose plot. \n",
    "The Windrose is commonly used by meteorologists to identify how wind speed and direction are typically distributed at a particular location"
   ]
  },
  {
   "cell_type": "code",
   "execution_count": null,
   "metadata": {},
   "outputs": [],
   "source": [
    "env_analysis.calculate_average_day_wind_rose()\n",
    "env_analysis.animate_wind_rose()"
   ]
  },
  {
   "cell_type": "markdown",
   "metadata": {},
   "source": [
    "# Pressure Level Analysis"
   ]
  },
  {
   "cell_type": "markdown",
   "metadata": {},
   "source": [
    "At this section, we guide our analysis through pressure profile data available on our dataset.\n",
    "It means we are now stopping to see just surface information and start better understaand how the meteorology varies while the altitude increases."
   ]
  },
  {
   "cell_type": "markdown",
   "metadata": {},
   "source": [
    "## Average wind profiles"
   ]
  },
  {
   "cell_type": "markdown",
   "metadata": {},
   "source": [
    "Moreover, we can see an animation of how the wind speed profile varies during an average day at Spaceport Location:"
   ]
  },
  {
   "cell_type": "code",
   "execution_count": null,
   "metadata": {},
   "outputs": [],
   "source": [
    "env_analysis.animate_wind_profile_over_average_day()"
   ]
  },
  {
   "cell_type": "code",
   "execution_count": null,
   "metadata": {},
   "outputs": [],
   "source": [
    "env_analysis.calculate_average_wind_profile()"
   ]
  },
  {
   "cell_type": "markdown",
   "metadata": {},
   "source": [
    "# Going further with your analysis"
   ]
  },
  {
   "cell_type": "markdown",
   "metadata": {},
   "source": [
    "The best part of using Python is the flexibility, therefore it's important to highlight that other different experimentals and data analysis can be done using\n",
    "For instance, you could ask yourself about historical cloud celling height or .....\n",
    "Here are some different analysis we could mention:\n",
    "\n",
    "- \n",
    "- \n",
    "- "
   ]
  },
  {
   "cell_type": "code",
   "execution_count": null,
   "metadata": {},
   "outputs": [],
   "source": []
  },
  {
   "cell_type": "markdown",
   "metadata": {},
   "source": [
    "## Exporting this notebook"
   ]
  },
  {
   "cell_type": "markdown",
   "metadata": {},
   "source": [
    "! jupyter nbconvert environment_analysis_class_usage.ipynb --to html --output env_analysis_output.html"
   ]
  }
 ],
 "metadata": {
  "interpreter": {
   "hash": "000513261dbe8be18a9c6e77151095a96c15b20c9ba7a180571e9a89db69cfb8"
  },
  "kernelspec": {
   "display_name": "Python 3.9.2 64-bit",
   "language": "python",
   "name": "python3"
  },
  "language_info": {
   "codemirror_mode": {
    "name": "ipython",
    "version": 3
   },
   "file_extension": ".py",
   "mimetype": "text/x-python",
   "name": "python",
   "nbconvert_exporter": "python",
   "pygments_lexer": "ipython3",
   "version": "3.9.2"
  },
  "orig_nbformat": 4
 },
 "nbformat": 4,
 "nbformat_minor": 2
}
