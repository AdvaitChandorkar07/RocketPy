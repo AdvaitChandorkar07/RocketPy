{
 "cells": [
  {
   "cell_type": "code",
   "execution_count": 1,
   "metadata": {},
   "outputs": [],
   "source": [
    "%load_ext autoreload\n",
    "%autoreload 2"
   ]
  },
  {
   "cell_type": "code",
   "execution_count": 2,
   "metadata": {},
   "outputs": [],
   "source": [
    "from rocketpy.EnvironmentAnalysis import EnvironmentAnalysis\n",
    "from datetime import datetime"
   ]
  },
  {
   "cell_type": "code",
   "execution_count": 6,
   "metadata": {},
   "outputs": [
    {
     "ename": "IndexError",
     "evalue": "too many indices for array: array is 1-dimensional, but 2 were indexed",
     "output_type": "error",
     "traceback": [
      "\u001b[1;31m---------------------------------------------------------------------------\u001b[0m",
      "\u001b[1;31mIndexError\u001b[0m                                Traceback (most recent call last)",
      "\u001b[1;32mc:\\Users\\GiovaniCeotto\\Repositories\\RocketPy\\docs\\notebooks\\environment_analysis_class_usage.ipynb Cell 3'\u001b[0m in \u001b[0;36m<module>\u001b[1;34m\u001b[0m\n\u001b[1;32m----> <a href='vscode-notebook-cell:/c%3A/Users/GiovaniCeotto/Repositories/RocketPy/docs/notebooks/environment_analysis_class_usage.ipynb#ch0000001?line=0'>1</a>\u001b[0m test_analysis \u001b[39m=\u001b[39m EnvironmentAnalysis(\n\u001b[0;32m      <a href='vscode-notebook-cell:/c%3A/Users/GiovaniCeotto/Repositories/RocketPy/docs/notebooks/environment_analysis_class_usage.ipynb#ch0000001?line=1'>2</a>\u001b[0m     start_date\u001b[39m=\u001b[39;49mdatetime(\u001b[39m2010\u001b[39;49m, \u001b[39m6\u001b[39;49m, \u001b[39m15\u001b[39;49m),\n\u001b[0;32m      <a href='vscode-notebook-cell:/c%3A/Users/GiovaniCeotto/Repositories/RocketPy/docs/notebooks/environment_analysis_class_usage.ipynb#ch0000001?line=2'>3</a>\u001b[0m     end_date\u001b[39m=\u001b[39;49mdatetime(\u001b[39m2020\u001b[39;49m, \u001b[39m6\u001b[39;49m, \u001b[39m30\u001b[39;49m),\n\u001b[0;32m      <a href='vscode-notebook-cell:/c%3A/Users/GiovaniCeotto/Repositories/RocketPy/docs/notebooks/environment_analysis_class_usage.ipynb#ch0000001?line=3'>4</a>\u001b[0m     latitude\u001b[39m=\u001b[39;49m\u001b[39m33\u001b[39;49m,\n\u001b[0;32m      <a href='vscode-notebook-cell:/c%3A/Users/GiovaniCeotto/Repositories/RocketPy/docs/notebooks/environment_analysis_class_usage.ipynb#ch0000001?line=4'>5</a>\u001b[0m     longitude\u001b[39m=\u001b[39;49m\u001b[39m-\u001b[39;49m\u001b[39m107\u001b[39;49m,\n\u001b[0;32m      <a href='vscode-notebook-cell:/c%3A/Users/GiovaniCeotto/Repositories/RocketPy/docs/notebooks/environment_analysis_class_usage.ipynb#ch0000001?line=5'>6</a>\u001b[0m     elevation\u001b[39m=\u001b[39;49m\u001b[39m1400\u001b[39;49m,\n\u001b[0;32m      <a href='vscode-notebook-cell:/c%3A/Users/GiovaniCeotto/Repositories/RocketPy/docs/notebooks/environment_analysis_class_usage.ipynb#ch0000001?line=6'>7</a>\u001b[0m     surfaceDataFile\u001b[39m=\u001b[39;49m\u001b[39m\"\u001b[39;49m\u001b[39m..\u001b[39;49m\u001b[39m\\\u001b[39;49m\u001b[39m..\u001b[39;49m\u001b[39m\\\u001b[39;49m\u001b[39mdata\u001b[39;49m\u001b[39m\\\u001b[39;49m\u001b[39mweather\u001b[39;49m\u001b[39m\\\u001b[39;49m\u001b[39mspaceport_america_surface_reanalysis_2015_2021.nc\u001b[39;49m\u001b[39m\"\u001b[39;49m,\n\u001b[0;32m      <a href='vscode-notebook-cell:/c%3A/Users/GiovaniCeotto/Repositories/RocketPy/docs/notebooks/environment_analysis_class_usage.ipynb#ch0000001?line=7'>8</a>\u001b[0m     pressureLevelDataFile\u001b[39m=\u001b[39;49m\u001b[39m\"\u001b[39;49m\u001b[39m..\u001b[39;49m\u001b[39m\\\u001b[39;49m\u001b[39m..\u001b[39;49m\u001b[39m\\\u001b[39;49m\u001b[39mdata\u001b[39;49m\u001b[39m\\\u001b[39;49m\u001b[39mweather\u001b[39;49m\u001b[39m\\\u001b[39;49m\u001b[39mspaceport_america_pressure_level_reanalysis_2015_2021.nc\u001b[39;49m\u001b[39m\"\u001b[39;49m\n\u001b[0;32m      <a href='vscode-notebook-cell:/c%3A/Users/GiovaniCeotto/Repositories/RocketPy/docs/notebooks/environment_analysis_class_usage.ipynb#ch0000001?line=8'>9</a>\u001b[0m )\n",
      "File \u001b[1;32mc:\\users\\giovaniceotto\\repositories\\rocketpy\\rocketpy\\EnvironmentAnalysis.py:66\u001b[0m, in \u001b[0;36mEnvironmentAnalysis.__init__\u001b[1;34m(self, start_date, end_date, latitude, longitude, elevation, surfaceDataFile, pressureLevelDataFile)\u001b[0m\n\u001b[0;32m     <a href='file:///c%3A/users/giovaniceotto/repositories/rocketpy/rocketpy/EnvironmentAnalysis.py?line=63'>64</a>\u001b[0m \u001b[39mself\u001b[39m\u001b[39m.\u001b[39mpressureLevelDataDict \u001b[39m=\u001b[39m {}\n\u001b[0;32m     <a href='file:///c%3A/users/giovaniceotto/repositories/rocketpy/rocketpy/EnvironmentAnalysis.py?line=64'>65</a>\u001b[0m \u001b[39mself\u001b[39m\u001b[39m.\u001b[39msurfaceDataDict \u001b[39m=\u001b[39m {}\n\u001b[1;32m---> <a href='file:///c%3A/users/giovaniceotto/repositories/rocketpy/rocketpy/EnvironmentAnalysis.py?line=65'>66</a>\u001b[0m \u001b[39mself\u001b[39;49m\u001b[39m.\u001b[39;49mparsePressureLevelData()\n\u001b[0;32m     <a href='file:///c%3A/users/giovaniceotto/repositories/rocketpy/rocketpy/EnvironmentAnalysis.py?line=66'>67</a>\u001b[0m \u001b[39mself\u001b[39m\u001b[39m.\u001b[39mparseSurfaceData()\n\u001b[0;32m     <a href='file:///c%3A/users/giovaniceotto/repositories/rocketpy/rocketpy/EnvironmentAnalysis.py?line=68'>69</a>\u001b[0m \u001b[39m# Initialize result variables\u001b[39;00m\n",
      "File \u001b[1;32mc:\\users\\giovaniceotto\\repositories\\rocketpy\\rocketpy\\EnvironmentAnalysis.py:361\u001b[0m, in \u001b[0;36mEnvironmentAnalysis.parsePressureLevelData\u001b[1;34m(self)\u001b[0m\n\u001b[0;32m    <a href='file:///c%3A/users/giovaniceotto/repositories/rocketpy/rocketpy/EnvironmentAnalysis.py?line=356'>357</a>\u001b[0m \u001b[39mfor\u001b[39;00m key, value \u001b[39min\u001b[39;00m \u001b[39mself\u001b[39m\u001b[39m.\u001b[39mpressureLevelFileDict\u001b[39m.\u001b[39mitems():\n\u001b[0;32m    <a href='file:///c%3A/users/giovaniceotto/repositories/rocketpy/rocketpy/EnvironmentAnalysis.py?line=357'>358</a>\u001b[0m     valueArray \u001b[39m=\u001b[39m \u001b[39mself\u001b[39m\u001b[39m.\u001b[39m__extractPressureLevelDataValue(\n\u001b[0;32m    <a href='file:///c%3A/users/giovaniceotto/repositories/rocketpy/rocketpy/EnvironmentAnalysis.py?line=358'>359</a>\u001b[0m         pressureLevelData, value, indices, lonArray, latArray\n\u001b[0;32m    <a href='file:///c%3A/users/giovaniceotto/repositories/rocketpy/rocketpy/EnvironmentAnalysis.py?line=359'>360</a>\u001b[0m     )\n\u001b[1;32m--> <a href='file:///c%3A/users/giovaniceotto/repositories/rocketpy/rocketpy/EnvironmentAnalysis.py?line=360'>361</a>\u001b[0m     variableFunction \u001b[39m=\u001b[39m Function(\n\u001b[0;32m    <a href='file:///c%3A/users/giovaniceotto/repositories/rocketpy/rocketpy/EnvironmentAnalysis.py?line=361'>362</a>\u001b[0m         np\u001b[39m.\u001b[39;49mconcatenate([heightAboveSeaLevelArray, valueArray])\n\u001b[0;32m    <a href='file:///c%3A/users/giovaniceotto/repositories/rocketpy/rocketpy/EnvironmentAnalysis.py?line=362'>363</a>\u001b[0m     )\n\u001b[0;32m    <a href='file:///c%3A/users/giovaniceotto/repositories/rocketpy/rocketpy/EnvironmentAnalysis.py?line=363'>364</a>\u001b[0m     \u001b[39mself\u001b[39m\u001b[39m.\u001b[39mpressureLevelDataDict[dateString][hourString][\n\u001b[0;32m    <a href='file:///c%3A/users/giovaniceotto/repositories/rocketpy/rocketpy/EnvironmentAnalysis.py?line=364'>365</a>\u001b[0m         key\n\u001b[0;32m    <a href='file:///c%3A/users/giovaniceotto/repositories/rocketpy/rocketpy/EnvironmentAnalysis.py?line=365'>366</a>\u001b[0m     ] \u001b[39m=\u001b[39m variableFunction\n\u001b[0;32m    <a href='file:///c%3A/users/giovaniceotto/repositories/rocketpy/rocketpy/EnvironmentAnalysis.py?line=367'>368</a>\u001b[0m \u001b[39m# Create function for pressure levels\u001b[39;00m\n",
      "File \u001b[1;32mc:\\users\\giovaniceotto\\repositories\\rocketpy\\rocketpy\\Function.py:85\u001b[0m, in \u001b[0;36mFunction.__init__\u001b[1;34m(self, source, inputs, outputs, interpolation, extrapolation)\u001b[0m\n\u001b[0;32m     <a href='file:///c%3A/users/giovaniceotto/repositories/rocketpy/rocketpy/Function.py?line=82'>83</a>\u001b[0m \u001b[39mself\u001b[39m\u001b[39m.\u001b[39mlast_interval \u001b[39m=\u001b[39m \u001b[39m0\u001b[39m\n\u001b[0;32m     <a href='file:///c%3A/users/giovaniceotto/repositories/rocketpy/rocketpy/Function.py?line=83'>84</a>\u001b[0m \u001b[39m# Set source\u001b[39;00m\n\u001b[1;32m---> <a href='file:///c%3A/users/giovaniceotto/repositories/rocketpy/rocketpy/Function.py?line=84'>85</a>\u001b[0m \u001b[39mself\u001b[39;49m\u001b[39m.\u001b[39;49msetSource(source)\n\u001b[0;32m     <a href='file:///c%3A/users/giovaniceotto/repositories/rocketpy/rocketpy/Function.py?line=85'>86</a>\u001b[0m \u001b[39m# Return\u001b[39;00m\n\u001b[0;32m     <a href='file:///c%3A/users/giovaniceotto/repositories/rocketpy/rocketpy/Function.py?line=86'>87</a>\u001b[0m \u001b[39mreturn\u001b[39;00m \u001b[39mNone\u001b[39;00m\n",
      "File \u001b[1;32mc:\\users\\giovaniceotto\\repositories\\rocketpy\\rocketpy\\Function.py:181\u001b[0m, in \u001b[0;36mFunction.setSource\u001b[1;34m(self, source)\u001b[0m\n\u001b[0;32m    <a href='file:///c%3A/users/giovaniceotto/repositories/rocketpy/rocketpy/Function.py?line=176'>177</a>\u001b[0m     \u001b[39mself\u001b[39m\u001b[39m.\u001b[39m__extrapolation__ \u001b[39m=\u001b[39m \u001b[39mNone\u001b[39;00m\n\u001b[0;32m    <a href='file:///c%3A/users/giovaniceotto/repositories/rocketpy/rocketpy/Function.py?line=177'>178</a>\u001b[0m \u001b[39m# Handle ndarray source\u001b[39;00m\n\u001b[0;32m    <a href='file:///c%3A/users/giovaniceotto/repositories/rocketpy/rocketpy/Function.py?line=178'>179</a>\u001b[0m \u001b[39melse\u001b[39;00m:\n\u001b[0;32m    <a href='file:///c%3A/users/giovaniceotto/repositories/rocketpy/rocketpy/Function.py?line=179'>180</a>\u001b[0m     \u001b[39m# Check to see if dimensions match incoming data set\u001b[39;00m\n\u001b[1;32m--> <a href='file:///c%3A/users/giovaniceotto/repositories/rocketpy/rocketpy/Function.py?line=180'>181</a>\u001b[0m     newTotalDim \u001b[39m=\u001b[39m \u001b[39mlen\u001b[39m(source[\u001b[39m0\u001b[39;49m, :])\n\u001b[0;32m    <a href='file:///c%3A/users/giovaniceotto/repositories/rocketpy/rocketpy/Function.py?line=181'>182</a>\u001b[0m     oldTotalDim \u001b[39m=\u001b[39m \u001b[39mself\u001b[39m\u001b[39m.\u001b[39m__domDim__ \u001b[39m+\u001b[39m \u001b[39mself\u001b[39m\u001b[39m.\u001b[39m__imgDim__\n\u001b[0;32m    <a href='file:///c%3A/users/giovaniceotto/repositories/rocketpy/rocketpy/Function.py?line=182'>183</a>\u001b[0m     dV \u001b[39m=\u001b[39m \u001b[39mself\u001b[39m\u001b[39m.\u001b[39m__inputs__ \u001b[39m==\u001b[39m [\u001b[39m\"\u001b[39m\u001b[39mScalar\u001b[39m\u001b[39m\"\u001b[39m] \u001b[39mand\u001b[39;00m \u001b[39mself\u001b[39m\u001b[39m.\u001b[39m__outputs__ \u001b[39m==\u001b[39m [\u001b[39m\"\u001b[39m\u001b[39mScalar\u001b[39m\u001b[39m\"\u001b[39m]\n",
      "File \u001b[1;32m~\\.conda\\envs\\rocketpy_dev\\lib\\site-packages\\numpy\\ma\\core.py:3222\u001b[0m, in \u001b[0;36mMaskedArray.__getitem__\u001b[1;34m(self, indx)\u001b[0m\n\u001b[0;32m   <a href='file:///~/.conda/envs/rocketpy_dev/lib/site-packages/numpy/ma/core.py?line=3211'>3212</a>\u001b[0m \u001b[39m\"\"\"\u001b[39;00m\n\u001b[0;32m   <a href='file:///~/.conda/envs/rocketpy_dev/lib/site-packages/numpy/ma/core.py?line=3212'>3213</a>\u001b[0m \u001b[39mx.__getitem__(y) <==> x[y]\u001b[39;00m\n\u001b[0;32m   <a href='file:///~/.conda/envs/rocketpy_dev/lib/site-packages/numpy/ma/core.py?line=3213'>3214</a>\u001b[0m \n\u001b[0;32m   <a href='file:///~/.conda/envs/rocketpy_dev/lib/site-packages/numpy/ma/core.py?line=3214'>3215</a>\u001b[0m \u001b[39mReturn the item described by i, as a masked array.\u001b[39;00m\n\u001b[0;32m   <a href='file:///~/.conda/envs/rocketpy_dev/lib/site-packages/numpy/ma/core.py?line=3215'>3216</a>\u001b[0m \n\u001b[0;32m   <a href='file:///~/.conda/envs/rocketpy_dev/lib/site-packages/numpy/ma/core.py?line=3216'>3217</a>\u001b[0m \u001b[39m\"\"\"\u001b[39;00m\n\u001b[0;32m   <a href='file:///~/.conda/envs/rocketpy_dev/lib/site-packages/numpy/ma/core.py?line=3217'>3218</a>\u001b[0m \u001b[39m# We could directly use ndarray.__getitem__ on self.\u001b[39;00m\n\u001b[0;32m   <a href='file:///~/.conda/envs/rocketpy_dev/lib/site-packages/numpy/ma/core.py?line=3218'>3219</a>\u001b[0m \u001b[39m# But then we would have to modify __array_finalize__ to prevent the\u001b[39;00m\n\u001b[0;32m   <a href='file:///~/.conda/envs/rocketpy_dev/lib/site-packages/numpy/ma/core.py?line=3219'>3220</a>\u001b[0m \u001b[39m# mask of being reshaped if it hasn't been set up properly yet\u001b[39;00m\n\u001b[0;32m   <a href='file:///~/.conda/envs/rocketpy_dev/lib/site-packages/numpy/ma/core.py?line=3220'>3221</a>\u001b[0m \u001b[39m# So it's easier to stick to the current version\u001b[39;00m\n\u001b[1;32m-> <a href='file:///~/.conda/envs/rocketpy_dev/lib/site-packages/numpy/ma/core.py?line=3221'>3222</a>\u001b[0m dout \u001b[39m=\u001b[39m \u001b[39mself\u001b[39;49m\u001b[39m.\u001b[39;49mdata[indx]\n\u001b[0;32m   <a href='file:///~/.conda/envs/rocketpy_dev/lib/site-packages/numpy/ma/core.py?line=3222'>3223</a>\u001b[0m _mask \u001b[39m=\u001b[39m \u001b[39mself\u001b[39m\u001b[39m.\u001b[39m_mask\n\u001b[0;32m   <a href='file:///~/.conda/envs/rocketpy_dev/lib/site-packages/numpy/ma/core.py?line=3224'>3225</a>\u001b[0m \u001b[39mdef\u001b[39;00m \u001b[39m_is_scalar\u001b[39m(m):\n",
      "\u001b[1;31mIndexError\u001b[0m: too many indices for array: array is 1-dimensional, but 2 were indexed"
     ]
    }
   ],
   "source": [
    "test_analysis = EnvironmentAnalysis(\n",
    "    start_date=datetime(2010, 6, 15),\n",
    "    end_date=datetime(2020, 6, 30),\n",
    "    latitude=33,\n",
    "    longitude=-107,\n",
    "    elevation=1400,\n",
    "    surfaceDataFile=\"..\\..\\data\\weather\\spaceport_america_surface_reanalysis_2015_2021.nc\",\n",
    "    pressureLevelDataFile=\"..\\..\\data\\weather\\spaceport_america_pressure_level_reanalysis_2015_2021.nc\"\n",
    ")"
   ]
  },
  {
   "cell_type": "code",
   "execution_count": 2,
   "metadata": {},
   "outputs": [
    {
     "ename": "NameError",
     "evalue": "name 'test_analysis' is not defined",
     "output_type": "error",
     "traceback": [
      "\u001b[1;31m---------------------------------------------------------------------------\u001b[0m",
      "\u001b[1;31mNameError\u001b[0m                                 Traceback (most recent call last)",
      "\u001b[1;32mc:\\Users\\GiovaniCeotto\\Repositories\\RocketPy\\docs\\notebooks\\environment_analysis_class_usage.ipynb Cell 3'\u001b[0m in \u001b[0;36m<module>\u001b[1;34m\u001b[0m\n\u001b[1;32m----> <a href='vscode-notebook-cell:/c%3A/Users/GiovaniCeotto/Repositories/RocketPy/docs/notebooks/environment_analysis_class_usage.ipynb#ch0000002?line=0'>1</a>\u001b[0m test_analysis\u001b[39m.\u001b[39mpressureLevelDataDict()\n",
      "\u001b[1;31mNameError\u001b[0m: name 'test_analysis' is not defined"
     ]
    }
   ],
   "source": [
    "test_analysis.pressureLevelDataDict()"
   ]
  },
  {
   "cell_type": "code",
   "execution_count": null,
   "metadata": {},
   "outputs": [],
   "source": [
    "1+1\n",
    "2+2\n",
    "3+3"
   ]
  }
 ],
 "metadata": {
  "interpreter": {
   "hash": "65d808e51a85ee388bb5fdeab386bde9dcff45c485e68d7d22cf796162cc7ba9"
  },
  "kernelspec": {
   "display_name": "Python 3.10.0 ('rocketpy_dev')",
   "language": "python",
   "name": "python3"
  },
  "language_info": {
   "codemirror_mode": {
    "name": "ipython",
    "version": 3
   },
   "file_extension": ".py",
   "mimetype": "text/x-python",
   "name": "python",
   "nbconvert_exporter": "python",
   "pygments_lexer": "ipython3",
   "version": "3.10.0"
  },
  "orig_nbformat": 4
 },
 "nbformat": 4,
 "nbformat_minor": 2
}
