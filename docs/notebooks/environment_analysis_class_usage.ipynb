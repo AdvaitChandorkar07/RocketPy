{
 "cells": [
  {
   "cell_type": "markdown",
   "metadata": {},
   "source": [
    "# Environment Analysis Class Usage"
   ]
  },
  {
   "cell_type": "markdown",
   "metadata": {},
   "source": [
    "Welcome to RocketPy's Enviroment Analysis!\n",
    "\n",
    "This notebook intends to present you in a brief description of what is possible to be done by using the most recent class of RocketPy library. Analysing wether historical data is of upmost importance for rocket lauch operations, specially with regards range closure decision which may impact safety and rocket flight performance.\n",
    "\n",
    "In this case we are going to use the Spaceport America location to perform an historical analysis over the last 7 years (i.e. from 2015 to 2022). However, Environment Analysis allows for both different location and time range to be analysed as well."
   ]
  },
  {
   "cell_type": "markdown",
   "metadata": {},
   "source": [
    "## Initializing class and loading files"
   ]
  },
  {
   "cell_type": "markdown",
   "metadata": {},
   "source": [
    "Let's start by loading the required libraries for our work:"
   ]
  },
  {
   "cell_type": "code",
   "execution_count": null,
   "metadata": {},
   "outputs": [],
   "source": [
    "%pip install jupyter-dash"
   ]
  },
  {
   "cell_type": "code",
   "execution_count": null,
   "metadata": {},
   "outputs": [],
   "source": [
    "from rocketpy.EnvironmentAnalysis import EnvironmentAnalysis\n",
    "from datetime import datetime\n",
    "import dash\n",
    "import pandas as pd\n",
    "\n",
    "%load_ext autoreload\n",
    "%autoreload 2"
   ]
  },
  {
   "cell_type": "code",
   "execution_count": null,
   "metadata": {},
   "outputs": [],
   "source": [
    "test_analysis = EnvironmentAnalysis(\n",
    "    start_date= datetime(2010, 6, 15),\n",
    "    end_date= datetime(2020, 6, 30),\n",
    "    latitude= 33,\n",
    "    longitude= -107,\n",
    "    elevation= 1400,\n",
    "    surfaceDataFile=\"..\\..\\data\\weather\\spaceport_america_surface_reanalysis_2015_2021.nc\",\n",
    "    pressureLevelDataFile=\"..\\..\\data\\weather\\spaceport_america_pressure_level_reanalysis_2015_2021.nc\"\n",
    ")\n",
    "\n",
    "# For more details about how to get .nc files for another specific time and location, please consult the following thread:   "
   ]
  },
  {
   "cell_type": "markdown",
   "metadata": {},
   "source": [
    "# Surface level Analysis"
   ]
  },
  {
   "cell_type": "code",
   "execution_count": null,
   "metadata": {},
   "outputs": [],
   "source": [
    "test_analysis.pressureLevelDataDict()"
   ]
  },
  {
   "cell_type": "markdown",
   "metadata": {},
   "source": [
    "## Average and record values"
   ]
  },
  {
   "cell_type": "markdown",
   "metadata": {},
   "source": [
    "- average max/min temperature\n",
    "        - record max/min temperature\n",
    "        - average max wind gust\n",
    "        - record max wind gust"
   ]
  },
  {
   "cell_type": "markdown",
   "metadata": {},
   "source": [
    "## Windrose plot"
   ]
  },
  {
   "cell_type": "markdown",
   "metadata": {},
   "source": [
    "# Pressure Level Analysis"
   ]
  },
  {
   "cell_type": "markdown",
   "metadata": {},
   "source": [
    "## Average wind profiles"
   ]
  },
  {
   "cell_type": "markdown",
   "metadata": {},
   "source": [
    "Moreover, we can see an animation of how the wind speed profile varies during an average day at Spaceport Location:"
   ]
  },
  {
   "cell_type": "markdown",
   "metadata": {},
   "source": [
    "# Going further with your analysis"
   ]
  },
  {
   "cell_type": "markdown",
   "metadata": {},
   "source": [
    "The best part of using Python is the flexibility, therefore it's important to highlight that other different experimentals and data analysis can be done using\n",
    "For instance, you could ask yourself about historical cloud celling height or .....\n",
    "Here are some different analysis we could mention:\n",
    "\n",
    "- \n",
    "- \n",
    "- "
   ]
  },
  {
   "cell_type": "code",
   "execution_count": null,
   "metadata": {},
   "outputs": [],
   "source": [
    "# Describe a new code here"
   ]
  }
 ],
 "metadata": {
  "interpreter": {
   "hash": "000513261dbe8be18a9c6e77151095a96c15b20c9ba7a180571e9a89db69cfb8"
  },
  "kernelspec": {
   "display_name": "Python 3.9.2 64-bit",
   "language": "python",
   "name": "python3"
  },
  "language_info": {
   "codemirror_mode": {
    "name": "ipython",
    "version": 3
   },
   "file_extension": ".py",
   "mimetype": "text/x-python",
   "name": "python",
   "nbconvert_exporter": "python",
   "pygments_lexer": "ipython3",
   "version": "3.9.2"
  },
  "orig_nbformat": 4
 },
 "nbformat": 4,
 "nbformat_minor": 2
}
