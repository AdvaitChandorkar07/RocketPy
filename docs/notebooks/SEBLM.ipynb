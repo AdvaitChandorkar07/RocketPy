{
 "cells": [
  {
   "cell_type": "code",
   "execution_count": null,
   "metadata": {},
   "outputs": [],
   "source": [
    "%load_ext autoreload\n",
    "%autoreload 2"
   ]
  },
  {
   "cell_type": "code",
   "execution_count": null,
   "metadata": {},
   "outputs": [],
   "source": [
    "from rocketpy import Function, LiquidMotor, MassFlowRateBasedTank, UllageBasedTank, MassBasedTank, Fluid, CylindricalTank"
   ]
  },
  {
   "cell_type": "code",
   "execution_count": null,
   "metadata": {},
   "outputs": [],
   "source": [
    "%matplotlib widget"
   ]
  },
  {
   "cell_type": "markdown",
   "metadata": {},
   "source": [
    "# Input Curves"
   ]
  },
  {
   "cell_type": "code",
   "execution_count": null,
   "metadata": {},
   "outputs": [],
   "source": [
    "LOX_Volume_Liters = Function(\"../../data/SEBLM/test124_Lox_Volume.csv\",extrapolation=\"zero\")\n",
    "LOX_Volume = LOX_Volume_Liters * 0.001\n",
    "LOX_Volume.setDiscrete(8.003, 19.984, 40,interpolation=\"linear\")\n",
    "LOX_Volume.plot(forceData=True)\n",
    "LOX_tank_ullage = 0.013167926436231077 - LOX_Volume\n",
    "LOX_tank_ullage.plot(8,8.5,forceData=True)"
   ]
  },
  {
   "cell_type": "code",
   "execution_count": null,
   "metadata": {},
   "outputs": [],
   "source": [
    "Propane_Volume_Liters = Function(\"../../data/SEBLM/test124_Propane_Volume.csv\")\n",
    "Propane_Volume = Propane_Volume_Liters * 0.001 # m3\n",
    "Propane_Volume.setDiscrete(8.003, 19.984, 40,\"linear\")\n",
    "Propane_Volume.plot(forceData=True)\n",
    "Propane_tank_ullage = 0.013167926436231077 - Propane_Volume\n",
    "Propane_tank_ullage.plot(forceData=True)"
   ]
  },
  {
   "cell_type": "markdown",
   "metadata": {},
   "source": [
    "# Fluids"
   ]
  },
  {
   "cell_type": "code",
   "execution_count": null,
   "metadata": {},
   "outputs": [],
   "source": [
    "LOX = Fluid(\"LOX\", 1024, 1)\n",
    "Propane = Fluid(\"Propane\", 566, 1)\n",
    "LOXTankPressurizingGas = Fluid(\"N2\", 31.3/28, 1) # 450 PSI\n",
    "PropaneTankPressurizingGas = Fluid(\"N2\", 313*300/4500/28, 1) # 300 PSI\n",
    "PressurizingGas = Fluid(\"N2\", 313/28, 1)# 4500 PSI"
   ]
  },
  {
   "cell_type": "markdown",
   "metadata": {},
   "source": [
    "# LOX Tank"
   ]
  },
  {
   "cell_type": "code",
   "execution_count": null,
   "metadata": {},
   "outputs": [],
   "source": [
    "LOX_tank_geometry = CylindricalTank(0.0744,0.658,spherical_caps=True)\n",
    "LOX_tank = UllageBasedTank(\n",
    "    name=\"LOX Tank\",\n",
    "    geometry=LOX_tank_geometry,\n",
    "    gas=LOXTankPressurizingGas,\n",
    "    liquid=LOX,\n",
    "    ullage=LOX_tank_ullage,\n",
    ")"
   ]
  },
  {
   "cell_type": "code",
   "execution_count": null,
   "metadata": {},
   "outputs": [],
   "source": [
    "LOX_tank.allInfo()"
   ]
  },
  {
   "cell_type": "markdown",
   "metadata": {},
   "source": [
    "# Propane Tank"
   ]
  },
  {
   "cell_type": "code",
   "execution_count": null,
   "metadata": {},
   "outputs": [],
   "source": [
    "Propane_tank_geometry = CylindricalTank(0.0744,0.658,spherical_caps=True)\n",
    "Propane_tank = UllageBasedTank(\n",
    "    name=\"Propane Tank\",\n",
    "    geometry=Propane_tank_geometry,\n",
    "    gas=PropaneTankPressurizingGas,\n",
    "    liquid=Propane,\n",
    "    ullage=Propane_tank_ullage,\n",
    ")"
   ]
  },
  {
   "cell_type": "code",
   "execution_count": null,
   "metadata": {},
   "outputs": [],
   "source": [
    "Propane_tank.allInfo()"
   ]
  },
  {
   "cell_type": "markdown",
   "metadata": {},
   "source": [
    "# Pressure Tank"
   ]
  },
  {
   "cell_type": "code",
   "execution_count": null,
   "metadata": {},
   "outputs": [],
   "source": [
    "Pressure_tank_geometry = CylindricalTank(0.135/2,0.846,spherical_caps=True)\n",
    "Pressure_tank = MassBasedTank(\n",
    "    name=\"Pressure Tank\",\n",
    "    geometry=Pressure_tank_geometry,\n",
    "    liquid_mass=0,\n",
    "    gas_mass=\"../../data/SEBLM/pressurantMassFiltered.csv\",\n",
    "    gas=PressurizingGas,\n",
    "    liquid=PressurizingGas,\n",
    ")\n"
   ]
  },
  {
   "cell_type": "code",
   "execution_count": null,
   "metadata": {},
   "outputs": [],
   "source": [
    "Pressure_tank.geometry.total_volume"
   ]
  },
  {
   "cell_type": "code",
   "execution_count": null,
   "metadata": {},
   "outputs": [],
   "source": [
    "Pressure_tank.liquidMass()"
   ]
  },
  {
   "cell_type": "markdown",
   "metadata": {},
   "source": [
    "# Liquid Motor"
   ]
  },
  {
   "cell_type": "code",
   "execution_count": null,
   "metadata": {},
   "outputs": [],
   "source": [
    "SEBLM = LiquidMotor(\n",
    "    thrustSource=\"../../data/SEBLM/test124_Thrust_Curve.csv\",\n",
    "    burnOut=20.0,\n",
    "    nozzleRadius=0.069/2,\n",
    "    nozzlePosition=-1.364,\n",
    "    coordinateSystemOrientation=\"nozzleToCombustionChamber\",\n",
    ")\n",
    "\n",
    "SEBLM.addTank(Propane_tank, position=-1.048)\n",
    "SEBLM.addTank(LOX_tank, position=0.711)\n",
    "SEBLM.addTank(Pressure_tank, position=2.007)"
   ]
  },
  {
   "cell_type": "code",
   "execution_count": null,
   "metadata": {},
   "outputs": [],
   "source": [
    "SEBLM.allInfo()"
   ]
  },
  {
   "cell_type": "code",
   "execution_count": null,
   "metadata": {},
   "outputs": [],
   "source": [
    "SEBLM.mass.setDiscrete(8, 20, 50)\n",
    "SEBLM.massDot.setDiscrete(8, 20, 50)\n",
    "SEBLM.centerOfMass.setDiscrete(8, 20, 50)\n",
    "SEBLM.Ixx.setDiscrete(8, 20, 50)\n",
    "SEBLM.Iyy.setDiscrete(8, 20, 50)"
   ]
  },
  {
   "cell_type": "code",
   "execution_count": null,
   "metadata": {},
   "outputs": [],
   "source": [
    "print(SEBLM.burnOutTime)\n",
    "print(SEBLM._csys)\n",
    "print(SEBLM.nozzlePosition)\n",
    "SEBLM.mass.plot(8, 20)\n",
    "SEBLM.massDot.plot(8, 20)\n",
    "SEBLM.thrust.plot(8, 20)\n",
    "SEBLM.centerOfMass.plot(8, 20)\n",
    "SEBLM.Ixx.plot(8, 20)\n",
    "SEBLM.Iyy.plot(8, 20)\n",
    "SEBLM.Izz.plot(8, 20)\n",
    "SEBLM.Ixy.plot(8, 20)\n",
    "SEBLM.Ixz.plot(8, 20)\n",
    "SEBLM.Iyz.plot(8, 20)"
   ]
  },
  {
   "cell_type": "markdown",
   "metadata": {},
   "source": [
    "# Rocket Definition"
   ]
  },
  {
   "cell_type": "code",
   "execution_count": null,
   "metadata": {},
   "outputs": [],
   "source": [
    "from rocketpy import Rocket\n",
    "\n",
    "SEBRocket = Rocket(\n",
    "    radius=0.098,\n",
    "    mass=63.4,\n",
    "    inertia=(25,25,1),\n",
    "    powerOffDrag=\"../../data/SEBLM/drag.csv\",\n",
    "    powerOnDrag=\"../../data/SEBLM/drag.csv\",\n",
    "    centerOfDryMassPosition=3.23,\n",
    "    coordinateSystemOrientation=\"noseToTail\",\n",
    ")\n",
    "SEBRocket.addMotor(SEBLM, position=5.75)\n",
    "SEBRocket.addNose(length=0.7, kind=\"vonKarman\", position=0)\n",
    "SEBRocket.addTail(\n",
    "    topRadius=0.098, bottomRadius=0.058, length=0.198, position=5.69-0.198\n",
    ")\n",
    "\n",
    "SEBRocket.addTrapezoidalFins(\n",
    "    n=4,\n",
    "    rootChord=0.355,\n",
    "    tipChord=0.0803,\n",
    "    span=0.156,\n",
    "    position=5.25,\n",
    "    cantAngle=0,\n",
    ")\n",
    "\n",
    "# Ignore next line\n",
    "SEBRocket.setRailButtons([-1, 1])\n"
   ]
  },
  {
   "cell_type": "code",
   "execution_count": null,
   "metadata": {},
   "outputs": [],
   "source": [
    "SEBRocket.allInfo()"
   ]
  },
  {
   "cell_type": "code",
   "execution_count": null,
   "metadata": {},
   "outputs": [],
   "source": [
    "from rocketpy import Environment\n",
    "\n",
    "env = Environment(\n",
    "    railLength=18.28, latitude=35.347122986338356, longitude=-117.80893423073582\n",
    ")\n",
    "\n",
    "# env.setDate((2022,12,3,14+7,0,0)) # UTC\n",
    "# env.setAtmosphericModel(type=\"Forecast\", file=\"GFS\")"
   ]
  },
  {
   "cell_type": "code",
   "execution_count": null,
   "metadata": {},
   "outputs": [],
   "source": [
    "from rocketpy import Flight\n",
    "\n",
    "TestFlight = Flight(rocket=SEBRocket, environment=env, inclination=90, heading=23, maxTimeStep=0.1)"
   ]
  },
  {
   "cell_type": "code",
   "execution_count": null,
   "metadata": {},
   "outputs": [],
   "source": [
    "TestFlight.angleOfAttack.plot(TestFlight.outOfRailTime, 15)"
   ]
  },
  {
   "cell_type": "code",
   "execution_count": null,
   "metadata": {},
   "outputs": [],
   "source": [
    "TestFlight.allInfo()"
   ]
  },
  {
   "cell_type": "markdown",
   "metadata": {},
   "source": [
    "- Rocket radius (largest radius)\n",
    "- Rocket dry mass (includes everything except propellant)\n",
    "- Rocket inertia tensor (I, Z)\n",
    "- Drag curves (power on, power off)\n",
    "- Nozzle position \n",
    "- NoseCone length, kind (von Karman) and position (tip position)\n",
    "- FinSet (n=3, rootChord, tipChord, span, position (tip of root chord), cantAngle)\n",
    "- Boattail top radius, bottom radius, length, position (top radius position)"
   ]
  },
  {
   "cell_type": "markdown",
   "metadata": {},
   "source": []
  }
 ],
 "metadata": {
  "kernelspec": {
   "display_name": "Python 3.10.0 ('rocketpy_dev')",
   "language": "python",
   "name": "python3"
  },
  "language_info": {
   "codemirror_mode": {
    "name": "ipython",
    "version": 3
   },
   "file_extension": ".py",
   "mimetype": "text/x-python",
   "name": "python",
   "nbconvert_exporter": "python",
   "pygments_lexer": "ipython3",
   "version": "3.10.5"
  },
  "orig_nbformat": 4,
  "vscode": {
   "interpreter": {
    "hash": "59ee05f09b472313b636ec8ef2b98477e505db7da462e17a2a6c52426ac2f597"
   }
  }
 },
 "nbformat": 4,
 "nbformat_minor": 2
}
