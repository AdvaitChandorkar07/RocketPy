{
 "cells": [
  {
   "attachments": {},
   "cell_type": "markdown",
   "metadata": {},
   "source": [
    "# Monte Carlo Dispersion Analysis with the Dispersion Class\n"
   ]
  },
  {
   "attachments": {},
   "cell_type": "markdown",
   "metadata": {},
   "source": [
    "Finally the Monte Carlo simulations can be performed using a dedicated class called Dispersion.\n",
    "Say goodbye to the long and tedious process of creating the Monte Carlo Simulations throughout jupyter notebooks!\n"
   ]
  },
  {
   "cell_type": "code",
   "execution_count": 1,
   "metadata": {},
   "outputs": [],
   "source": [
    "%load_ext autoreload\n",
    "%autoreload 2"
   ]
  },
  {
   "attachments": {},
   "cell_type": "markdown",
   "metadata": {},
   "source": [
    "First, let's import the necessary libraries, including the newest Dispersion class!\n"
   ]
  },
  {
   "cell_type": "code",
   "execution_count": 2,
   "metadata": {},
   "outputs": [],
   "source": [
    "from rocketpy import Environment, SolidMotor, Rocket, Flight, Dispersion\n",
    "from rocketpy.monte_carlo import (\n",
    "    McEnvironment,\n",
    "    McSolidMotor,\n",
    "    McRocket,\n",
    "    McFlight,\n",
    "    McNoseCone,\n",
    "    McTail,\n",
    "    McTrapezoidalFins,\n",
    "    McParachute,\n",
    ")\n",
    "import datetime\n"
   ]
  },
  {
   "attachments": {},
   "cell_type": "markdown",
   "metadata": {},
   "source": [
    "If you are using Jupyter Notebooks, it is recommended to run the following line to make matplotlib plots which will be shown later interactive and higher quality.\n"
   ]
  },
  {
   "cell_type": "code",
   "execution_count": 3,
   "metadata": {},
   "outputs": [],
   "source": [
    "%matplotlib inline"
   ]
  },
  {
   "attachments": {},
   "cell_type": "markdown",
   "metadata": {},
   "source": [
    "The Dispersion class allows us to perform Monte Carlo Simulations in a very simple way.\n",
    "We just need to create an instance of the class, and then call the method `run_dispersion()` to perform the simulations.\n",
    "The class has a lot of capabilities, but we will only use a few of them in this example.\n",
    "We encourage you to check the documentation of the class to learn more about the Dispersion.\n",
    "\n",
    "Also, you can check RocketPy's main reference for a better conceptual understanding\n",
    "of the Monte Carlo Simulations: [RocketPy: Six Degree-of-Freedom Rocket Trajectory Simulator](<https://doi.org/10.1061/(ASCE)AS.1943-5525.0001331>)\n",
    "\n",
    "TODO: improve the description\n"
   ]
  },
  {
   "attachments": {},
   "cell_type": "markdown",
   "metadata": {},
   "source": [
    "## First Step: Creating the Inputs for the Simulations\n"
   ]
  },
  {
   "attachments": {},
   "cell_type": "markdown",
   "metadata": {},
   "source": [
    "### Environment\n"
   ]
  },
  {
   "cell_type": "code",
   "execution_count": 4,
   "metadata": {},
   "outputs": [],
   "source": [
    "env = Environment(\n",
    "    railLength=5.7, latitude=39.389700, longitude=-8.288964, elevation=113\n",
    ")\n",
    "\n",
    "tomorrow = datetime.date.today() + datetime.timedelta(days=1)\n",
    "\n",
    "env.setDate((tomorrow.year, tomorrow.month, tomorrow.day, 12))  # Hour given in UTC time\n",
    "\n",
    "env.setAtmosphericModel(type=\"Forecast\", file=\"GFS\")\n"
   ]
  },
  {
   "attachments": {},
   "cell_type": "markdown",
   "metadata": {},
   "source": [
    "TODO: Improve docs\n",
    "Here we only add a standard deviation to rail length of 0.005\n"
   ]
  },
  {
   "cell_type": "code",
   "execution_count": 5,
   "metadata": {},
   "outputs": [
    {
     "data": {
      "text/plain": [
       "McEnvironment(railLength=(5.7, 0.005), date=[datetime.datetime(2023, 3, 11, 12, 0, tzinfo=<UTC>)], elevation=(141.80076211248732, 0), gravity=(9.80665, 0), latitude=(39.3897, 0), longitude=(-8.288964, 0), datum=['SIRGAS2000'], timeZone=['UTC'])"
      ]
     },
     "execution_count": 5,
     "metadata": {},
     "output_type": "execute_result"
    }
   ],
   "source": [
    "mc_env = McEnvironment(\n",
    "    environment=env,\n",
    "    railLength=0.005,\n",
    ")\n",
    "\n",
    "mc_env\n",
    "\n",
    "# TODO: improve the print or __repr__() of these Monte Carlo classes\n"
   ]
  },
  {
   "attachments": {},
   "cell_type": "markdown",
   "metadata": {},
   "source": [
    "### Motor\n"
   ]
  },
  {
   "attachments": {},
   "cell_type": "markdown",
   "metadata": {},
   "source": [
    "Let's define the motor using the firs method. We will be using the data from the manufacturer, and following\n",
    "the [RocketPy's documentation](https://docs.rocketpy.org/en/latest/user/index.html).\n"
   ]
  },
  {
   "cell_type": "code",
   "execution_count": 6,
   "metadata": {},
   "outputs": [],
   "source": [
    "motor = SolidMotor(\n",
    "    thrustSource=\"../../../data/motors/Cesaroni_M1670.eng\",\n",
    "    burnOutTime=3.9,\n",
    "    grainsCenterOfMassPosition=-0.85704,\n",
    "    grainNumber=5,\n",
    "    grainSeparation=5 / 1000,\n",
    "    grainDensity=1815,\n",
    "    grainOuterRadius=33 / 1000,\n",
    "    grainInitialInnerRadius=15 / 1000,\n",
    "    grainInitialHeight=120 / 1000,\n",
    "    nozzleRadius=33 / 1000,\n",
    "    throatRadius=11 / 1000,\n",
    "    interpolationMethod=\"linear\",\n",
    "    nozzlePosition=-1.255,\n",
    "    coordinateSystemOrientation=\"nozzleToCombustionChamber\",\n",
    ")\n"
   ]
  },
  {
   "cell_type": "code",
   "execution_count": 19,
   "metadata": {},
   "outputs": [
    {
     "data": {
      "text/plain": [
       "['thrustSource',\n",
       " 'burnOutTime',\n",
       " 'grainsCenterOfMassPosition',\n",
       " 'grainNumber',\n",
       " 'grainDensity',\n",
       " 'grainOuterRadius',\n",
       " 'grainInitialInnerRadius',\n",
       " 'grainInitialHeight',\n",
       " 'grainSeparation',\n",
       " 'totalImpulse',\n",
       " 'nozzleRadius',\n",
       " 'nozzlePosition',\n",
       " 'throatRadius']"
      ]
     },
     "execution_count": 19,
     "metadata": {},
     "output_type": "execute_result"
    }
   ],
   "source": [
    "v = [field_name for field_name, field_type in mc_motor.__fields__.items() if not field_type.required]\n",
    "v"
   ]
  },
  {
   "cell_type": "code",
   "execution_count": 15,
   "metadata": {},
   "outputs": [
    {
     "ename": "ValueError",
     "evalue": "not enough values to unpack (expected 2, got 1)",
     "output_type": "error",
     "traceback": [
      "\u001b[1;31m---------------------------------------------------------------------------\u001b[0m",
      "\u001b[1;31mValueError\u001b[0m                                Traceback (most recent call last)",
      "\u001b[1;32mc:\\Mateus\\GitHub\\RocketPy\\docs\\notebooks\\dispersion_analysis\\dispersion_class_usage.ipynb Cell 18\u001b[0m in \u001b[0;36m<cell line: 2>\u001b[1;34m()\u001b[0m\n\u001b[0;32m      <a href='vscode-notebook-cell:/c%3A/Mateus/GitHub/RocketPy/docs/notebooks/dispersion_analysis/dispersion_class_usage.ipynb#Y104sZmlsZQ%3D%3D?line=0'>1</a>\u001b[0m a \u001b[39m=\u001b[39m {\u001b[39m\"\u001b[39m\u001b[39m1\u001b[39m\u001b[39m\"\u001b[39m: \u001b[39m1\u001b[39m,\u001b[39m\"\u001b[39m\u001b[39mj\u001b[39m\u001b[39m\"\u001b[39m: \u001b[39m2\u001b[39m}\n\u001b[1;32m----> <a href='vscode-notebook-cell:/c%3A/Mateus/GitHub/RocketPy/docs/notebooks/dispersion_analysis/dispersion_class_usage.ipynb#Y104sZmlsZQ%3D%3D?line=1'>2</a>\u001b[0m \u001b[39mfor\u001b[39;00m i, j \u001b[39min\u001b[39;00m a:\n\u001b[0;32m      <a href='vscode-notebook-cell:/c%3A/Mateus/GitHub/RocketPy/docs/notebooks/dispersion_analysis/dispersion_class_usage.ipynb#Y104sZmlsZQ%3D%3D?line=2'>3</a>\u001b[0m     \u001b[39mprint\u001b[39m(i,j)\n",
      "\u001b[1;31mValueError\u001b[0m: not enough values to unpack (expected 2, got 1)"
     ]
    }
   ],
   "source": [
    "a = {\"1\": 1,\"j\": 2}\n",
    "for i, j in a:\n",
    "    print(i,j)"
   ]
  },
  {
   "cell_type": "code",
   "execution_count": 18,
   "metadata": {},
   "outputs": [
    {
     "name": "stdout",
     "output_type": "stream",
     "text": [
      "solidMotor True\n",
      "thrustSource False\n",
      "burnOutTime False\n",
      "grainsCenterOfMassPosition False\n",
      "grainNumber False\n",
      "grainDensity False\n",
      "grainOuterRadius False\n",
      "grainInitialInnerRadius False\n",
      "grainInitialHeight False\n",
      "grainSeparation False\n",
      "totalImpulse False\n",
      "nozzleRadius False\n",
      "nozzlePosition False\n",
      "throatRadius False\n"
     ]
    }
   ],
   "source": [
    "for name, val in mc_motor.__fields__.items():\n",
    "    print(name, val.required)"
   ]
  },
  {
   "cell_type": "code",
   "execution_count": 7,
   "metadata": {},
   "outputs": [
    {
     "name": "stdout",
     "output_type": "stream",
     "text": [
      "{'solidMotor': ModelField(name='solidMotor', type=SolidMotor, required=True), 'thrustSource': ModelField(name='thrustSource', type=List[Union[FilePath, NoneType]], required=False, default=[]), 'burnOutTime': ModelField(name='burnOutTime', type=Optional[Any], required=False, default=0), 'grainsCenterOfMassPosition': ModelField(name='grainsCenterOfMassPosition', type=Optional[Any], required=False, default=0), 'grainNumber': ModelField(name='grainNumber', type=List[Union[StrictInt, StrictFloat, NoneType]], required=False, default=[]), 'grainDensity': ModelField(name='grainDensity', type=Optional[Any], required=False, default=0), 'grainOuterRadius': ModelField(name='grainOuterRadius', type=Optional[Any], required=False, default=0), 'grainInitialInnerRadius': ModelField(name='grainInitialInnerRadius', type=Optional[Any], required=False, default=0), 'grainInitialHeight': ModelField(name='grainInitialHeight', type=Optional[Any], required=False, default=0), 'grainSeparation': ModelField(name='grainSeparation', type=Optional[Any], required=False, default=0), 'totalImpulse': ModelField(name='totalImpulse', type=Optional[Any], required=False, default=0), 'nozzleRadius': ModelField(name='nozzleRadius', type=Optional[Any], required=False, default=0), 'nozzlePosition': ModelField(name='nozzlePosition', type=Optional[Any], required=False, default=0), 'throatRadius': ModelField(name='throatRadius', type=Optional[Any], required=False, default=0)}\n"
     ]
    },
    {
     "data": {
      "text/plain": [
       "McSolidMotor(thrustSource=['../../../data/motors/Cesaroni_M1670.eng'], burnOutTime=(3.9, 1), grainsCenterOfMassPosition=(-0.85704, 0.001), grainNumber=[5], grainDensity=(1815, 50), grainOuterRadius=(0.033, 0), grainInitialInnerRadius=(0.015, 0), grainInitialHeight=(0.12, 0.001), grainSeparation=(0.005, 0), totalImpulse=(6026.35, 100), nozzleRadius=(0.033, 0), nozzlePosition=(-1.255, 0.001), throatRadius=(0.011, 0.0005))"
      ]
     },
     "execution_count": 7,
     "metadata": {},
     "output_type": "execute_result"
    }
   ],
   "source": [
    "mc_motor = McSolidMotor(\n",
    "    solidMotor=motor,\n",
    "    burnOutTime=1,\n",
    "    grainsCenterOfMassPosition=0.001,\n",
    "    grainDensity=50,\n",
    "    grainInitialHeight=0.001,\n",
    "    totalImpulse=100,\n",
    "    throatRadius=0.0005,\n",
    "    nozzlePosition=0.001,\n",
    ")\n",
    "\n",
    "mc_motor\n"
   ]
  },
  {
   "attachments": {},
   "cell_type": "markdown",
   "metadata": {},
   "source": [
    "### Rocket\n"
   ]
  },
  {
   "cell_type": "code",
   "execution_count": 8,
   "metadata": {},
   "outputs": [],
   "source": [
    "rocket = Rocket(\n",
    "    radius=127 / 2000,\n",
    "    mass=19.197 - 2.956,\n",
    "    inertiaI=6.60,\n",
    "    inertiaZ=0.0351,\n",
    "    powerOffDrag=\"../../../data/calisto/powerOffDragCurve.csv\",\n",
    "    powerOnDrag=\"../../../data/calisto/powerOnDragCurve.csv\",\n",
    "    centerOfDryMassPosition=0,\n",
    "    coordinateSystemOrientation=\"tailToNose\",\n",
    ")\n",
    "\n",
    "rocket.setRailButtons([0.2, -0.5])\n",
    "\n",
    "rocket.addMotor(motor, position=-1.255)\n",
    "\n",
    "nose_cone = rocket.addNose(length=0.55829, kind=\"vonKarman\", position=1.278)\n",
    "\n",
    "fin_set = rocket.addTrapezoidalFins(\n",
    "    n=4,\n",
    "    rootChord=0.120,\n",
    "    tipChord=0.040,\n",
    "    span=0.100,\n",
    "    position=-1.04956,\n",
    ")\n",
    "\n",
    "tail = rocket.addTail(\n",
    "    topRadius=0.0635, bottomRadius=0.0435, length=0.060, position=-1.194656\n",
    ")\n"
   ]
  },
  {
   "attachments": {},
   "cell_type": "markdown",
   "metadata": {},
   "source": [
    "Additionally, we set parachutes for our Rocket, as well as the trigger functions for the deployment of such parachutes.\n"
   ]
  },
  {
   "cell_type": "code",
   "execution_count": 9,
   "metadata": {},
   "outputs": [],
   "source": [
    "def drogueTrigger(p, y):\n",
    "    # p = pressure\n",
    "    # y = [x, y, z, vx, vy, vz, e0, e1, e2, e3, w1, w2, w3]\n",
    "    # activate drogue when vz < 0 m/s.\n",
    "    return True if y[5] < 0 else False\n",
    "\n",
    "\n",
    "def mainTrigger(p, y):\n",
    "    # p = pressure\n",
    "    # y = [x, y, z, vx, vy, vz, e0, e1, e2, e3, w1, w2, w3]\n",
    "    # activate main when vz < 0 m/s and z < 500 + 100 m (+100 due to surface elevation).\n",
    "    return True if y[5] < 0 and y[2] < 500 + 100 else False\n",
    "\n",
    "\n",
    "main_chute = rocket.addParachute(\n",
    "    \"Main\",\n",
    "    CdS=10.0,\n",
    "    trigger=mainTrigger,\n",
    "    samplingRate=105,\n",
    "    lag=1.5,\n",
    "    noise=(0, 8.3, 0.5),\n",
    ")\n",
    "\n",
    "drogue_chute = rocket.addParachute(\n",
    "    \"Drogue\",\n",
    "    CdS=1.0,\n",
    "    trigger=drogueTrigger,\n",
    "    samplingRate=105,\n",
    "    lag=1.5,\n",
    "    noise=(0, 8.3, 0.5),\n",
    ")\n"
   ]
  },
  {
   "cell_type": "code",
   "execution_count": 10,
   "metadata": {},
   "outputs": [
    {
     "data": {
      "text/plain": [
       "McRocket(radius=(0.0635, 1), mass=(16.241, 1), inertiaI=(6.6, 0), inertiaZ=(0.0351, 1), powerOffDrag=[Function from R1 to R1 : (Mach Number) → (Drag Coefficient with Power Off)], powerOnDrag=[Function from R1 to R1 : (Mach Number) → (Drag Coefficient with Power On)], centerOfDryMassPosition=(0, 0), powerOffDragFactor=(1, 0.03), powerOnDragFactor=(1, 0.03))"
      ]
     },
     "execution_count": 10,
     "metadata": {},
     "output_type": "execute_result"
    }
   ],
   "source": [
    "mc_rocket = McRocket(\n",
    "    rocket=rocket,\n",
    "    radius=1,\n",
    "    mass=1,\n",
    "    inertiaZ=1,\n",
    "    powerOffDragFactor=(1, 0.03),\n",
    "    powerOnDragFactor=(1, 0.03),\n",
    ")\n",
    "mc_rocket\n"
   ]
  },
  {
   "cell_type": "code",
   "execution_count": 11,
   "metadata": {},
   "outputs": [],
   "source": [
    "mc_nose_cone = McNoseCone(\n",
    "    nosecone=nose_cone,\n",
    "    length=0.001,\n",
    ")\n",
    "\n",
    "mc_fin_set = McTrapezoidalFins(\n",
    "    trapezoidalFins=fin_set,\n",
    "    rootChord=0.001,\n",
    "    tipChord=0.001,\n",
    "    span=0.001,\n",
    ")\n",
    "\n",
    "mc_tail = McTail(\n",
    "    tail=tail,\n",
    "    topRadius=0.001,\n",
    "    bottomRadius=0.001,\n",
    "    length=0.001,\n",
    ")\n",
    "\n",
    "mc_main = McParachute(\n",
    "    parachute=main_chute,\n",
    "    CdS=0.1,\n",
    "    lag=0.1,\n",
    ")\n",
    "\n",
    "mc_drogue = McParachute(\n",
    "    parachute=drogue_chute,\n",
    "    CdS=0.1,\n",
    "    lag=0.1,\n",
    ")\n"
   ]
  },
  {
   "cell_type": "code",
   "execution_count": 20,
   "metadata": {},
   "outputs": [],
   "source": [
    "mc_rocket.addMotor(mc_motor,position=0.001)\n",
    "mc_rocket.addNose(mc_nose_cone,position=(1.278,0.001))\n",
    "mc_rocket.addTrapezoidalFins(mc_fin_set,position=(0.001,\"dist_func\"))\n",
    "mc_rocket.addTail(mc_tail,position=(-1.194656,0.001,\"dist_func\"))\n",
    "mc_rocket.addParachute(mc_main)\n",
    "mc_rocket.addParachute(mc_drogue)\n"
   ]
  },
  {
   "cell_type": "code",
   "execution_count": 21,
   "metadata": {},
   "outputs": [
    {
     "name": "stdout",
     "output_type": "stream",
     "text": [
      "(-1.255, 0.001)\n",
      "(1.278, 0.001)\n",
      "(-1.04956, 0.001, 'dist_func')\n",
      "(-1.194656, 0.001, 'dist_func')\n"
     ]
    }
   ],
   "source": [
    "print(mc_rocket.motors[0].position)\n",
    "print(mc_rocket.nosecones[0].position)\n",
    "print(mc_rocket.fins[0].position)\n",
    "print(mc_rocket.tails[0].position)\n"
   ]
  },
  {
   "cell_type": "code",
   "execution_count": 13,
   "metadata": {},
   "outputs": [],
   "source": [
    "from typing import Any, List, Tuple, Union\n",
    "\n",
    "from pydantic import BaseModel, Extra, Field, FilePath, StrictFloat, StrictInt, root_validator\n",
    "\n",
    "\n",
    "class McSolidMotor(BaseModel):\n",
    "    \"\"\"_summary_\n",
    "\n",
    "    Parameters\n",
    "    ----------\n",
    "    BaseModel : _type_\n",
    "        _description_\n",
    "\n",
    "    Returns\n",
    "    -------\n",
    "    _type_\n",
    "        _description_\n",
    "\n",
    "    Raises\n",
    "    ------\n",
    "    ValueError\n",
    "        _description_\n",
    "    \"\"\"\n",
    "\n",
    "    solidMotor: SolidMotor = Field(..., repr=False)\n",
    "    thrustSource: List[Union[FilePath, None]] = []\n",
    "    burnOutTime: Any = 0\n",
    "    grainsCenterOfMassPosition: Any = 0\n",
    "    grainNumber: List[Union[Union[StrictInt, StrictFloat], None]] = []\n",
    "    grainDensity: Any = 0\n",
    "    grainOuterRadius: Any = 0\n",
    "    grainInitialInnerRadius: Any = 0\n",
    "    grainInitialHeight: Any = 0\n",
    "    grainSeparation: Any = 0\n",
    "    totalImpulse: Any = 0\n",
    "    nozzleRadius: Any = 0\n",
    "    nozzlePosition: Any = 0\n",
    "    throatRadius: Any = 0\n",
    "    # TODO: why coordinateSystemOrientation is not included in this class?\n",
    "\n",
    "    class Config:\n",
    "        arbitrary_types_allowed = True\n",
    "        extra=Extra.allow      \n",
    "\n",
    "    @root_validator(skip_on_failure=True)\n",
    "    def set_attr(cls, values):\n",
    "        \"\"\"Validates inputs that can be either tuples, lists, ints or floats and\n",
    "        saves them in the format (nom_val,std) or (nom_val,std,'dist_func').\n",
    "        Lists are saved as they are inputted.\n",
    "        Inputs can be given as floats or ints, referring to the standard deviation.\n",
    "        In this case, the nominal value of that attribute will come from the rocket\n",
    "        object passed. If the distribution function needs to be specified, then a\n",
    "        tuple with the standard deviation as the first item, and the string containing\n",
    "        the name a numpy.random distribution function can be passed.\n",
    "        If a tuple with a nominal value and a standard deviation is passed, then it\n",
    "        will take priority over the rocket object attribute's value. A third item\n",
    "        can also be added to the tuple specifying the distribution function\"\"\"\n",
    "\n",
    "        validate_fields = [\n",
    "            \"thrustSource\",\n",
    "            \"burnOutTime\",\n",
    "            \"grainsCenterOfMassPosition\",\n",
    "            \"grainNumber\",\n",
    "            \"grainDensity\",\n",
    "            \"grainOuterRadius\",\n",
    "            \"grainInitialInnerRadius\",\n",
    "            \"grainInitialHeight\",\n",
    "            \"grainSeparation\",\n",
    "            \"nozzleRadius\",\n",
    "            \"nozzlePosition\",\n",
    "            \"throatRadius\",\n",
    "            \"totalImpulse\",\n",
    "        ]\n",
    "        for field in validate_fields:\n",
    "            v = values[field]\n",
    "            # checks if tuple\n",
    "            if isinstance(v, tuple):\n",
    "                # checks if first item is valid\n",
    "                assert isinstance(\n",
    "                    v[0], (int, float)\n",
    "                ), f\"\\nField '{field}': \\n\\tFirst item of tuple must be either an int or float\"\n",
    "                # if len is two can either be (nom_val,std) or (std,'dist_func')\n",
    "                if len(v) == 2:\n",
    "                    # checks if second value is either string or int/float\n",
    "                    assert isinstance(\n",
    "                        v[1], (int, float, str)\n",
    "                    ), f\"\\nField '{field}': \\n\\tSecond item of tuple must be either an int, float or string \\n\\tIf the first value refers to the nominal value of {field}, then the second item's value should be the desired standard deviation \\n\\tIf the first value is the standard deviation, then the second item's value should be a string containing a name of a numpy.random distribution function\"\n",
    "                    # if second item is not str, then (nom_val, std)\n",
    "                    if not isinstance(v[1], str):\n",
    "                        values[field] = v\n",
    "                    # if second item is str, then (nom_val, std, str)\n",
    "                    else:\n",
    "                        values[field] = (\n",
    "                            getattr(values[\"solidMotor\"], field),\n",
    "                            v[0],\n",
    "                            v[1],\n",
    "                        )\n",
    "                # if len is three, then (nom_val, std, 'dist_func')\n",
    "                if len(v) == 3:\n",
    "                    assert isinstance(\n",
    "                        v[1], (int, float)\n",
    "                    ), f\"\\nField '{field}': \\n\\tSecond item of tuple must be either an int or float \\n\\tThe second item should be the standard deviation to be used in the simulation\"\n",
    "                    assert isinstance(\n",
    "                        v[2], str\n",
    "                    ), f\"\\nField '{field}': \\n\\tThird item of tuple must be a string \\n\\tThe string should contain the name of a valid numpy.random distribution function\"\n",
    "                    values[field] = v\n",
    "            elif isinstance(v, list):\n",
    "                # checks if input list is empty, meaning nothing was inputted\n",
    "                # and values should be gotten from class\n",
    "                if len(v) == 0:\n",
    "                    values[field] = [getattr(values[\"solidMotor\"], field)]\n",
    "                else:\n",
    "                    # guarantee all values are valid (ints or floats)\n",
    "                    assert all(\n",
    "                        isinstance(item, (int, float)) for item in v\n",
    "                    ), f\"\\nField '{field}': \\n\\tItems in list must be either ints or floats\"\n",
    "                    # all good, sets inputs\n",
    "                    values[field] = v\n",
    "            elif isinstance(v, (int, float)):\n",
    "                # not list or tuple, must be an int or float\n",
    "                # get attr and returns (nom_value, std)\n",
    "                values[field] = (getattr(values[\"solidMotor\"], field), v)\n",
    "            else:\n",
    "                raise ValueError(\n",
    "                    f\"\\nField '{field}': \\n\\tMust be either a tuple, list, int or float\"\n",
    "                )\n",
    "        return values\n"
   ]
  },
  {
   "cell_type": "code",
   "execution_count": 18,
   "metadata": {},
   "outputs": [],
   "source": [
    "mc_motor = McSolidMotor(\n",
    "    solidMotor=motor,\n",
    "    burnOutTime=1,\n",
    "    grainsCenterOfMassPosition=0.001,\n",
    "    grainDensity=50,\n",
    "    grainInitialHeight=0.001,\n",
    "    totalImpulse=100,\n",
    "    throatRadius=0.0005,\n",
    "    nozzlePosition=0.001,\n",
    ")\n",
    "mc_motor.position = 12"
   ]
  },
  {
   "cell_type": "code",
   "execution_count": 19,
   "metadata": {},
   "outputs": [
    {
     "name": "stdout",
     "output_type": "stream",
     "text": [
      "thrustSource=['../../../data/motors/Cesaroni_M1670.eng'] burnOutTime=(3.9, 1) grainsCenterOfMassPosition=(-0.85704, 0.001) grainNumber=[5] grainDensity=(1815, 50) grainOuterRadius=(0.033, 0) grainInitialInnerRadius=(0.015, 0) grainInitialHeight=(0.12, 0.001) grainSeparation=(0.005, 0) totalImpulse=(6026.35, 100) nozzleRadius=(0.033, 0) nozzlePosition=(-1.255, 0.001) throatRadius=(0.011, 0.0005) position=12\n"
     ]
    }
   ],
   "source": [
    "print(mc_motor)"
   ]
  },
  {
   "attachments": {},
   "cell_type": "markdown",
   "metadata": {},
   "source": [
    "### Flight\n"
   ]
  },
  {
   "cell_type": "code",
   "execution_count": 22,
   "metadata": {},
   "outputs": [],
   "source": [
    "test_flight = Flight(\n",
    "    rocket=rocket,\n",
    "    environment=env,\n",
    "    inclination=84,\n",
    "    heading=133,\n",
    ")\n"
   ]
  },
  {
   "cell_type": "code",
   "execution_count": 23,
   "metadata": {},
   "outputs": [],
   "source": [
    "mc_flight = McFlight(\n",
    "    flight=test_flight,\n",
    "    inclination=(84, 1),\n",
    "    heading=(133, 1),\n",
    ")\n"
   ]
  },
  {
   "attachments": {},
   "cell_type": "markdown",
   "metadata": {},
   "source": [
    "And we can visualize the flight trajectory:\n"
   ]
  },
  {
   "cell_type": "code",
   "execution_count": 24,
   "metadata": {},
   "outputs": [],
   "source": [
    "# test_flight.plots.trajectory_3d()\n"
   ]
  },
  {
   "attachments": {},
   "cell_type": "markdown",
   "metadata": {},
   "source": [
    "### Starting the Monte Carlo Simulations\n"
   ]
  },
  {
   "attachments": {},
   "cell_type": "markdown",
   "metadata": {},
   "source": [
    "First, let's invoke the Dispersion class, we only need a filename to initialize it.\n",
    "The filename will be used either to save the results of the simulations or to load them\n",
    "from a previous ran simulation.\n"
   ]
  },
  {
   "cell_type": "code",
   "execution_count": 25,
   "metadata": {},
   "outputs": [],
   "source": [
    "test_dispersion = Dispersion(\n",
    "    filename=\"dispersion_analysis_outputs/disp_class_example\",\n",
    "    environment=mc_env,\n",
    "    rocket=mc_rocket,\n",
    "    flight=mc_flight,\n",
    ")\n",
    "\n",
    "# TODO: add custom warning o when the rocket doesn't have a motors, parachute, or aerosurfaces\n"
   ]
  },
  {
   "attachments": {},
   "cell_type": "markdown",
   "metadata": {},
   "source": [
    "Then, we can run the simulations using the method Dispersion.run_dispersion().\n",
    "But before that, we need to set some simple parameters for the simulations.\n",
    "We will set them by using a dictionary, which is one of the simplest way to do it.\n"
   ]
  },
  {
   "attachments": {},
   "cell_type": "markdown",
   "metadata": {},
   "source": [
    "Finally, let's iterate over the simulations and export the data from each flight simulation!\n"
   ]
  },
  {
   "cell_type": "code",
   "execution_count": 26,
   "metadata": {},
   "outputs": [
    {
     "data": {
      "text/plain": [
       "'Starting'"
      ]
     },
     "metadata": {},
     "output_type": "display_data"
    },
    {
     "ename": "KeyboardInterrupt",
     "evalue": "",
     "output_type": "error",
     "traceback": [
      "\u001b[1;31m---------------------------------------------------------------------------\u001b[0m",
      "\u001b[1;31mKeyboardInterrupt\u001b[0m                         Traceback (most recent call last)",
      "Cell \u001b[1;32mIn[26], line 1\u001b[0m\n\u001b[1;32m----> 1\u001b[0m test_dispersion\u001b[39m.\u001b[39;49mrun_dispersion(\n\u001b[0;32m      2\u001b[0m     number_of_simulations\u001b[39m=\u001b[39;49m\u001b[39m50\u001b[39;49m,\n\u001b[0;32m      3\u001b[0m     append\u001b[39m=\u001b[39;49m\u001b[39mFalse\u001b[39;49;00m,\n\u001b[0;32m      4\u001b[0m )\n",
      "File \u001b[1;32mc:\\users\\guiga\\documents\\github-vscode\\rocketpy\\rocketpy\\Dispersion.py:761\u001b[0m, in \u001b[0;36mDispersion.run_dispersion\u001b[1;34m(self, number_of_simulations, export_list, append)\u001b[0m\n\u001b[0;32m    755\u001b[0m \u001b[39m# TODO: Fix rail buttons definition\u001b[39;00m\n\u001b[0;32m    756\u001b[0m \u001b[39m# rocket_dispersion.setRailButtons()\u001b[39;00m\n\u001b[0;32m    757\u001b[0m \n\u001b[0;32m    758\u001b[0m \u001b[39m# Run trajectory simulation\u001b[39;00m\n\u001b[0;32m    759\u001b[0m \u001b[39mtry\u001b[39;00m:\n\u001b[0;32m    760\u001b[0m     \u001b[39m# TODO: Add initialSolution flight option\u001b[39;00m\n\u001b[1;32m--> 761\u001b[0m     dispersion_flight \u001b[39m=\u001b[39m Flight(\n\u001b[0;32m    762\u001b[0m         rocket\u001b[39m=\u001b[39;49mrocket_dispersion,\n\u001b[0;32m    763\u001b[0m         environment\u001b[39m=\u001b[39;49menv_dispersion,\n\u001b[0;32m    764\u001b[0m         inclination\u001b[39m=\u001b[39;49msetting[\u001b[39m\"\u001b[39;49m\u001b[39mflight\u001b[39;49m\u001b[39m\"\u001b[39;49m][\u001b[39m\"\u001b[39;49m\u001b[39minclination\u001b[39;49m\u001b[39m\"\u001b[39;49m],\n\u001b[0;32m    765\u001b[0m         heading\u001b[39m=\u001b[39;49msetting[\u001b[39m\"\u001b[39;49m\u001b[39mflight\u001b[39;49m\u001b[39m\"\u001b[39;49m][\u001b[39m\"\u001b[39;49m\u001b[39mheading\u001b[39;49m\u001b[39m\"\u001b[39;49m],\n\u001b[0;32m    766\u001b[0m         \u001b[39m# terminateOnApogee=setting[\"flight\"][\"terminateOnApogee\"],\u001b[39;49;00m\n\u001b[0;32m    767\u001b[0m         \u001b[39m# maxTime=setting[\"flight\"][\"maxTime\"],\u001b[39;49;00m\n\u001b[0;32m    768\u001b[0m         \u001b[39m# maxTimeStep=setting[\"flight\"][\"maxTimeStep\"],\u001b[39;49;00m\n\u001b[0;32m    769\u001b[0m         \u001b[39m# minTimeStep=setting[\"flight\"][\"minTimeStep\"],\u001b[39;49;00m\n\u001b[0;32m    770\u001b[0m         \u001b[39m# rtol=setting[\"flight\"][\"rtol\"],\u001b[39;49;00m\n\u001b[0;32m    771\u001b[0m         \u001b[39m# atol=setting[\"flight\"][\"atol\"],\u001b[39;49;00m\n\u001b[0;32m    772\u001b[0m         \u001b[39m# timeOvershoot=setting[\"flight\"][\"timeOvershoot\"],\u001b[39;49;00m\n\u001b[0;32m    773\u001b[0m         \u001b[39m# verbose=setting[\"flight\"][\"verbose\"],\u001b[39;49;00m\n\u001b[0;32m    774\u001b[0m     )\n\u001b[0;32m    776\u001b[0m     \u001b[39mself\u001b[39m\u001b[39m.\u001b[39m__export_flight_data(\n\u001b[0;32m    777\u001b[0m         flight_setting\u001b[39m=\u001b[39msetting,\n\u001b[0;32m    778\u001b[0m         flight\u001b[39m=\u001b[39mdispersion_flight,\n\u001b[1;32m   (...)\u001b[0m\n\u001b[0;32m    781\u001b[0m         dispersion_output_file\u001b[39m=\u001b[39mdispersion_output_file,\n\u001b[0;32m    782\u001b[0m     )\n\u001b[0;32m    783\u001b[0m \u001b[39mexcept\u001b[39;00m \u001b[39mException\u001b[39;00m \u001b[39mas\u001b[39;00m E:\n",
      "File \u001b[1;32mc:\\users\\guiga\\documents\\github-vscode\\rocketpy\\rocketpy\\Flight.py:772\u001b[0m, in \u001b[0;36mFlight.__init__\u001b[1;34m(self, rocket, environment, inclination, heading, initialSolution, terminateOnApogee, maxTime, maxTimeStep, minTimeStep, rtol, atol, timeOvershoot, verbose, name)\u001b[0m\n\u001b[0;32m    769\u001b[0m \u001b[39m# Step through simulation\u001b[39;00m\n\u001b[0;32m    770\u001b[0m \u001b[39mwhile\u001b[39;00m phase\u001b[39m.\u001b[39msolver\u001b[39m.\u001b[39mstatus \u001b[39m==\u001b[39m \u001b[39m\"\u001b[39m\u001b[39mrunning\u001b[39m\u001b[39m\"\u001b[39m:\n\u001b[0;32m    771\u001b[0m     \u001b[39m# Step\u001b[39;00m\n\u001b[1;32m--> 772\u001b[0m     phase\u001b[39m.\u001b[39;49msolver\u001b[39m.\u001b[39;49mstep()\n\u001b[0;32m    773\u001b[0m     \u001b[39m# Save step result\u001b[39;00m\n\u001b[0;32m    774\u001b[0m     \u001b[39mself\u001b[39m\u001b[39m.\u001b[39msolution \u001b[39m+\u001b[39m\u001b[39m=\u001b[39m [[phase\u001b[39m.\u001b[39msolver\u001b[39m.\u001b[39mt, \u001b[39m*\u001b[39mphase\u001b[39m.\u001b[39msolver\u001b[39m.\u001b[39my]]\n",
      "File \u001b[1;32mc:\\Users\\guiga\\Documents\\Github-vscode\\RocketPy\\.venv\\lib\\site-packages\\scipy\\integrate\\_ivp\\base.py:181\u001b[0m, in \u001b[0;36mOdeSolver.step\u001b[1;34m(self)\u001b[0m\n\u001b[0;32m    179\u001b[0m \u001b[39melse\u001b[39;00m:\n\u001b[0;32m    180\u001b[0m     t \u001b[39m=\u001b[39m \u001b[39mself\u001b[39m\u001b[39m.\u001b[39mt\n\u001b[1;32m--> 181\u001b[0m     success, message \u001b[39m=\u001b[39m \u001b[39mself\u001b[39;49m\u001b[39m.\u001b[39;49m_step_impl()\n\u001b[0;32m    183\u001b[0m     \u001b[39mif\u001b[39;00m \u001b[39mnot\u001b[39;00m success:\n\u001b[0;32m    184\u001b[0m         \u001b[39mself\u001b[39m\u001b[39m.\u001b[39mstatus \u001b[39m=\u001b[39m \u001b[39m'\u001b[39m\u001b[39mfailed\u001b[39m\u001b[39m'\u001b[39m\n",
      "File \u001b[1;32mc:\\Users\\guiga\\Documents\\Github-vscode\\RocketPy\\.venv\\lib\\site-packages\\scipy\\integrate\\_ivp\\lsoda.py:152\u001b[0m, in \u001b[0;36mLSODA._step_impl\u001b[1;34m(self)\u001b[0m\n\u001b[0;32m    150\u001b[0m itask \u001b[39m=\u001b[39m integrator\u001b[39m.\u001b[39mcall_args[\u001b[39m2\u001b[39m]\n\u001b[0;32m    151\u001b[0m integrator\u001b[39m.\u001b[39mcall_args[\u001b[39m2\u001b[39m] \u001b[39m=\u001b[39m \u001b[39m5\u001b[39m\n\u001b[1;32m--> 152\u001b[0m solver\u001b[39m.\u001b[39m_y, solver\u001b[39m.\u001b[39mt \u001b[39m=\u001b[39m integrator\u001b[39m.\u001b[39;49mrun(\n\u001b[0;32m    153\u001b[0m     solver\u001b[39m.\u001b[39;49mf, solver\u001b[39m.\u001b[39;49mjac \u001b[39mor\u001b[39;49;00m (\u001b[39mlambda\u001b[39;49;00m: \u001b[39mNone\u001b[39;49;00m), solver\u001b[39m.\u001b[39;49m_y, solver\u001b[39m.\u001b[39;49mt,\n\u001b[0;32m    154\u001b[0m     \u001b[39mself\u001b[39;49m\u001b[39m.\u001b[39;49mt_bound, solver\u001b[39m.\u001b[39;49mf_params, solver\u001b[39m.\u001b[39;49mjac_params)\n\u001b[0;32m    155\u001b[0m integrator\u001b[39m.\u001b[39mcall_args[\u001b[39m2\u001b[39m] \u001b[39m=\u001b[39m itask\n\u001b[0;32m    157\u001b[0m \u001b[39mif\u001b[39;00m solver\u001b[39m.\u001b[39msuccessful():\n",
      "File \u001b[1;32mc:\\Users\\guiga\\Documents\\Github-vscode\\RocketPy\\.venv\\lib\\site-packages\\scipy\\integrate\\_ode.py:1344\u001b[0m, in \u001b[0;36mlsoda.run\u001b[1;34m(self, f, jac, y0, t0, t1, f_params, jac_params)\u001b[0m\n\u001b[0;32m   1341\u001b[0m     \u001b[39mself\u001b[39m\u001b[39m.\u001b[39macquire_new_handle()\n\u001b[0;32m   1342\u001b[0m args \u001b[39m=\u001b[39m [f, y0, t0, t1] \u001b[39m+\u001b[39m \u001b[39mself\u001b[39m\u001b[39m.\u001b[39mcall_args[:\u001b[39m-\u001b[39m\u001b[39m1\u001b[39m] \u001b[39m+\u001b[39m \\\n\u001b[0;32m   1343\u001b[0m        [jac, \u001b[39mself\u001b[39m\u001b[39m.\u001b[39mcall_args[\u001b[39m-\u001b[39m\u001b[39m1\u001b[39m], f_params, \u001b[39m0\u001b[39m, jac_params]\n\u001b[1;32m-> 1344\u001b[0m y1, t, istate \u001b[39m=\u001b[39m \u001b[39mself\u001b[39;49m\u001b[39m.\u001b[39;49mrunner(\u001b[39m*\u001b[39;49margs)\n\u001b[0;32m   1345\u001b[0m \u001b[39mself\u001b[39m\u001b[39m.\u001b[39mistate \u001b[39m=\u001b[39m istate\n\u001b[0;32m   1346\u001b[0m \u001b[39mif\u001b[39;00m istate \u001b[39m<\u001b[39m \u001b[39m0\u001b[39m:\n",
      "File \u001b[1;32mc:\\Users\\guiga\\Documents\\Github-vscode\\RocketPy\\.venv\\lib\\site-packages\\scipy\\integrate\\_ivp\\base.py:138\u001b[0m, in \u001b[0;36mOdeSolver.__init__.<locals>.fun\u001b[1;34m(t, y)\u001b[0m\n\u001b[0;32m    136\u001b[0m \u001b[39mdef\u001b[39;00m \u001b[39mfun\u001b[39m(t, y):\n\u001b[0;32m    137\u001b[0m     \u001b[39mself\u001b[39m\u001b[39m.\u001b[39mnfev \u001b[39m+\u001b[39m\u001b[39m=\u001b[39m \u001b[39m1\u001b[39m\n\u001b[1;32m--> 138\u001b[0m     \u001b[39mreturn\u001b[39;00m \u001b[39mself\u001b[39;49m\u001b[39m.\u001b[39;49mfun_single(t, y)\n",
      "File \u001b[1;32mc:\\Users\\guiga\\Documents\\Github-vscode\\RocketPy\\.venv\\lib\\site-packages\\scipy\\integrate\\_ivp\\base.py:20\u001b[0m, in \u001b[0;36mcheck_arguments.<locals>.fun_wrapped\u001b[1;34m(t, y)\u001b[0m\n\u001b[0;32m     19\u001b[0m \u001b[39mdef\u001b[39;00m \u001b[39mfun_wrapped\u001b[39m(t, y):\n\u001b[1;32m---> 20\u001b[0m     \u001b[39mreturn\u001b[39;00m np\u001b[39m.\u001b[39masarray(fun(t, y), dtype\u001b[39m=\u001b[39mdtype)\n",
      "File \u001b[1;32mc:\\users\\guiga\\documents\\github-vscode\\rocketpy\\rocketpy\\Flight.py:1529\u001b[0m, in \u001b[0;36mFlight.uDot\u001b[1;34m(self, t, u, postProcessing)\u001b[0m\n\u001b[0;32m   1523\u001b[0m \u001b[39m# Linear acceleration\u001b[39;00m\n\u001b[0;32m   1524\u001b[0m L \u001b[39m=\u001b[39m [\n\u001b[0;32m   1525\u001b[0m     (R1 \u001b[39m-\u001b[39m b \u001b[39m*\u001b[39m Mt \u001b[39m*\u001b[39m (omega2\u001b[39m*\u001b[39m\u001b[39m*\u001b[39m\u001b[39m2\u001b[39m \u001b[39m+\u001b[39m omega3\u001b[39m*\u001b[39m\u001b[39m*\u001b[39m\u001b[39m2\u001b[39m) \u001b[39m-\u001b[39m \u001b[39m2\u001b[39m \u001b[39m*\u001b[39m c \u001b[39m*\u001b[39m MtDot \u001b[39m*\u001b[39m omega2) \u001b[39m/\u001b[39m M,\n\u001b[0;32m   1526\u001b[0m     (R2 \u001b[39m+\u001b[39m b \u001b[39m*\u001b[39m Mt \u001b[39m*\u001b[39m (alpha3 \u001b[39m+\u001b[39m omega1 \u001b[39m*\u001b[39m omega2) \u001b[39m+\u001b[39m \u001b[39m2\u001b[39m \u001b[39m*\u001b[39m c \u001b[39m*\u001b[39m MtDot \u001b[39m*\u001b[39m omega1) \u001b[39m/\u001b[39m M,\n\u001b[0;32m   1527\u001b[0m     (R3 \u001b[39m-\u001b[39m b \u001b[39m*\u001b[39m Mt \u001b[39m*\u001b[39m (alpha2 \u001b[39m-\u001b[39m omega1 \u001b[39m*\u001b[39m omega3) \u001b[39m+\u001b[39m Thrust) \u001b[39m/\u001b[39m M,\n\u001b[0;32m   1528\u001b[0m ]\n\u001b[1;32m-> 1529\u001b[0m ax, ay, az \u001b[39m=\u001b[39m np\u001b[39m.\u001b[39;49mdot(K, L)\n\u001b[0;32m   1530\u001b[0m az \u001b[39m-\u001b[39m\u001b[39m=\u001b[39m \u001b[39mself\u001b[39m\u001b[39m.\u001b[39menv\u001b[39m.\u001b[39mgravity  \u001b[39m# Include gravity\u001b[39;00m\n\u001b[0;32m   1532\u001b[0m \u001b[39m# Create uDot\u001b[39;00m\n",
      "File \u001b[1;32m<__array_function__ internals>:200\u001b[0m, in \u001b[0;36mdot\u001b[1;34m(*args, **kwargs)\u001b[0m\n",
      "\u001b[1;31mKeyboardInterrupt\u001b[0m: "
     ]
    }
   ],
   "source": [
    "test_dispersion.run_dispersion(\n",
    "    number_of_simulations=50,\n",
    "    append=False,\n",
    ")\n",
    "\n",
    "# TODO: it seems the dispersion is falling into an eternal loop. Need to check it out \n"
   ]
  },
  {
   "cell_type": "code",
   "execution_count": 27,
   "metadata": {},
   "outputs": [
    {
     "data": {
      "text/plain": [
       "{'environment': {'railLength': (5.7, 0.005, <function RandomState.normal>),\n",
       "  'date': [datetime.datetime(2023, 3, 6, 12, 0, tzinfo=<UTC>)],\n",
       "  'elevation': (141.80076211248732, 0, <function RandomState.normal>),\n",
       "  'gravity': (9.80665, 0, <function RandomState.normal>),\n",
       "  'latitude': (39.3897, 0, <function RandomState.normal>),\n",
       "  'longitude': (-8.288964, 0, <function RandomState.normal>),\n",
       "  'datum': ['SIRGAS2000'],\n",
       "  'timeZone': ['UTC']},\n",
       " 'rocket': {'radius': (0.0635, 1, <function RandomState.normal>),\n",
       "  'mass': (16.241, 1, <function RandomState.normal>),\n",
       "  'inertiaI': (6.6, 0, <function RandomState.normal>),\n",
       "  'inertiaZ': (0.0351, 1, <function RandomState.normal>),\n",
       "  'powerOffDrag': [Function from R1 to R1 : (Mach Number) → (Drag Coefficient with Power Off)],\n",
       "  'powerOnDrag': [Function from R1 to R1 : (Mach Number) → (Drag Coefficient with Power On)],\n",
       "  'centerOfDryMassPosition': (0, 0, <function RandomState.normal>),\n",
       "  'powerOffDragFactor': (1, 0.03, <function RandomState.normal>),\n",
       "  'powerOnDragFactor': (1, 0.03, <function RandomState.normal>)},\n",
       " 'motors': {0: {'thrustSource': ['../../../data/motors/Cesaroni_M1670.eng'],\n",
       "   'burnOutTime': (3.9, 1, <function RandomState.normal>),\n",
       "   'grainsCenterOfMassPosition': (-0.85704,\n",
       "    0.001,\n",
       "    <function RandomState.normal>),\n",
       "   'grainNumber': [5],\n",
       "   'grainDensity': (1815, 50, <function RandomState.normal>),\n",
       "   'grainOuterRadius': (0.033, 0, <function RandomState.normal>),\n",
       "   'grainInitialInnerRadius': (0.015, 0, <function RandomState.normal>),\n",
       "   'grainInitialHeight': (0.12, 0.001, <function RandomState.normal>),\n",
       "   'grainSeparation': (0.005, 0, <function RandomState.normal>),\n",
       "   'totalImpulse': (6026.35, 100, <function RandomState.normal>),\n",
       "   'nozzleRadius': (0.033, 0, <function RandomState.normal>),\n",
       "   'nozzlePosition': (-1.255, 0.001, <function RandomState.normal>),\n",
       "   'throatRadius': (0.011, 0.0005, <function RandomState.normal>),\n",
       "   'position': (1, 0.001, <function RandomState.normal>)}},\n",
       " 'flight': {'inclination': (84, 1, <function RandomState.normal>),\n",
       "  'heading': (133, 1, <function RandomState.normal>)},\n",
       " 'nosecones': {0: {'length': (0.55829, 0.001, <function RandomState.normal>),\n",
       "   'kind': ['vonKarman'],\n",
       "   'position': (1.278, 0.001, <function RandomState.normal>),\n",
       "   'baseRadius': (0.0635, 0, <function RandomState.normal>),\n",
       "   'rocketRadius': (0.0635, 0, <function RandomState.normal>),\n",
       "   'name': ['Nose Cone']}},\n",
       " 'fins': {0: {'n': [4],\n",
       "   'rootChord': (0.12, 0.001, <function RandomState.normal>),\n",
       "   'tipChord': (0.04, 0.001, <function RandomState.normal>),\n",
       "   'span': (0.1, 0.001, <function RandomState.normal>),\n",
       "   'position': (-1.04956, 0.001, <function RandomState.normal>),\n",
       "   'rocketRadius': (0.0635, 0, <function RandomState.normal>),\n",
       "   'cantAngle': (0, 0, <function RandomState.normal>),\n",
       "   'sweepLength': (0.07999999999999999, 0, <function RandomState.normal>),\n",
       "   'sweepAngle': (None, 0, <function RandomState.normal>),\n",
       "   'airfoil': [None],\n",
       "   'name': ['Fins']}},\n",
       " 'tails': {0: {'topRadius': (0.0635, 0.001, <function RandomState.normal>),\n",
       "   'bottomRadius': (0.0435, 0.001, <function RandomState.normal>),\n",
       "   'length': (0.06, 0.001, <function RandomState.normal>),\n",
       "   'position': (-1.194656, 0.001, <function RandomState.normal>),\n",
       "   'rocketRadius': (0.0635, 0, <function RandomState.normal>),\n",
       "   'name': ['Tail']}},\n",
       " 'parachutes': {0: {'CdS': (10.0, 0.1, <function RandomState.normal>),\n",
       "   'trigger': [<function __main__.mainTrigger(p, y)>],\n",
       "   'samplingRate': (105, 0, <function RandomState.normal>),\n",
       "   'lag': (1.5, 0.1, <function RandomState.normal>),\n",
       "   'name': ['Main'],\n",
       "   'noise': [(0, 8.3, 0.5)]},\n",
       "  1: {'CdS': (1.0, 0.1, <function RandomState.normal>),\n",
       "   'trigger': [<function __main__.drogueTrigger(p, y)>],\n",
       "   'samplingRate': (105, 0, <function RandomState.normal>),\n",
       "   'lag': (1.5, 0.1, <function RandomState.normal>),\n",
       "   'name': ['Drogue'],\n",
       "   'noise': [(0, 8.3, 0.5)]}}}"
      ]
     },
     "execution_count": 27,
     "metadata": {},
     "output_type": "execute_result"
    }
   ],
   "source": [
    "# In case you want to verify the new dispersion dictionary format...\n",
    "test_dispersion.dispersion_dictionary\n"
   ]
  },
  {
   "attachments": {},
   "cell_type": "markdown",
   "metadata": {},
   "source": [
    "### Visualizing the results\n"
   ]
  },
  {
   "attachments": {},
   "cell_type": "markdown",
   "metadata": {},
   "source": [
    "Now we finally have the results of our Monte Carlo simulations loaded!\n",
    "Let's play with them.\n"
   ]
  },
  {
   "attachments": {},
   "cell_type": "markdown",
   "metadata": {},
   "source": [
    "First, we can print numerical information regarding the results of the simulations.\n"
   ]
  },
  {
   "cell_type": "code",
   "execution_count": null,
   "metadata": {},
   "outputs": [],
   "source": [
    "test_dispersion.import_results()\n"
   ]
  },
  {
   "cell_type": "code",
   "execution_count": null,
   "metadata": {},
   "outputs": [],
   "source": [
    "test_dispersion.print_results()\n"
   ]
  },
  {
   "attachments": {},
   "cell_type": "markdown",
   "metadata": {},
   "source": [
    "Also, we can visualize histograms of such results\n"
   ]
  },
  {
   "cell_type": "code",
   "execution_count": null,
   "metadata": {},
   "outputs": [],
   "source": [
    "test_dispersion.allInfo()\n"
   ]
  },
  {
   "attachments": {},
   "cell_type": "markdown",
   "metadata": {},
   "source": [
    "Export to kml so it can be visualized in Google Earth\n"
   ]
  },
  {
   "cell_type": "code",
   "execution_count": null,
   "metadata": {},
   "outputs": [],
   "source": [
    "test_dispersion.exportEllipsesToKML(\n",
    "    filename=\"dispersion_analysis_outputs/disp_class_example.kml\",\n",
    "    origin_lat=env.latitude,\n",
    "    origin_lon=env.longitude,\n",
    "    type=\"impact\",\n",
    ")\n"
   ]
  }
 ],
 "metadata": {
  "hide_input": false,
  "kernelspec": {
   "display_name": "Python 3.10.5 64-bit",
   "language": "python",
   "name": "python3"
  },
  "language_info": {
   "codemirror_mode": {
    "name": "ipython",
    "version": 3
   },
   "file_extension": ".py",
   "mimetype": "text/x-python",
   "name": "python",
   "nbconvert_exporter": "python",
   "pygments_lexer": "ipython3",
   "version": "3.10.5"
  },
  "vscode": {
   "interpreter": {
    "hash": "26de051ba29f2982a8de78e945f0abaf191376122a1563185a90213a26c5da77"
   }
  }
 },
 "nbformat": 4,
 "nbformat_minor": 2
}
