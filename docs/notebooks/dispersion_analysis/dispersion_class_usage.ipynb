{
 "cells": [
  {
   "cell_type": "markdown",
   "metadata": {},
   "source": [
    "# Monte Carlo Dispersion Analysis with the Dispersion Class"
   ]
  },
  {
   "cell_type": "markdown",
   "metadata": {},
   "source": [
    "Finally the Monte Carlo Simulations can be performed using a dedicated class called Dispersion. This class is a wrapper for the Monte Carlo Simulations, and it is the recommended way to perform the simulations. Say goodbye to the long and tedious process of creating the Monte Carlo Simulations throughout jupyter notebooks!"
   ]
  },
  {
   "cell_type": "code",
   "execution_count": null,
   "metadata": {},
   "outputs": [],
   "source": [
    "%load_ext autoreload\n",
    "%autoreload 2"
   ]
  },
  {
   "cell_type": "markdown",
   "metadata": {},
   "source": [
    "First, let's import the necessary libraries, including the newest Dispersion class!"
   ]
  },
  {
   "cell_type": "code",
   "execution_count": null,
   "metadata": {},
   "outputs": [],
   "source": [
    "from rocketpy import Environment, Rocket, SolidMotor, Flight, Dispersion\n"
   ]
  },
  {
   "cell_type": "markdown",
   "metadata": {},
   "source": [
    "If you are using Jupyter Notebooks, it is recommended to run the following line to make matplotlib plots which will be shown later interactive and higher quality."
   ]
  },
  {
   "cell_type": "code",
   "execution_count": null,
   "metadata": {},
   "outputs": [],
   "source": [
    "%matplotlib inline"
   ]
  },
  {
   "cell_type": "markdown",
   "metadata": {},
   "source": [
    "The Dispersion class allows us to perform Monte Carlo Simulations in a very simple way.\n",
    "We just need to create an instance of the class, and then call the method run() to perform the simulations.\n",
    "The class has a lot of capabilities, but we will only use a few of them in this example.\n",
    "We encourage you to check the documentation of the class to learn more about the Dispersion.\n",
    "\n",
    "Also, you can check RocketPy's main reference for a better conceptual understanding \n",
    "of the Monte Carlo Simulations: [RocketPy: Six Degree-of-Freedom Rocket Trajectory Simulator](https://doi.org/10.1061/(ASCE)AS.1943-5525.0001331)"
   ]
  },
  {
   "cell_type": "markdown",
   "metadata": {},
   "source": [
    "We will describe two different options of usage:\n",
    "- Using a Flight object as input, speeding up the process of creating the simulations. (currently not completely described in this notebook)\n",
    "- Using a dictionary as input, including mean values and uncertainties for each parameter \n",
    "\n",
    "You need only one of them to get started. "
   ]
  },
  {
   "cell_type": "markdown",
   "metadata": {},
   "source": [
    "## 1st Option -> Use your Flight object as input for the Dispersion class"
   ]
  },
  {
   "cell_type": "markdown",
   "metadata": {},
   "source": [
    "### Creating an Environment for 'Ponte de Sôr', Portugal"
   ]
  },
  {
   "cell_type": "code",
   "execution_count": null,
   "metadata": {},
   "outputs": [],
   "source": [
    "Env = Environment(\n",
    "    railLength=5.2, latitude=39.389700, longitude=-8.288964, elevation=113\n",
    ")\n"
   ]
  },
  {
   "cell_type": "markdown",
   "metadata": {},
   "source": [
    "To get weather data from the GFS forecast, available online, we run the following lines.\n",
    "\n",
    "First, we set tomorrow's date."
   ]
  },
  {
   "cell_type": "code",
   "execution_count": null,
   "metadata": {},
   "outputs": [],
   "source": [
    "import datetime\n",
    "\n",
    "tomorrow = datetime.date.today() + datetime.timedelta(days=1)\n",
    "\n",
    "Env.setDate((tomorrow.year, tomorrow.month, tomorrow.day, 12))  # Hour given in UTC time\n"
   ]
  },
  {
   "cell_type": "markdown",
   "metadata": {},
   "source": [
    "Then, we tell Env to use a GFS forecast to get the atmospheric conditions for flight.\n",
    "\n",
    "Don't mind the warning, it just means that not all variables, such as wind speed or atmospheric temperature, are available at all altitudes given by the forecast."
   ]
  },
  {
   "cell_type": "code",
   "execution_count": null,
   "metadata": {},
   "outputs": [],
   "source": [
    "Env.setAtmosphericModel(type=\"Forecast\", file=\"GFS\")\n"
   ]
  },
  {
   "cell_type": "code",
   "execution_count": null,
   "metadata": {},
   "outputs": [],
   "source": [
    "Env.info()\n"
   ]
  },
  {
   "cell_type": "markdown",
   "metadata": {},
   "source": [
    "### Creating a Motor for the Rocket"
   ]
  },
  {
   "cell_type": "markdown",
   "metadata": {},
   "source": [
    "We define a motor for the rocket, using the data from the manufacturer, and following\n",
    "the [RocketPy's documentation](https://docs.rocketpy.org/en/latest/user/index.html)."
   ]
  },
  {
   "cell_type": "code",
   "execution_count": null,
   "metadata": {},
   "outputs": [],
   "source": [
    "Pro75M1670 = SolidMotor(\n",
    "    thrustSource=\"../../../data/motors/Cesaroni_M1670.eng\",\n",
    "    burnOut=3.9,\n",
    "    grainsCenterOfMassPosition=-0.85704,\n",
    "    grainNumber=5,\n",
    "    grainSeparation=5 / 1000,\n",
    "    grainDensity=1815,\n",
    "    grainOuterRadius=33 / 1000,\n",
    "    grainInitialInnerRadius=15 / 1000,\n",
    "    grainInitialHeight=120 / 1000,\n",
    "    nozzleRadius=33 / 1000,\n",
    "    throatRadius=11 / 1000,\n",
    "    interpolationMethod=\"linear\",\n",
    "    nozzlePosition=-1.255,\n",
    ")\n"
   ]
  },
  {
   "cell_type": "code",
   "execution_count": null,
   "metadata": {},
   "outputs": [],
   "source": [
    "Pro75M1670.info()\n"
   ]
  },
  {
   "cell_type": "markdown",
   "metadata": {},
   "source": [
    "### Creating a Rocket"
   ]
  },
  {
   "cell_type": "code",
   "execution_count": null,
   "metadata": {},
   "outputs": [],
   "source": [
    "Calisto = Rocket(\n",
    "    radius=127 / 2000,\n",
    "    mass=19.197 - 2.956,\n",
    "    inertiaI=6.60,\n",
    "    inertiaZ=0.0351,\n",
    "    powerOffDrag=\"../../../data/calisto/powerOffDragCurve.csv\",\n",
    "    powerOnDrag=\"../../../data/calisto/powerOnDragCurve.csv\",\n",
    "    centerOfDryMassPosition=0,\n",
    "    coordinateSystemOrientation=\"tailToNose\",\n",
    ")\n",
    "\n",
    "Calisto.setRailButtons([0.2, -0.5])\n",
    "\n",
    "Calisto.addMotor(Pro75M1670, position=-1.255)\n",
    "\n",
    "NoseCone = Calisto.addNose(length=0.55829, kind=\"vonKarman\", position=0.71971 + 0.55829)\n",
    "\n",
    "FinSet = Calisto.addTrapezoidalFins(\n",
    "    n=4,\n",
    "    rootChord=0.120,\n",
    "    tipChord=0.040,\n",
    "    span=0.100,\n",
    "    position=-1.04956,\n",
    "    cantAngle=0,\n",
    "    radius=None,\n",
    "    airfoil=None,\n",
    ")\n",
    "\n",
    "Tail = Calisto.addTail(\n",
    "    topRadius=0.0635, bottomRadius=0.0435, length=0.060, position=-1.194656\n",
    ")\n",
    "\n"
   ]
  },
  {
   "cell_type": "markdown",
   "metadata": {},
   "source": [
    "Additionally, we set parachutes for our Rocket, as well as the trigger functions for the deployment of such parachutes."
   ]
  },
  {
   "cell_type": "code",
   "execution_count": null,
   "metadata": {},
   "outputs": [],
   "source": [
    "def drogueTrigger(p, y):\n",
    "    # p = pressure\n",
    "    # y = [x, y, z, vx, vy, vz, e0, e1, e2, e3, w1, w2, w3]\n",
    "    # activate drogue when vz < 0 m/s.\n",
    "    return True if y[5] < 0 else False\n",
    "\n",
    "\n",
    "def mainTrigger(p, y):\n",
    "    # p = pressure\n",
    "    # y = [x, y, z, vx, vy, vz, e0, e1, e2, e3, w1, w2, w3]\n",
    "    # activate main when vz < 0 m/s and z < 500 + 100 m (+100 due to surface elevation).\n",
    "    return True if y[5] < 0 and y[2] < 500 + 100 else False\n",
    "\n",
    "\n",
    "Main = Calisto.addParachute(\n",
    "    \"Main\",\n",
    "    CdS=10.0,\n",
    "    trigger=mainTrigger,\n",
    "    samplingRate=105,\n",
    "    lag=1.5,\n",
    "    noise=(0, 8.3, 0.5),\n",
    ")\n",
    "\n",
    "Drogue = Calisto.addParachute(\n",
    "    \"Drogue\",\n",
    "    CdS=1.0,\n",
    "    trigger=drogueTrigger,\n",
    "    samplingRate=105,\n",
    "    lag=1.5,\n",
    "    noise=(0, 8.3, 0.5),\n",
    ")\n"
   ]
  },
  {
   "cell_type": "code",
   "execution_count": null,
   "metadata": {},
   "outputs": [],
   "source": [
    "Calisto.allInfo()\n"
   ]
  },
  {
   "cell_type": "markdown",
   "metadata": {},
   "source": [
    "### Simulate single flight"
   ]
  },
  {
   "cell_type": "code",
   "execution_count": null,
   "metadata": {},
   "outputs": [],
   "source": [
    "TestFlight = Flight(\n",
    "    rocket=Calisto,\n",
    "    environment=Env,\n",
    "    inclination=84,\n",
    "    heading=133,\n",
    ")\n"
   ]
  },
  {
   "cell_type": "markdown",
   "metadata": {},
   "source": [
    "And we can visualize the flight trajectory:"
   ]
  },
  {
   "cell_type": "code",
   "execution_count": null,
   "metadata": {},
   "outputs": [],
   "source": [
    "TestFlight.plots.trajectory_3d()\n"
   ]
  },
  {
   "cell_type": "markdown",
   "metadata": {},
   "source": [
    "### Starting the Monte Carlo Simulations"
   ]
  },
  {
   "cell_type": "markdown",
   "metadata": {},
   "source": [
    "First, let's invoke the Dispersion class, we only need a filename to initialize it.\n",
    "The filename will be used either to save the results of the simulations or to load them\n",
    "from a previous ran simulation."
   ]
  },
  {
   "cell_type": "code",
   "execution_count": null,
   "metadata": {},
   "outputs": [],
   "source": [
    "TestDispersion = Dispersion(filename=\"dispersion_analysis_outputs/disp_class_example\")\n"
   ]
  },
  {
   "cell_type": "markdown",
   "metadata": {},
   "source": [
    "Then, we can run the simulations using the method Dispersion.run_dispersion().\n",
    "But before that, we need to set some simple parameters for the simulations.\n",
    "We will set them by using a dictionary, which is one of the simplest way to do it."
   ]
  },
  {
   "cell_type": "code",
   "execution_count": null,
   "metadata": {},
   "outputs": [],
   "source": [
    "#TODO: explain that this is std only\n",
    "disp_dictionary = {\n",
    "    # Solid Motor Parameters\n",
    "    \"burnOutTime\": 0.2,\n",
    "    \"totalImpulse\": 0.033 * Pro75M1670.totalImpulse,\n",
    "    \"motor_position\": (-1.255,0),\n",
    "    # Rocket Parameters\n",
    "    \"mass\": 0.100,\n",
    "    \"radius\": 0.001,\n",
    "    \"powerOffDrag\": 0.033,  # Multiplier\n",
    "    \"powerOnDrag\": 0.033,  # Multiplier\n",
    "    \"parachute_Main_CdS\": 1,\n",
    "    \"parachute_Drogue_CdS\": 0.1,\n",
    "    \"parachute_Main_lag\": 0.1,\n",
    "    \"parachute_Drogue_lag\": 0.1,\n",
    "    # Flight Parameters\n",
    "    \"inclination\": 1,\n",
    "    \"heading\": 2,\n",
    "}\n"
   ]
  },
  {
   "cell_type": "markdown",
   "metadata": {},
   "source": [
    "Finally, let's iterate over the simulations and export the data from each flight simulation!"
   ]
  },
  {
   "cell_type": "code",
   "execution_count": null,
   "metadata": {},
   "outputs": [],
   "source": [
    "TestDispersion.run_dispersion(\n",
    "    number_of_simulations=50,\n",
    "    dispersion_dictionary=disp_dictionary,\n",
    "    flight=TestFlight,\n",
    "    append=False,\n",
    ")\n"
   ]
  },
  {
   "cell_type": "markdown",
   "metadata": {},
   "source": [
    "### Visualizing the results"
   ]
  },
  {
   "cell_type": "markdown",
   "metadata": {},
   "source": [
    "Now we finally have the results of our Monte Carlo simulations loaded!\n",
    "Let's play with them."
   ]
  },
  {
   "cell_type": "markdown",
   "metadata": {},
   "source": [
    "First, we can print numerical information regarding the results of the simulations."
   ]
  },
  {
   "cell_type": "code",
   "execution_count": null,
   "metadata": {},
   "outputs": [],
   "source": [
    "TestDispersion.import_results()\n"
   ]
  },
  {
   "cell_type": "code",
   "execution_count": null,
   "metadata": {},
   "outputs": [],
   "source": [
    "TestDispersion.print_results()\n"
   ]
  },
  {
   "cell_type": "markdown",
   "metadata": {},
   "source": [
    "Also, we can visualize histograms of such results"
   ]
  },
  {
   "cell_type": "code",
   "execution_count": null,
   "metadata": {},
   "outputs": [],
   "source": [
    "TestDispersion.allInfo()\n"
   ]
  },
  {
   "cell_type": "markdown",
   "metadata": {},
   "source": [
    "Export to kml so it can be visualized in Google Earth"
   ]
  },
  {
   "cell_type": "code",
   "execution_count": null,
   "metadata": {},
   "outputs": [],
   "source": [
    "TestDispersion.exportEllipsesToKML(\n",
    "    filename=\"dispersion_analysis_outputs/disp_class_example.kml\",\n",
    "    origin_lat=Env.latitude,\n",
    "    origin_lon=Env.longitude,\n",
    "    type=\"impact\",\n",
    ")\n"
   ]
  },
  {
   "cell_type": "markdown",
   "metadata": {},
   "source": [
    "## 2nd Option -> Running by using only a dictionary of parameters"
   ]
  },
  {
   "cell_type": "markdown",
   "metadata": {},
   "source": [
    "This second option allow us to perform the Monte Carlo Simulations without the need of a Flight object. This is useful when we want to perform the simulations for a rocket that we don't have a Flight object for, or when we want to perform the simulations for a rocket that we have a Flight object for, but we want to change some parameters of the simulations."
   ]
  },
  {
   "cell_type": "code",
   "execution_count": null,
   "metadata": {},
   "outputs": [],
   "source": [
    "TestDispersion2 = Dispersion(filename=\"dispersion_analysis_outputs/disp_class_example2\")\n"
   ]
  },
  {
   "cell_type": "code",
   "execution_count": null,
   "metadata": {},
   "outputs": [],
   "source": [
    "aerodynamic_surfaces = Calisto.aerodynamicSurfaces\n",
    "nose, fins, tail = aerodynamic_surfaces\n"
   ]
  },
  {
   "cell_type": "code",
   "execution_count": null,
   "metadata": {},
   "outputs": [],
   "source": [
    "dispersion_dictionary2 = {\n",
    "    # Environment Parameters\n",
    "    \"railLength\": (Env.railLength, 0.001),\n",
    "    \"date\": [Env.date],\n",
    "    \"datum\": [\"WSG84\"],\n",
    "    \"elevation\": (Env.elevation, 10),\n",
    "    \"gravity\": (Env.gravity, 0),\n",
    "    \"latitude\": (Env.latitude, 0),\n",
    "    \"longitude\": (Env.longitude, 0),\n",
    "    \"timeZone\": [str(Env.timeZone)],\n",
    "    # Solid Motor Parameters\n",
    "    \"burnOutTime\": (Pro75M1670.burnOutTime, 0.2),\n",
    "    \"grainDensity\": (Pro75M1670.grainDensity, 0.1 * Pro75M1670.grainDensity),\n",
    "    \"grainInitialHeight\": (Pro75M1670.grainInitialHeight, 0.001),\n",
    "    \"grainInitialInnerRadius\": (Pro75M1670.grainInitialInnerRadius, 0.001),\n",
    "    \"grainNumber\": [Pro75M1670.grainNumber],\n",
    "    \"grainOuterRadius\": (Pro75M1670.grainOuterRadius, 0.001),\n",
    "    \"grainSeparation\": (Pro75M1670.grainSeparation, 0.001),\n",
    "    \"nozzleRadius\": (Pro75M1670.nozzleRadius, 0.001),\n",
    "    \"throatRadius\": (Pro75M1670.throatRadius, 0.001),\n",
    "    \"thrustSource\": [Pro75M1670.thrustSource],\n",
    "    \"totalImpulse\": (Pro75M1670.totalImpulse, 0.033 * Pro75M1670.totalImpulse),\n",
    "    \"grainsCenterOfMassPosition\": (Pro75M1670.grainsCenterOfMassPosition, 0.001),\n",
    "    # Rocket Parameters\n",
    "    \"mass\": (Calisto.mass, 0.100),\n",
    "    \"radius\": (Calisto.radius, 0.001),\n",
    "    \"inertiaI\": (Calisto.inertiaI, Calisto.inertiaI * 0.1),\n",
    "    \"inertiaZ\": (Calisto.inertiaZ, Calisto.inertiaZ * 0.1),\n",
    "    \"powerOffDrag\":[\"../../../data/calisto/powerOffDragCurve.csv\"],\n",
    "    \"powerOnDrag\":[\"../../../data/calisto/powerOnDragCurve.csv\"],\n",
    "    \"powerOffDragFactor\": (1, 0.033),\n",
    "    \"powerOnDragFactor\": (1, 0.033),\n",
    "    \"motor_position\": (Calisto.motorPosition, 0.001),\n",
    "    \"nose_name_kind\": [nose[0].kind],\n",
    "    \"nose_name_length\": (nose[0].length, 0.001),\n",
    "    \"nose_name_position\": (nose[1], 0.001),\n",
    "    \"finSet_name_n\": [fins[0].n],\n",
    "    \"finSet_name_rootChord\": (fins[0].rootChord, 0.001),\n",
    "    \"finSet_name_tipChord\": (fins[0].tipChord, 0.001),\n",
    "    \"finSet_name_span\": (fins[0].span, 0.001),\n",
    "    \"finSet_name_position\": (fins[1], 0.001),\n",
    "    \"finSet_name_airfoil\": [fins[0].airfoil],\n",
    "    \"tail_name_topRadius\": (tail[0].topRadius, 0.001),\n",
    "    \"tail_name_bottomRadius\": (tail[0].bottomRadius, 0.001),\n",
    "    \"tail_name_length\": (tail[0].length, 0.001),\n",
    "    \"tail_name_position\": (tail[1], 0.001),\n",
    "    \"parachute_Main_CdS\": (10,2),\n",
    "    \"parachute_Main_trigger\": mainTrigger,\n",
    "    \"parachute_Main_samplingRate\": (105,0),\n",
    "    \"parachute_Main_lag\": (1.5,0),\n",
    "    \"parachute_Main_noise\": [(0,8.3,0.5)],\n",
    "    \"parachute_Drogue_CdS\": (1,0.3),\n",
    "    \"parachute_Drogue_trigger\": drogueTrigger,\n",
    "    \"parachute_Drogue_samplingRate\": (105,0),\n",
    "    \"parachute_Drogue_lag\": (1.5,0),\n",
    "    \"parachute_Drogue_noise\": [(0,8.3,0.5)],\n",
    "    # Flight Parameters\n",
    "    \"inclination\": (85,1),\n",
    "    \"heading\": (90,2),\n",
    "}"
   ]
  },
  {
   "cell_type": "code",
   "execution_count": null,
   "metadata": {},
   "outputs": [],
   "source": [
    "TestDispersion2.run_dispersion(\n",
    "    number_of_simulations=50,\n",
    "    dispersion_dictionary=dispersion_dictionary2,\n",
    ")\n"
   ]
  },
  {
   "cell_type": "code",
   "execution_count": null,
   "metadata": {},
   "outputs": [],
   "source": [
    "TestDispersion2.import_results()\n"
   ]
  },
  {
   "cell_type": "markdown",
   "metadata": {},
   "source": [
    "And finally, we can export the ellipses of the results to a .kml file so it can be opened on Google Earth"
   ]
  },
  {
   "cell_type": "code",
   "execution_count": null,
   "metadata": {},
   "outputs": [],
   "source": [
    "TestDispersion2.print_results()\n"
   ]
  },
  {
   "cell_type": "code",
   "execution_count": null,
   "metadata": {},
   "outputs": [],
   "source": [
    "TestDispersion2.allInfo()\n"
   ]
  },
  {
   "cell_type": "code",
   "execution_count": null,
   "metadata": {},
   "outputs": [],
   "source": []
  }
 ],
 "metadata": {
  "hide_input": false,
  "kernelspec": {
   "display_name": "Python 3.10.5 64-bit",
   "language": "python",
   "name": "python3"
  },
  "language_info": {
   "codemirror_mode": {
    "name": "ipython",
    "version": 3
   },
   "file_extension": ".py",
   "mimetype": "text/x-python",
   "name": "python",
   "nbconvert_exporter": "python",
   "pygments_lexer": "ipython3",
   "version": "3.10.5"
  },
  "vscode": {
   "interpreter": {
    "hash": "26de051ba29f2982a8de78e945f0abaf191376122a1563185a90213a26c5da77"
   }
  }
 },
 "nbformat": 4,
 "nbformat_minor": 2
}
