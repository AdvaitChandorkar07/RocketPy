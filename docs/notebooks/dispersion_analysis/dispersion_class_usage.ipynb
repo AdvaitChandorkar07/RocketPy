{
 "cells": [
  {
   "attachments": {},
   "cell_type": "markdown",
   "metadata": {},
   "source": [
    "# Monte Carlo Dispersion Analysis with the Dispersion Class\n"
   ]
  },
  {
   "attachments": {},
   "cell_type": "markdown",
   "metadata": {},
   "source": [
    "Finally the Monte Carlo simulations can be performed using a dedicated class called Dispersion.\n",
    "Say goodbye to the long and tedious process of creating the Monte Carlo Simulations throughout jupyter notebooks!\n"
   ]
  },
  {
   "cell_type": "code",
   "execution_count": 1,
   "metadata": {},
   "outputs": [],
   "source": [
    "%load_ext autoreload\n",
    "%autoreload 2"
   ]
  },
  {
   "attachments": {},
   "cell_type": "markdown",
   "metadata": {},
   "source": [
    "First, let's import the necessary libraries, including the newest Dispersion class!\n"
   ]
  },
  {
   "cell_type": "code",
   "execution_count": 2,
   "metadata": {},
   "outputs": [],
   "source": [
    "from rocketpy import Environment, SolidMotor, Rocket, Flight, Dispersion\n",
    "from rocketpy.monte_carlo import (\n",
    "    McEnvironment,\n",
    "    McSolidMotor,\n",
    "    McRocket,\n",
    "    McFlight,\n",
    "    McNoseCone,\n",
    "    McTail,\n",
    "    McTrapezoidalFins,\n",
    "    McParachute,\n",
    "    McRailButtons\n",
    ")\n",
    "import datetime\n"
   ]
  },
  {
   "attachments": {},
   "cell_type": "markdown",
   "metadata": {},
   "source": [
    "If you are using Jupyter Notebooks, it is recommended to run the following line to make matplotlib plots which will be shown later interactive and higher quality.\n"
   ]
  },
  {
   "cell_type": "code",
   "execution_count": 3,
   "metadata": {},
   "outputs": [],
   "source": [
    "%matplotlib inline"
   ]
  },
  {
   "attachments": {},
   "cell_type": "markdown",
   "metadata": {},
   "source": [
    "The Dispersion class allows us to perform Monte Carlo Simulations in a very simple way.\n",
    "We just need to create an instance of the class, and then call the method `run_dispersion()` to perform the simulations.\n",
    "The class has a lot of capabilities, but we will only use a few of them in this example.\n",
    "We encourage you to check the documentation of the class to learn more about the Dispersion.\n",
    "\n",
    "Also, you can check RocketPy's main reference for a better conceptual understanding\n",
    "of the Monte Carlo Simulations: [RocketPy: Six Degree-of-Freedom Rocket Trajectory Simulator](<https://doi.org/10.1061/(ASCE)AS.1943-5525.0001331>)\n",
    "\n",
    "TODO: improve the description\n"
   ]
  },
  {
   "attachments": {},
   "cell_type": "markdown",
   "metadata": {},
   "source": [
    "## First Step: Creating the Inputs for the Simulations\n"
   ]
  },
  {
   "attachments": {},
   "cell_type": "markdown",
   "metadata": {},
   "source": [
    "### Environment\n"
   ]
  },
  {
   "cell_type": "code",
   "execution_count": 4,
   "metadata": {},
   "outputs": [],
   "source": [
    "env = Environment(\n",
    "    railLength=5.7, latitude=39.389700, longitude=-8.288964, elevation=113\n",
    ")\n",
    "\n",
    "tomorrow = datetime.date.today() + datetime.timedelta(days=1)\n",
    "\n",
    "env.setDate((tomorrow.year, tomorrow.month, tomorrow.day, 12))  # Hour given in UTC time\n",
    "\n",
    "# env.setAtmosphericModel(type=\"Ensemble\", file=\"GEFS\")\n",
    "\n",
    "env.setAtmosphericModel(type=\"StandardAtmosphere\")\n"
   ]
  },
  {
   "attachments": {},
   "cell_type": "markdown",
   "metadata": {},
   "source": [
    "TODO: Improve docs\n",
    "Here we only add a standard deviation to rail length of 0.005\n"
   ]
  },
  {
   "cell_type": "code",
   "execution_count": 5,
   "metadata": {},
   "outputs": [
    {
     "data": {
      "text/plain": [
       "McEnvironment(railLength=(5.7, 0.0005), date=[(2023, 3, 23, 12)], elevation=(113, 0), gravity=(9.80665, 0), latitude=(39.3897, 0), longitude=(-8.288964, 0), ensembleMember=[], windXFactor=(1, 0.3, 'normal'), windYFactor=(0.8, 0.3), datum=['SIRGAS2000'], timeZone=['UTC'])"
      ]
     },
     "execution_count": 5,
     "metadata": {},
     "output_type": "execute_result"
    }
   ],
   "source": [
    "mc_env = McEnvironment(\n",
    "    environment=env,\n",
    "    railLength=0.0005,\n",
    "    # ensembleMember = [0,1,2,20],\n",
    "    windXFactor=(1,0.3,'normal'),\n",
    "    windYFactor=(0.8,0.3)\n",
    ")\n",
    "\n",
    "mc_env\n",
    "\n",
    "# TODO: improve the print or __repr__() of these Monte Carlo classes\n"
   ]
  },
  {
   "attachments": {},
   "cell_type": "markdown",
   "metadata": {},
   "source": [
    "### Motor\n"
   ]
  },
  {
   "attachments": {},
   "cell_type": "markdown",
   "metadata": {},
   "source": [
    "Let's define the motor using the firs method. We will be using the data from the manufacturer, and following\n",
    "the [RocketPy's documentation](https://docs.rocketpy.org/en/latest/user/index.html).\n"
   ]
  },
  {
   "cell_type": "code",
   "execution_count": 6,
   "metadata": {},
   "outputs": [],
   "source": [
    "motor = SolidMotor(\n",
    "    thrustSource=\"dispersion_analysis_inputs/thrustCurve.csv\",\n",
    "    burnOutTime=5.274,\n",
    "    grainsCenterOfMassPosition=-0.571,\n",
    "    grainNumber=5,\n",
    "    grainSeparation=6 / 1000,\n",
    "    grainDensity=1707,\n",
    "    grainOuterRadius=21.4 / 1000,\n",
    "    grainInitialInnerRadius=9.65 / 1000,\n",
    "    grainInitialHeight=120 / 1000,\n",
    "    nozzleRadius=21.642 / 1000,\n",
    "    throatRadius=8 / 1000,\n",
    "    interpolationMethod=\"linear\",\n",
    "    nozzlePosition=-1.024,\n",
    "    coordinateSystemOrientation=\"nozzleToCombustionChamber\",\n",
    ")"
   ]
  },
  {
   "cell_type": "code",
   "execution_count": 7,
   "metadata": {},
   "outputs": [
    {
     "data": {
      "text/plain": [
       "McSolidMotor(thrustSource=['dispersion_analysis_inputs/thrustCurve.csv'], burnOutTime=(5.274, 1), grainsCenterOfMassPosition=(-0.571, 0.001), grainNumber=[5], grainDensity=(1707, 50), grainOuterRadius=(0.0214, 0.000375), grainInitialInnerRadius=(0.00965, 0.000375), grainInitialHeight=(0.12, 0.001), grainSeparation=(0.006, 0.001), totalImpulse=(1415.15, 35.3), nozzleRadius=(0.021641999999999998, 0.0005), nozzlePosition=(-1.024, 0.001), throatRadius=(0.008, 0.0005))"
      ]
     },
     "execution_count": 7,
     "metadata": {},
     "output_type": "execute_result"
    }
   ],
   "source": [
    "mc_motor = McSolidMotor(\n",
    "    solidMotor=motor,\n",
    "    burnOutTime=(5.274, 1),\n",
    "    grainsCenterOfMassPosition=0.001,\n",
    "    grainDensity=50,\n",
    "    grainSeparation=1 / 1000,\n",
    "    grainInitialHeight=1 / 1000,\n",
    "    grainInitialInnerRadius=0.375 / 1000,\n",
    "    grainOuterRadius=0.375 / 1000,\n",
    "    totalImpulse=(1415.15, 35.3),\n",
    "    throatRadius=0.5 / 1000,\n",
    "    nozzleRadius=0.5 / 1000,\n",
    "    nozzlePosition=0.001,\n",
    ")\n",
    "mc_motor"
   ]
  },
  {
   "attachments": {},
   "cell_type": "markdown",
   "metadata": {},
   "source": [
    "### Rocket\n"
   ]
  },
  {
   "cell_type": "code",
   "execution_count": 8,
   "metadata": {},
   "outputs": [],
   "source": [
    "rocket = Rocket(\n",
    "    radius=40.45 / 1000,\n",
    "    mass= 8.257,\n",
    "    inertiaI=3.675,\n",
    "    inertiaZ=0.007,\n",
    "    powerOffDrag=\"dispersion_analysis_inputs/Cd_PowerOff.csv\",\n",
    "    powerOnDrag=\"dispersion_analysis_inputs/Cd_PowerOn.csv\",\n",
    "    centerOfDryMassPosition=0,\n",
    "    coordinateSystemOrientation=\"tailToNose\",\n",
    ")\n",
    "\n",
    "rocket.addMotor(motor, position=-1.024)\n",
    "\n",
    "rail_buttons = rocket.setRailButtons([0.2, -0.5])\n",
    "\n",
    "nose_cone = rocket.addNose(length=0.274, kind=\"vonKarman\", position=1.134+0.274)\n",
    "\n",
    "fin_set = rocket.addTrapezoidalFins(\n",
    "    n=3,\n",
    "    rootChord=0.058,\n",
    "    tipChord=0.018,\n",
    "    span=0.077,\n",
    "    position=-0.906,\n",
    ")\n",
    "\n",
    "# tail = rocket.addTail(\n",
    "#     topRadius=0.0635, bottomRadius=0.0435, length=0.060, position=-1.194656\n",
    "# )\n"
   ]
  },
  {
   "attachments": {},
   "cell_type": "markdown",
   "metadata": {},
   "source": [
    "Additionally, we set parachutes for our Rocket, as well as the trigger functions for the deployment of such parachutes.\n"
   ]
  },
  {
   "cell_type": "code",
   "execution_count": 9,
   "metadata": {},
   "outputs": [],
   "source": [
    "def drogueTrigger(p, y):\n",
    "    # p = pressure\n",
    "    # y = [x, y, z, vx, vy, vz, e0, e1, e2, e3, w1, w2, w3]\n",
    "    # activate drogue when vz < 0 m/s.\n",
    "    return True if y[5] < 0 else False\n",
    "\n",
    "\n",
    "def mainTrigger(p, y):\n",
    "    # p = pressure\n",
    "    # y = [x, y, z, vx, vy, vz, e0, e1, e2, e3, w1, w2, w3]\n",
    "    # activate main when vz < 0 m/s and z < 500 + 100 m (+100 due to surface elevation).\n",
    "    return True if y[5] < 0 and y[2] < 500 + 100 else False\n",
    "\n",
    "\n",
    "# main_chute = rocket.addParachute(\n",
    "#     \"Main\",\n",
    "#     CdS=10.0,\n",
    "#     trigger=mainTrigger,\n",
    "#     samplingRate=105,\n",
    "#     lag=1.5,\n",
    "#     noise=(0, 8.3, 0.5),\n",
    "# )\n",
    "\n",
    "drogue_chute = rocket.addParachute(\n",
    "    \"Drogue\",\n",
    "    CdS=0.349 * 1.3,\n",
    "    trigger=drogueTrigger,\n",
    "    samplingRate=105,\n",
    "    lag=1,\n",
    "    noise=(0, 8.3, 0.5),\n",
    ")\n",
    "\n"
   ]
  },
  {
   "cell_type": "code",
   "execution_count": 10,
   "metadata": {},
   "outputs": [
    {
     "data": {
      "text/plain": [
       "McRocket(radius=(0.04045, 0.001), mass=(8.257, 0.001), inertiaI=(3.675, 0.03675), inertiaZ=(0.007, 7e-05), powerOffDrag=[Function from R1 to R1 : (Mach Number) → (Drag Coefficient with Power Off)], powerOnDrag=[Function from R1 to R1 : (Mach Number) → (Drag Coefficient with Power On)], centerOfDryMassPosition=(0, 0), powerOffDragFactor=(0.8648571428571429, 0.033), powerOnDragFactor=(0.8648571428571429, 0.033))"
      ]
     },
     "execution_count": 10,
     "metadata": {},
     "output_type": "execute_result"
    }
   ],
   "source": [
    "mc_rocket = McRocket(\n",
    "    rocket=rocket,\n",
    "    radius=0.001,\n",
    "    mass=0.001,\n",
    "    inertiaI=0.03675,\n",
    "    inertiaZ=0.00007,\n",
    "    powerOffDragFactor=(0.9081 / 1.05,0.033),\n",
    "    powerOnDragFactor=(0.9081 / 1.05,0.033),\n",
    ")\n",
    "mc_rocket"
   ]
  },
  {
   "cell_type": "code",
   "execution_count": 11,
   "metadata": {},
   "outputs": [],
   "source": [
    "mc_nose_cone = McNoseCone(\n",
    "    nosecone=nose_cone,\n",
    "    length=0.001,\n",
    ")\n",
    "\n",
    "mc_fin_set = McTrapezoidalFins(\n",
    "    trapezoidalFins=fin_set,\n",
    "    rootChord=0.0005,\n",
    "    tipChord=0.0005,\n",
    "    span=0.0005,\n",
    ")\n",
    "\n",
    "# mc_tail = McTail(\n",
    "#     tail=tail,\n",
    "#     topRadius=0.001,\n",
    "#     bottomRadius=0.001,\n",
    "#     length=0.001,\n",
    "# )\n",
    "\n",
    "mc_rail_buttons = McRailButtons(rail_buttons=rail_buttons, upper_button_position=0.001, lower_button_position=0.001)\n",
    "\n",
    "# mc_main = McParachute(\n",
    "#     parachute=main_chute,\n",
    "#     CdS=0.1,\n",
    "#     lag=0.1,\n",
    "# )\n",
    "\n",
    "mc_drogue = McParachute(\n",
    "    parachute=drogue_chute,\n",
    "    CdS=0.07,\n",
    "    lag=0.5,\n",
    ")"
   ]
  },
  {
   "cell_type": "code",
   "execution_count": 12,
   "metadata": {},
   "outputs": [],
   "source": [
    "mc_rocket.addMotor(mc_motor,position=0.001)\n",
    "mc_rocket.addNose(mc_nose_cone,position=(1.134,0.001))\n",
    "mc_rocket.addTrapezoidalFins(mc_fin_set,position=(0.001,\"normal\"))\n",
    "# mc_rocket.addTail(mc_tail,position=(-1.194656,0.001,\"normal\"))\n",
    "mc_rocket.addRailButtons(mc_rail_buttons)\n",
    "# mc_rocket.addParachute(mc_main)\n",
    "mc_rocket.addParachute(mc_drogue)"
   ]
  },
  {
   "cell_type": "code",
   "execution_count": 13,
   "metadata": {},
   "outputs": [
    {
     "name": "stdout",
     "output_type": "stream",
     "text": [
      "(-1.024, 0.001)\n",
      "(1.134, 0.001)\n",
      "(-0.906, 0.001, 'normal')\n"
     ]
    }
   ],
   "source": [
    "print(mc_rocket.motors[0].position)\n",
    "print(mc_rocket.nosecones[0].position)\n",
    "print(mc_rocket.fins[0].position)\n",
    "# print(mc_rocket.tails[0].position)\n"
   ]
  },
  {
   "attachments": {},
   "cell_type": "markdown",
   "metadata": {},
   "source": [
    "### Flight\n"
   ]
  },
  {
   "cell_type": "code",
   "execution_count": 14,
   "metadata": {},
   "outputs": [],
   "source": [
    "test_flight = Flight(\n",
    "    rocket=rocket,\n",
    "    environment=env,\n",
    "    inclination=84,\n",
    "    heading=133,\n",
    ")\n"
   ]
  },
  {
   "cell_type": "code",
   "execution_count": 15,
   "metadata": {},
   "outputs": [],
   "source": [
    "mc_flight = McFlight(\n",
    "    flight=test_flight,\n",
    "    inclination=(84.7, 1),\n",
    "    heading=(53, 2),\n",
    ")"
   ]
  },
  {
   "attachments": {},
   "cell_type": "markdown",
   "metadata": {},
   "source": [
    "And we can visualize the flight trajectory:\n"
   ]
  },
  {
   "cell_type": "code",
   "execution_count": 16,
   "metadata": {},
   "outputs": [],
   "source": [
    "# test_flight.plots.trajectory_3d()\n"
   ]
  },
  {
   "attachments": {},
   "cell_type": "markdown",
   "metadata": {},
   "source": [
    "### Starting the Monte Carlo Simulations\n"
   ]
  },
  {
   "attachments": {},
   "cell_type": "markdown",
   "metadata": {},
   "source": [
    "First, let's invoke the Dispersion class, we only need a filename to initialize it.\n",
    "The filename will be used either to save the results of the simulations or to load them\n",
    "from a previous ran simulation.\n"
   ]
  },
  {
   "cell_type": "code",
   "execution_count": 17,
   "metadata": {},
   "outputs": [],
   "source": [
    "test_dispersion = Dispersion(\n",
    "    filename=\"dispersion_analysis_outputs/disp_class_example\",\n",
    "    environment=mc_env,\n",
    "    rocket=mc_rocket,\n",
    "    flight=mc_flight,\n",
    ")\n",
    "\n",
    "# TODO: add custom warning o when the rocket doesn't have a motors, parachute, or aerosurfaces\n"
   ]
  },
  {
   "attachments": {},
   "cell_type": "markdown",
   "metadata": {},
   "source": [
    "Then, we can run the simulations using the method Dispersion.run_dispersion().\n",
    "But before that, we need to set some simple parameters for the simulations.\n",
    "We will set them by using a dictionary, which is one of the simplest way to do it.\n"
   ]
  },
  {
   "attachments": {},
   "cell_type": "markdown",
   "metadata": {},
   "source": [
    "Finally, let's iterate over the simulations and export the data from each flight simulation!\n"
   ]
  },
  {
   "cell_type": "code",
   "execution_count": 19,
   "metadata": {},
   "outputs": [
    {
     "name": "stdout",
     "output_type": "stream",
     "text": [
      "No export list provided, using default list instead.\n",
      "Completed 10 iterations. Total CPU time: 10.8 s. Total wall time: 50.2 simated time left: 0 s       \r"
     ]
    }
   ],
   "source": [
    "test_dispersion.run_dispersion(\n",
    "    number_of_simulations=10,\n",
    "    append=False,\n",
    ")"
   ]
  },
  {
   "cell_type": "code",
   "execution_count": null,
   "metadata": {},
   "outputs": [],
   "source": [
    "# In case you want to verify the new dispersion dictionary format...\n",
    "# test_dispersion.dispersion_dictionary\n"
   ]
  },
  {
   "cell_type": "code",
   "execution_count": null,
   "metadata": {},
   "outputs": [],
   "source": [
    "test_dispersion.outputs_log"
   ]
  },
  {
   "cell_type": "code",
   "execution_count": null,
   "metadata": {},
   "outputs": [],
   "source": [
    "test_dispersion.num_of_loaded_sims"
   ]
  },
  {
   "cell_type": "code",
   "execution_count": null,
   "metadata": {},
   "outputs": [],
   "source": [
    "test_dispersion.dispersion_results"
   ]
  },
  {
   "cell_type": "code",
   "execution_count": null,
   "metadata": {},
   "outputs": [],
   "source": [
    "test_dispersion.processed_dispersion_results"
   ]
  },
  {
   "cell_type": "code",
   "execution_count": null,
   "metadata": {},
   "outputs": [],
   "source": [
    "test_dispersion.apogee"
   ]
  },
  {
   "cell_type": "code",
   "execution_count": null,
   "metadata": {},
   "outputs": [],
   "source": [
    "# TODO: this currently does not work because of parachute trigger function\n",
    "# TODO: add pickle package to deal with this and also Function objects\n",
    "test_dispersion.inputs_log\n"
   ]
  },
  {
   "attachments": {},
   "cell_type": "markdown",
   "metadata": {},
   "source": [
    "### Visualizing the results\n"
   ]
  },
  {
   "attachments": {},
   "cell_type": "markdown",
   "metadata": {},
   "source": [
    "Now we finally have the results of our Monte Carlo simulations loaded!\n",
    "Let's play with them.\n"
   ]
  },
  {
   "attachments": {},
   "cell_type": "markdown",
   "metadata": {},
   "source": [
    "First, we can print numerical information regarding the results of the simulations.\n"
   ]
  },
  {
   "cell_type": "code",
   "execution_count": null,
   "metadata": {},
   "outputs": [],
   "source": [
    "# only need to import results if you did not run the simulations\n",
    "# test_dispersion.import_results()\n"
   ]
  },
  {
   "cell_type": "code",
   "execution_count": null,
   "metadata": {},
   "outputs": [],
   "source": [
    "test_dispersion.print_results()\n"
   ]
  },
  {
   "cell_type": "code",
   "execution_count": null,
   "metadata": {},
   "outputs": [],
   "source": [
    "test_dispersion.plot_results()"
   ]
  },
  {
   "attachments": {},
   "cell_type": "markdown",
   "metadata": {},
   "source": [
    "Also, we can visualize histograms of such results\n"
   ]
  },
  {
   "cell_type": "code",
   "execution_count": null,
   "metadata": {},
   "outputs": [],
   "source": [
    "test_dispersion.allInfo()\n"
   ]
  },
  {
   "attachments": {},
   "cell_type": "markdown",
   "metadata": {},
   "source": [
    "Export to kml so it can be visualized in Google Earth\n"
   ]
  },
  {
   "cell_type": "code",
   "execution_count": null,
   "metadata": {},
   "outputs": [],
   "source": [
    "test_dispersion.exportEllipsesToKML(\n",
    "    filename=\"dispersion_analysis_outputs/disp_class_example.kml\",\n",
    "    origin_lat=env.latitude,\n",
    "    origin_lon=env.longitude,\n",
    "    type=\"impact\",\n",
    ")\n"
   ]
  }
 ],
 "metadata": {
  "hide_input": false,
  "kernelspec": {
   "display_name": "Python 3.10.5 64-bit",
   "language": "python",
   "name": "python3"
  },
  "language_info": {
   "codemirror_mode": {
    "name": "ipython",
    "version": 3
   },
   "file_extension": ".py",
   "mimetype": "text/x-python",
   "name": "python",
   "nbconvert_exporter": "python",
   "pygments_lexer": "ipython3",
   "version": "3.10.5"
  },
  "vscode": {
   "interpreter": {
    "hash": "26de051ba29f2982a8de78e945f0abaf191376122a1563185a90213a26c5da77"
   }
  }
 },
 "nbformat": 4,
 "nbformat_minor": 2
}
