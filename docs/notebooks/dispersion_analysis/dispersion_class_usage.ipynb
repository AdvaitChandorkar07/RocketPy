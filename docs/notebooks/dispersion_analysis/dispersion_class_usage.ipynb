{
 "cells": [
  {
   "cell_type": "markdown",
   "metadata": {},
   "source": [
    "# Monte Carlo Dispersion Analysis with the Dispersion Class"
   ]
  },
  {
   "cell_type": "markdown",
   "metadata": {},
   "source": [
    "Finally the Monte Carlo Simulations can be performed using a dedicated class called Dispersion. This class is a wrapper for the Monte Carlo Simulations, and it is the recommended way to perform the simulations. Say goodbye to the long and tedious process of creating the Monte Carlo Simulations throughout jupyter notebooks!"
   ]
  },
  {
   "cell_type": "code",
   "execution_count": 1,
   "metadata": {},
   "outputs": [],
   "source": [
    "%load_ext autoreload\n",
    "%autoreload 2"
   ]
  },
  {
   "cell_type": "markdown",
   "metadata": {},
   "source": [
    "First, let's import the necessary libraries, including the newest Dispersion class!"
   ]
  },
  {
   "cell_type": "code",
   "execution_count": 2,
   "metadata": {},
   "outputs": [],
   "source": [
    "from rocketpy import *\n"
   ]
  },
  {
   "cell_type": "markdown",
   "metadata": {},
   "source": [
    "If you are using Jupyter Notebooks, it is recommended to run the following line to make matplotlib plots which will be shown later interactive and higher quality."
   ]
  },
  {
   "cell_type": "code",
   "execution_count": 3,
   "metadata": {},
   "outputs": [],
   "source": [
    "%matplotlib inline"
   ]
  },
  {
   "attachments": {},
   "cell_type": "markdown",
   "metadata": {},
   "source": [
    "The Dispersion class allows us to perform Monte Carlo Simulations in a very simple way.\n",
    "We just need to create an instance of the class, and then call the method `run_dispersion()` to perform the simulations.\n",
    "The class has a lot of capabilities, but we will only use a few of them in this example.\n",
    "We encourage you to check the documentation of the class to learn more about the Dispersion.\n",
    "\n",
    "Also, you can check RocketPy's main reference for a better conceptual understanding \n",
    "of the Monte Carlo Simulations: [RocketPy: Six Degree-of-Freedom Rocket Trajectory Simulator](https://doi.org/10.1061/(ASCE)AS.1943-5525.0001331)"
   ]
  },
  {
   "attachments": {},
   "cell_type": "markdown",
   "metadata": {},
   "source": [
    "To use dispersion we will need to create some Data Classes objects. This is very simple to be done with a pre estabilished simulation. There are two ways to go about it:\n",
    "\n",
    "#TODO: explain how the inputs should work. Tuple is (nomvalue, std) or (numvalue, std, 'distfunc') etc etc\n",
    "\n",
    "\n",
    "1. Defining rocketpy's classes solely thorugh the dataclass. With this methods, tuples or lists must be passed. This is done by using the following classes:\n",
    "\n",
    "     - EnvironmentData\n",
    "     - SolidMotorData\n",
    "     - RocketData\n",
    "     - FlightData\n",
    "\n",
    "\n",
    "2. Using previously defined objects to make creation easier. With this method, only floats or ints need to be passed, but passing lists or tuples are still viable. This is done by using the following classes:\n",
    "\n",
    "     - EnvironmentDataByEnvironment\n",
    "     - SolidMotorDataByMotor\n",
    "     - RocketDataByRocket\n",
    "     - FlightDataByFlight\n",
    "\n"
   ]
  },
  {
   "attachments": {},
   "cell_type": "markdown",
   "metadata": {},
   "source": [
    "## First Step -> Create Data Classes"
   ]
  },
  {
   "cell_type": "markdown",
   "metadata": {},
   "source": [
    "### Creating an Environment for 'Ponte de Sôr', Portugal"
   ]
  },
  {
   "cell_type": "code",
   "execution_count": 4,
   "metadata": {},
   "outputs": [],
   "source": [
    "Env = Environment(\n",
    "    railLength=5.7, latitude=39.389700, longitude=-8.288964, elevation=113\n",
    ")\n"
   ]
  },
  {
   "cell_type": "markdown",
   "metadata": {},
   "source": [
    "To get weather data from the GFS forecast, available online, we run the following lines.\n",
    "\n",
    "First, we set tomorrow's date."
   ]
  },
  {
   "cell_type": "code",
   "execution_count": 5,
   "metadata": {},
   "outputs": [],
   "source": [
    "import datetime\n",
    "\n",
    "tomorrow = datetime.date.today() + datetime.timedelta(days=1)\n",
    "\n",
    "Env.setDate((tomorrow.year, tomorrow.month, tomorrow.day, 12))  # Hour given in UTC time\n"
   ]
  },
  {
   "cell_type": "markdown",
   "metadata": {},
   "source": [
    "Then, we tell Env to use a GFS forecast to get the atmospheric conditions for flight.\n",
    "\n",
    "Don't mind the warning, it just means that not all variables, such as wind speed or atmospheric temperature, are available at all altitudes given by the forecast."
   ]
  },
  {
   "cell_type": "code",
   "execution_count": 6,
   "metadata": {},
   "outputs": [],
   "source": [
    "Env.setAtmosphericModel(type=\"Forecast\", file=\"GFS\")\n"
   ]
  },
  {
   "attachments": {},
   "cell_type": "markdown",
   "metadata": {},
   "source": [
    "Then we create the data class."
   ]
  },
  {
   "attachments": {},
   "cell_type": "markdown",
   "metadata": {},
   "source": [
    "Here we only add a standard deviation to rail lenght of 0.005"
   ]
  },
  {
   "cell_type": "code",
   "execution_count": 7,
   "metadata": {},
   "outputs": [
    {
     "data": {
      "text/plain": [
       "EnvironmentDataByEnvironment(railLength=(5.7, 0.005), date=[None], elevation=(141.80076211248732, 0), gravity=(9.80665, 0), latitude=(39.3897, 0), longitude=(-8.288964, 0), datum=['SIRGAS2000'], timeZone=['UTC'])"
      ]
     },
     "execution_count": 7,
     "metadata": {},
     "output_type": "execute_result"
    }
   ],
   "source": [
    "EnvData = EnvironmentDataByEnvironment(\n",
    "    environment=Env,\n",
    "    railLength=0.005,\n",
    ")\n",
    "\n",
    "EnvData"
   ]
  },
  {
   "cell_type": "markdown",
   "metadata": {},
   "source": [
    "### Creating a Motor for the Rocket"
   ]
  },
  {
   "attachments": {},
   "cell_type": "markdown",
   "metadata": {},
   "source": [
    "Let's define the motor using the firs method. We will be using the data from the manufacturer, and following\n",
    "the [RocketPy's documentation](https://docs.rocketpy.org/en/latest/user/index.html)."
   ]
  },
  {
   "cell_type": "code",
   "execution_count": 8,
   "metadata": {},
   "outputs": [],
   "source": [
    "analysis_parameters = {\n",
    "    # Mass Details\n",
    "    \"rocketMass\": (\n",
    "        8.257,\n",
    "        0.001,\n",
    "    ),  # Rocket's dry mass (kg) and its uncertainty (standard deviation)\n",
    "    # Propulsion Details - run help(SolidMotor) for more information\n",
    "    \"impulse\": (1415.15, 35.3),  # Motor total impulse (N*s)\n",
    "    \"burnOutTime\": (5.274, 1),  # Motor burn out time (s)\n",
    "    \"nozzleRadius\": (21.642 / 1000, 0.5 / 1000),  # Motor's nozzle radius (m)\n",
    "    \"throatRadius\": (8 / 1000, 0.5 / 1000),  # Motor's nozzle throat radius (m)\n",
    "    \"grainSeparation\": (\n",
    "        6 / 1000,\n",
    "        1 / 1000,\n",
    "    ),  # Motor's grain separation (axial distance between two grains) (m)\n",
    "    \"grainDensity\": (1707, 50),  # Motor's grain density (kg/m^3)\n",
    "    \"grainOuterRadius\": (21.4 / 1000, 0.375 / 1000),  # Motor's grain outer radius (m)\n",
    "    \"grainInitialInnerRadius\": (\n",
    "        9.65 / 1000,\n",
    "        0.375 / 1000,\n",
    "    ),  # Motor's grain inner radius (m)\n",
    "    \"grainInitialHeight\": (120 / 1000, 1 / 1000),  # Motor's grain height (m)\n",
    "    # Aerodynamic Details - run help(Rocket) for more information\n",
    "    \"inertiaI\": (\n",
    "        3.675,\n",
    "        0.03675,\n",
    "    ),  # Rocket's inertia moment perpendicular to its axis (kg*m^2)\n",
    "    \"inertiaZ\": (\n",
    "        0.007,\n",
    "        0.00007,\n",
    "    ),  # Rocket's inertia moment relative to its axis (kg*m^2)\n",
    "    \"radius\": (40.45 / 1000, 0.001),  # Rocket's radius (kg*m^2)\n",
    "    \"distanceRocketNozzle\": (\n",
    "        -1.024,\n",
    "        0.001,\n",
    "    ),  # Distance between rocket's center of dry mass and nozzle exit plane (m) (negative)\n",
    "    \"distanceRocketPropellant\": (\n",
    "        -0.571,\n",
    "        0.001,\n",
    "    ),  # Distance between rocket's center of dry mass and and center of propellant mass (m) (negative)\n",
    "    \"powerOffDrag\": (\n",
    "        0.9081 / 1.05,\n",
    "        0.033,\n",
    "    ),  # Multiplier for rocket's drag curve. Usually has a mean value of 1 and a uncertainty of 5% to 10%\n",
    "    \"powerOnDrag\": (\n",
    "        0.9081 / 1.05,\n",
    "        0.033,\n",
    "    ),  # Multiplier for rocket's drag curve. Usually has a mean value of 1 and a uncertainty of 5% to 10%\n",
    "    \"noseLength\": (0.274, 0.001),  # Rocket's nose cone length (m)\n",
    "    \"noseDistanceToCM\": (\n",
    "        1.134,\n",
    "        0.001,\n",
    "    ),  # Axial distance between rocket's center of dry mass and nearest point in its nose cone (m)\n",
    "    \"finSpan\": (0.077, 0.0005),  # Fin span (m)\n",
    "    \"finRootChord\": (0.058, 0.0005),  # Fin root chord (m)\n",
    "    \"finTipChord\": (0.018, 0.0005),  # Fin tip chord (m)\n",
    "    \"finDistanceToCM\": (\n",
    "        -0.906,\n",
    "        0.001,\n",
    "    ),  # Axial distance between rocket's center of dry mass and nearest point in its fin (m)\n",
    "    # Launch and Environment Details - run help(Environment) and help(Flight) for more information\n",
    "    \"inclination\": (\n",
    "        84.7,\n",
    "        1,\n",
    "    ),  # Launch rail inclination angle relative to the horizontal plane (degrees)\n",
    "    \"heading\": (53, 2),  # Launch rail heading relative to north (degrees)\n",
    "    \"railLength\": (5.7, 0.0005),  # Launch rail length (m)\n",
    "    \"ensembleMember\": list(range(10)),  # Members of the ensemble forecast to be used\n",
    "    # Parachute Details - run help(Rocket) for more information\n",
    "    \"CdSDrogue\": (\n",
    "        0.349 * 1.3,\n",
    "        0.07,\n",
    "    ),  # Drag coefficient times reference area for the drogue chute (m^2)\n",
    "    \"lag_rec\": (\n",
    "        1,\n",
    "        0.5,\n",
    "    ),  # Time delay between parachute ejection signal is detected and parachute is inflated (s)\n",
    "    # Electronic Systems Details - run help(Rocket) for more information\n",
    "    \"lag_se\": (\n",
    "        0.73,\n",
    "        0.16,\n",
    "    ),  # Time delay between sensor signal is received and ejection signal is fired (s)\n",
    "}"
   ]
  },
  {
   "cell_type": "code",
   "execution_count": 9,
   "metadata": {},
   "outputs": [
    {
     "data": {
      "text/plain": [
       "SolidMotorData(thrustSource=[WindowsPath('dispersion_analysis_inputs/thrustCurve.csv')], burnOutTime=(5.274, 1), grainsCenterOfMassPosition=(-0.571, 0.001), grainNumber=[5], grainDensity=(1707, 50), grainOuterRadius=(0.0214, 0.000375), grainInitialInnerRadius=(0.00965, 0.000375), grainInitialHeight=(0.12, 0.001), grainSeparation=(0.006, 0.001), totalImpulse=(1415.15, 35.3), nozzleRadius=(0.021641999999999998, 0.0005), nozzlePosition=(-1.024, 0.001), throatRadius=(0.008, 0.0005), coordinateSystemOrientation=['nozzleToCombustionChamber'])"
      ]
     },
     "execution_count": 9,
     "metadata": {},
     "output_type": "execute_result"
    }
   ],
   "source": [
    "KeronData = SolidMotorData(\n",
    "    thrustSource=[\"dispersion_analysis_inputs/thrustCurve.csv\"],\n",
    "    burnOutTime=(5.274, 1),\n",
    "    grainsCenterOfMassPosition=(-0.571,0.001),\n",
    "    grainNumber=[5],\n",
    "    grainSeparation=(6 / 1000,1 / 1000),\n",
    "    grainDensity=(1707, 50),\n",
    "    grainOuterRadius=(21.4 / 1000, 0.375 / 1000),\n",
    "    grainInitialInnerRadius=(9.65 / 1000,0.375 / 1000,),\n",
    "    grainInitialHeight=(120 / 1000, 1 / 1000),\n",
    "    totalImpulse=(1415.15, 35.3),\n",
    "    nozzleRadius=(21.642 / 1000, 0.5 / 1000),\n",
    "    throatRadius=(8 / 1000, 0.5 / 1000),\n",
    "    nozzlePosition=(-1.024,0.001,)\n",
    ")\n",
    "\n",
    "KeronData\n"
   ]
  },
  {
   "cell_type": "markdown",
   "metadata": {},
   "source": [
    "### Creating a Rocket"
   ]
  },
  {
   "cell_type": "code",
   "execution_count": 10,
   "metadata": {},
   "outputs": [],
   "source": [
    "Pro75M1670 = SolidMotor(\n",
    "    thrustSource=\"../../../data/motors/Cesaroni_M1670.eng\",\n",
    "    burnOutTime=3.9,\n",
    "    grainsCenterOfMassPosition=-0.85704,\n",
    "    grainNumber=5,\n",
    "    grainSeparation=5 / 1000,\n",
    "    grainDensity=1815,\n",
    "    grainOuterRadius=33 / 1000,\n",
    "    grainInitialInnerRadius=15 / 1000,\n",
    "    grainInitialHeight=120 / 1000,\n",
    "    nozzleRadius=33 / 1000,\n",
    "    throatRadius=11 / 1000,\n",
    "    interpolationMethod=\"linear\",\n",
    "    nozzlePosition=-1.255,\n",
    "    coordinateSystemOrientation=\"nozzleToCombustionChamber\",\n",
    ")\n"
   ]
  },
  {
   "cell_type": "code",
   "execution_count": 11,
   "metadata": {},
   "outputs": [],
   "source": [
    "Calisto = Rocket(\n",
    "    radius=127 / 2000,\n",
    "    mass=19.197 - 2.956,\n",
    "    inertiaI=6.60,\n",
    "    inertiaZ=0.0351,\n",
    "    powerOffDrag=\"../../../data/calisto/powerOffDragCurve.csv\",\n",
    "    powerOnDrag=\"../../../data/calisto/powerOnDragCurve.csv\",\n",
    "    centerOfDryMassPosition=0,\n",
    "    coordinateSystemOrientation=\"tailToNose\",\n",
    ")\n",
    "\n",
    "Calisto.setRailButtons([0.2, -0.5])\n",
    "\n",
    "Calisto.addMotor(Pro75M1670, position=-1.255)\n",
    "\n",
    "NoseCone = Calisto.addNose(length=0.55829, kind=\"vonKarman\", position=0.71971 + 0.55829)\n",
    "\n",
    "FinSet = Calisto.addTrapezoidalFins(\n",
    "    n=4,\n",
    "    rootChord=0.120,\n",
    "    tipChord=0.040,\n",
    "    span=0.100,\n",
    "    position=-1.04956,\n",
    "    cantAngle=0,\n",
    "    radius=None,\n",
    "    airfoil=None,\n",
    ")\n",
    "\n",
    "Tail = Calisto.addTail(\n",
    "    topRadius=0.0635, bottomRadius=0.0435, length=0.060, position=-1.194656\n",
    ")"
   ]
  },
  {
   "cell_type": "markdown",
   "metadata": {},
   "source": [
    "Additionally, we set parachutes for our Rocket, as well as the trigger functions for the deployment of such parachutes."
   ]
  },
  {
   "cell_type": "code",
   "execution_count": 12,
   "metadata": {},
   "outputs": [],
   "source": [
    "def drogueTrigger(p, y):\n",
    "    # p = pressure\n",
    "    # y = [x, y, z, vx, vy, vz, e0, e1, e2, e3, w1, w2, w3]\n",
    "    # activate drogue when vz < 0 m/s.\n",
    "    return True if y[5] < 0 else False\n",
    "\n",
    "\n",
    "def mainTrigger(p, y):\n",
    "    # p = pressure\n",
    "    # y = [x, y, z, vx, vy, vz, e0, e1, e2, e3, w1, w2, w3]\n",
    "    # activate main when vz < 0 m/s and z < 500 + 100 m (+100 due to surface elevation).\n",
    "    return True if y[5] < 0 and y[2] < 500 + 100 else False\n",
    "\n",
    "\n",
    "Main = Calisto.addParachute(\n",
    "    \"Main\",\n",
    "    CdS=10.0,\n",
    "    trigger=mainTrigger,\n",
    "    samplingRate=105,\n",
    "    lag=1.5,\n",
    "    noise=(0, 8.3, 0.5),\n",
    ")\n",
    "\n",
    "Drogue = Calisto.addParachute(\n",
    "    \"Drogue\",\n",
    "    CdS=1.0,\n",
    "    trigger=drogueTrigger,\n",
    "    samplingRate=105,\n",
    "    lag=1.5,\n",
    "    noise=(0, 8.3, 0.5),\n",
    ")\n"
   ]
  },
  {
   "cell_type": "code",
   "execution_count": 13,
   "metadata": {},
   "outputs": [
    {
     "name": "stdout",
     "output_type": "stream",
     "text": [
      "\n",
      "Inertia Details\n",
      "\n",
      "Rocket Mass: 16.241 kg (No Propellant)\n",
      "Rocket Mass: 19.197 kg (With Propellant)\n",
      "Rocket Inertia I: 6.600 kg*m2\n",
      "Rocket Inertia Z: 0.035 kg*m2\n",
      "\n",
      "\n",
      "Geometrical Parameters\n",
      "\n",
      "Rocket Maximum Radius: 0.0635 m\n",
      "Rocket Frontal Area: 0.012668 m2\n",
      "\n",
      "Rocket Distances\n",
      "Rocket Center of Dry Mass - Nozzle Exit Distance: 1.255 m\n",
      "Rocket Center of Dry Mass - Center of Propellant Mass: 0.857 m\n",
      "Rocket Center of Mass - Rocket Loaded Center of Mass: 0.132 m\n",
      "\n",
      "Aerodynamic Components Parameters\n",
      "Currently not implemented.\n",
      "\n",
      "\n",
      "Aerodynamics Lift Coefficient Derivatives\n",
      "\n",
      "Nose Cone Lift Coefficient Derivative: 2.000/rad\n",
      "Fins Lift Coefficient Derivative: 5.145/rad\n",
      "Tail Lift Coefficient Derivative: -1.061/rad\n",
      "\n",
      "Aerodynamics Center of Pressure\n",
      "\n",
      "Nose Cone Center of Pressure to CM: 0.279 m\n",
      "Fins Center of Pressure to CM: 0.055 m\n",
      "Tail Center of Pressure to CM: 0.028 m\n",
      "Distance - Center of Pressure to CM: -0.392 m\n",
      "Initial Static Margin: 2.051 c\n",
      "Final Static Margin: 3.090 c\n",
      "\n",
      "\n",
      "Main Parachute\n",
      "\n",
      "CdS Coefficient: 10.0 m2\n",
      "Ejection signal trigger: mainTrigger\n",
      "Ejection system refresh rate: 105 Hz.\n",
      "Time between ejection signal is triggered and the parachute is fully opened: 1.5 s\n",
      "\n",
      "\n",
      "Mass Plots\n"
     ]
    },
    {
     "data": {
      "image/png": "[encoded data removed]",
      "text/plain": [
       "<Figure size 432x288 with 1 Axes>"
      ]
     },
     "metadata": {
      "needs_background": "light"
     },
     "output_type": "display_data"
    },
    {
     "data": {
      "image/png": "[encoded data removed]",
      "text/plain": [
       "<Figure size 432x288 with 1 Axes>"
      ]
     },
     "metadata": {
      "needs_background": "light"
     },
     "output_type": "display_data"
    },
    {
     "name": "stdout",
     "output_type": "stream",
     "text": [
      "\n",
      "Aerodynamics Plots\n"
     ]
    },
    {
     "data": {
      "image/png": "[encoded data removed]",
      "text/plain": [
       "<Figure size 432x288 with 1 Axes>"
      ]
     },
     "metadata": {
      "needs_background": "light"
     },
     "output_type": "display_data"
    },
    {
     "data": {
      "image/png": "[encoded data removed]",
      "text/plain": [
       "<Figure size 432x288 with 1 Axes>"
      ]
     },
     "metadata": {
      "needs_background": "light"
     },
     "output_type": "display_data"
    },
    {
     "data": {
      "image/png": "[encoded data removed]",
      "text/plain": [
       "<Figure size 432x288 with 1 Axes>"
      ]
     },
     "metadata": {
      "needs_background": "light"
     },
     "output_type": "display_data"
    },
    {
     "data": {
      "image/png": "[encoded data removed]",
      "text/plain": [
       "<Figure size 432x288 with 1 Axes>"
      ]
     },
     "metadata": {
      "needs_background": "light"
     },
     "output_type": "display_data"
    }
   ],
   "source": [
    "Calisto.allInfo()\n"
   ]
  },
  {
   "cell_type": "markdown",
   "metadata": {},
   "source": [
    "### Simulate single flight"
   ]
  },
  {
   "cell_type": "code",
   "execution_count": 14,
   "metadata": {},
   "outputs": [],
   "source": [
    "TestFlight = Flight(\n",
    "    rocket=Calisto,\n",
    "    environment=Env,\n",
    "    inclination=84,\n",
    "    heading=133,\n",
    ")\n"
   ]
  },
  {
   "cell_type": "code",
   "execution_count": 15,
   "metadata": {},
   "outputs": [
    {
     "data": {
      "text/plain": [
       "NoseConeDataByNoseCone(length=(0.55829, 0), kind=[None], position=(1.278, 0), baseRadius=(0.0635, 0), rocketRadius=(0.0635, 0), name='NoseCone')"
      ]
     },
     "execution_count": 15,
     "metadata": {},
     "output_type": "execute_result"
    }
   ],
   "source": [
    "n = NoseConeDataByNoseCone(nosecone=NoseCone)\n",
    "n"
   ]
  },
  {
   "cell_type": "code",
   "execution_count": 16,
   "metadata": {},
   "outputs": [
    {
     "data": {
      "text/plain": [
       "RocketDataByRocket(radius=(0.0635, 1, 'str'), mass=(10, 1, 'str'), inertiaI=(6.6, 0), inertiaZ=(0.0351, 1), powerOffDrag=[WindowsPath('../../../data/calisto/powerOffDragCurve.csv')], powerOnDrag=[WindowsPath('../../../data/calisto/powerOnDragCurve.csv')], centerOfDryMassPosition=(0, 1), powerOffDragFactor=(1, 0), powerOnDragFactor=(1, 0.3))"
      ]
     },
     "execution_count": 16,
     "metadata": {},
     "output_type": "execute_result"
    }
   ],
   "source": [
    "r = RocketData(\n",
    "    # rocket=Calisto,\n",
    "    radius = (1,'str'),\n",
    "    mass = (10,1,'str'),\n",
    "    # inertiaI = 1,\n",
    "    inertiaZ = 1,\n",
    "    powerOffDrag=[\"../../../data/calisto/powerOffDragCurve.csv\"],\n",
    "    powerOnDrag=[\"../../../data/calisto/powerOnDragCurve.csv\"],\n",
    "    powerOnDragFactor = (1,0.3),\n",
    "    centerOfDryMassPosition = 1,\n",
    "    coordinateSystemOrientation = ['lala']\n",
    ")\n",
    "r"
   ]
  },
  {
   "cell_type": "code",
   "execution_count": 20,
   "metadata": {},
   "outputs": [
    {
     "data": {
      "text/plain": [
       "[NoseConeDataByNoseCone(length=(0.55829, 0), kind=[None], position=(1.278, 0), baseRadius=(0.0635, 0), rocketRadius=(0.0635, 0), name='NoseCone'),\n",
       " NoseConeDataByNoseCone(length=(0.55829, 0), kind=[None], position=(1.278, 0), baseRadius=(0.0635, 0), rocketRadius=(0.0635, 0), name='NoseCone')]"
      ]
     },
     "execution_count": 20,
     "metadata": {},
     "output_type": "execute_result"
    }
   ],
   "source": [
    "r.nosecones"
   ]
  },
  {
   "cell_type": "code",
   "execution_count": 19,
   "metadata": {},
   "outputs": [],
   "source": [
    "r.addNose(n)"
   ]
  },
  {
   "cell_type": "code",
   "execution_count": null,
   "metadata": {},
   "outputs": [],
   "source": [
    "m = SolidMotorDataByMotor(\n",
    "    solidMotor = Pro75M1670,\n",
    "    thrustSource=[\"../../../data/motors/Cesaroni_M1670.eng\",],\n",
    "    burnOutTime=5,\n",
    "    grainsCenterOfMassPosition=(-0.8,1),\n",
    "    grainNumber=(5,1,'sd'),\n",
    "    grainDensity=(1,1),\n",
    "    grainOuterRadius=(1,1),\n",
    "    grainInitialInnerRadius=(1,1),\n",
    "    grainInitialHeight=(1,1),\n",
    "    grainSeparation=(1,1),\n",
    "    nozzleRadius=(1,1),\n",
    "    nozzlePosition=(1,1),\n",
    "    # throatRadius=(1),\n",
    "    # totalImpulse=(1)\n",
    ")\n",
    "m"
   ]
  },
  {
   "cell_type": "code",
   "execution_count": null,
   "metadata": {},
   "outputs": [],
   "source": [
    "\n",
    "e = EnvironmentDataByEnvironment(\n",
    "    railLength=(4,'b'),\n",
    "    # date=[(1,2,3,4)],\n",
    "    elevation = (500),\n",
    "    gravity = (1,'str'),\n",
    "    latitude = (1), # TODO: maybe add even more restrictions to values such as these...\n",
    "    longitude = (1),\n",
    "    datum = [\"SIRGAS2000\"], # TODO: can add even more restriction to be just the acceptable strings\n",
    "    timeZone = [\"UTC\"],\n",
    "    environment=Env,)"
   ]
  },
  {
   "cell_type": "code",
   "execution_count": null,
   "metadata": {},
   "outputs": [],
   "source": [
    "e"
   ]
  },
  {
   "cell_type": "code",
   "execution_count": null,
   "metadata": {},
   "outputs": [],
   "source": [
    "import json\n",
    "from rocketpy import AeroSurfaces\n",
    "\n",
    "# use order to sort data structs of each class to sort the dict to look pretty\n",
    "\n",
    "\n",
    "class DispersionDict(dict):\n",
    "\n",
    "    def __init__(self, flight = None, rocket = None, motor = None, environment = None, dispersion = None):\n",
    "        \"\"\"Creates a standard dispersion dictionary. The dictionary should be in the \n",
    "        format used in the Dispersion class. If an object of a RocketPy class is passed\n",
    "        the dictionary created should have its values as the nominal values\"\"\"\n",
    "\n",
    "        if flight:\n",
    "            self.add_flight_values(flight)\n",
    "            self.add_rocket_values(flight.rocket)\n",
    "            self.add_motor_values(flight.rocket.motor)\n",
    "            self.add_env_values(flight.env)\n",
    "        if rocket:\n",
    "            self.add_rocket_values(rocket)\n",
    "            self.add_motor_values(rocket.motor)\n",
    "        if motor:\n",
    "            self.add_motor_values(motor)\n",
    "        if environment:\n",
    "            self.add_env_values(environment)\n",
    "\n",
    "    @staticmethod\n",
    "    def empty_standard_dict():\n",
    "        \"\"\"returns and prints empty standard dispersion dictionary\"\"\"\n",
    "        empty_standard_dict = {\n",
    "            # Environment Parameters\n",
    "            \"railLength\": (None, None),\n",
    "            \"date\": [None],\n",
    "            \"elevation\": (None, None),\n",
    "            \"gravity\": (None, None),\n",
    "            \"latitude\": (None, None),\n",
    "            \"longitude\": (None, None),\n",
    "            \"timeZone\": [None],\n",
    "            # Solid Motor Parameters\n",
    "            \"burnOutTime\": (None, None),\n",
    "            \"grainDensity\": (None, None),\n",
    "            \"grainInitialHeight\": (None, None),\n",
    "            \"grainInitialInnerRadius\": (None, None),\n",
    "            \"grainNumber\": [None],\n",
    "            \"grainOuterRadius\": (None, None),\n",
    "            \"grainSeparation\": (None, None),\n",
    "            \"nozzleRadius\": (None, None),\n",
    "            \"throatRadius\": (None, None),\n",
    "            \"thrustSource\": [None],\n",
    "            \"totalImpulse\": (None, None),\n",
    "            \"grainsCenterOfMassPosition\": (None, None),\n",
    "            # Rocket Parameters\n",
    "            \"mass\": (None, None),\n",
    "            \"radius\": (None, None),\n",
    "            \"inertiaI\": (None, None),\n",
    "            \"inertiaZ\": (None, None),\n",
    "            \"powerOffDrag\":[None],\n",
    "            \"powerOnDrag\":[None],\n",
    "            \"powerOffDragFactor\": (None, None),\n",
    "            \"powerOnDragFactor\": (None, None),\n",
    "            \"motor_position\": (None, None),\n",
    "            \"nose_name_kind\": [None],\n",
    "            \"nose_name_length\": (None, None),\n",
    "            \"nose_name_position\": (None, None),\n",
    "            \"finSet_name_n\": [None],\n",
    "            \"finSet_name_rootChord\": (None, None),\n",
    "            \"finSet_name_tipChord\": (None, None),\n",
    "            \"finSet_name_span\": (None, None),\n",
    "            \"finSet_name_position\": (None, None),\n",
    "            \"finSet_name_airfoil\": [None],\n",
    "            \"tail_name_topRadius\": (None, None),\n",
    "            \"tail_name_bottomRadius\": (None, None),\n",
    "            \"tail_name_length\": (None, None),\n",
    "            \"tail_name_position\": (None, None),\n",
    "            \"parachute_name_CdS\": (None, None),\n",
    "            \"parachute_name_trigger\": [None],\n",
    "            \"parachute_name_samplingRate\": (None, None),\n",
    "            \"parachute_name_lag\": (None, None),\n",
    "            \"parachute_name_noise\": [None],\n",
    "            # Flight Parameters\n",
    "            \"inclination\": (None, None),\n",
    "            \"heading\": (None, None),\n",
    "        }\n",
    "        return empty_standard_dict\n",
    "    \n",
    "    def complete_dict(self, dictionary):\n",
    "        empty_standard_dict = self.empty_standard_dict()\n",
    "        for key, value in empty_standard_dict.items:\n",
    "            if key in dictionary.keys():\n",
    "\n",
    "\n",
    "        return None\n",
    "\n",
    "\n",
    "    def add_flight_values(self, flight):\n",
    "        standard_flight = {\n",
    "            \"inclination\": (None, None),\n",
    "            \"heading\": (None, None),\n",
    "        }\n",
    "        for key in standard_flight.keys():\n",
    "            self.__dict__[key] = (getattr(flight, key), None)\n",
    "        return None\n",
    "    \n",
    "    def add_rocket_values(self, rocket):\n",
    "        standard_rocket = {\n",
    "            \"mass\": (None, None),\n",
    "            \"radius\": (None, None),\n",
    "            \"inertiaI\": (None, None),\n",
    "            \"inertiaZ\": (None, None),\n",
    "            \"powerOffDrag\":[None],\n",
    "            \"powerOnDrag\":[None],\n",
    "            \"motorPosition\": (None, None),\n",
    "            }\n",
    "\n",
    "        for key, value in standard_rocket.items():\n",
    "            if isinstance(value, list):\n",
    "                self.__dict__[key] = [getattr(rocket, key)]\n",
    "            else:\n",
    "                self.__dict__[key] = (getattr(rocket, key), None)\n",
    "\n",
    "        for surface in rocket.aerodynamicSurfaces:\n",
    "            if isinstance(surface[0], AeroSurfaces.NoseCone):\n",
    "                self.__dict__[f\"nose_{surface[0].name}_kind\"] = [surface[0].kind]\n",
    "                self.__dict__[f\"nose_{surface[0].name}_lenght\"] = (surface[0].length,None)\n",
    "                self.__dict__[f\"nose_{surface[0].name}_position\"] = (surface[1],None)\n",
    "\n",
    "            if isinstance(surface[0], AeroSurfaces.TrapezoidalFins):\n",
    "                self.__dict__[f\"finSet_{surface[0].name}_n\"] = [surface[0].n]\n",
    "                self.__dict__[f\"finSet_{surface[0].name}_rootChord\"] = (surface[0].rootChord,None)\n",
    "                self.__dict__[f\"finSet_{surface[0].name}_tipChord\"] = (surface[0].tipChord,None)\n",
    "                self.__dict__[f\"finSet_{surface[0].name}_span\"] = (surface[0].span,None)\n",
    "                self.__dict__[f\"finSet_{surface[0].name}_cantAngle\"] = (surface[0].cantAngle,None)\n",
    "                self.__dict__[f\"finSet_{surface[0].name}_sweepLength\"] = (surface[0].sweepLength,None)\n",
    "                self.__dict__[f\"finSet_{surface[0].name}_sweepAngle\"] = (surface[0].sweepAngle,None)\n",
    "                self.__dict__[f\"finSet_{surface[0].name}_airfoil\"] = [surface[0].airfoil]\n",
    "                self.__dict__[f\"finSet_{surface[0].name}_position\"] = (surface[1],None)\n",
    "\n",
    "            if isinstance(surface[0], AeroSurfaces.Tail):\n",
    "                self.__dict__[f\"tail_{surface[0].name}_topRadius\"] = (surface[0].topRadius,None)\n",
    "                self.__dict__[f\"tail_{surface[0].name}_bottomRadius\"] = (surface[0].bottomRadius,None)\n",
    "                self.__dict__[f\"tail_{surface[0].name}_length\"] = (surface[0].length,None)\n",
    "                self.__dict__[f\"tail_{surface[0].name}_position\"] = (surface[1],None)\n",
    "\n",
    "        for chute in rocket.parachutes:\n",
    "            self.__dict__[f\"parachute_{chute.name}_CdS\"] = (chute.CdS,None)\n",
    "            self.__dict__[f\"parachute_{chute.name}_trigger\"] = [chute.trigger]\n",
    "            self.__dict__[f\"parachute_{chute.name}_samplingRate\"] = (chute.samplingRate,None)\n",
    "            self.__dict__[f\"parachute_{chute.name}_lag\"] = (chute.lag, None)\n",
    "            self.__dict__[f\"parachute_{chute.name}_noise\"] = [chute.noise]\n",
    "\n",
    "        self.__dict__[\"powerOffDragFactor\"] = (1, None)\n",
    "        self.__dict__[\"powerOnDragFactor\"] = (1, None)\n",
    "        return None\n",
    "    \n",
    "    def add_motor_values(self, motor):\n",
    "        standard_motor = {\n",
    "            \"burnOutTime\": (None, None),\n",
    "            \"grainDensity\": (None, None),\n",
    "            \"grainInitialHeight\": (None, None),\n",
    "            \"grainInitialInnerRadius\": (None, None),\n",
    "            \"grainNumber\": [None],\n",
    "            \"grainOuterRadius\": (None, None),\n",
    "            \"grainSeparation\": (None, None),\n",
    "            \"nozzleRadius\": (None, None),\n",
    "            \"throatRadius\": (None, None),\n",
    "            \"thrustSource\": [None],\n",
    "            \"totalImpulse\": (None, None),\n",
    "            \"grainsCenterOfMassPosition\": (None, None),\n",
    "        }\n",
    "        for key, value in standard_motor.items():\n",
    "            if isinstance(value, list):\n",
    "                self.__dict__[key] = [getattr(motor, key)]\n",
    "            else:\n",
    "                self.__dict__[key] = (getattr(motor, key), None)\n",
    "        return None\n",
    "    \n",
    "    def add_env_values(self, env):\n",
    "        standard_env = {\n",
    "            \"railLength\": (None, None),\n",
    "            \"date\": [None],\n",
    "            \"elevation\": (None, None),\n",
    "            \"gravity\": (None, None),\n",
    "            \"latitude\": (None, None),\n",
    "            \"longitude\": (None, None),\n",
    "            \"timeZone\": [None],\n",
    "        }\n",
    "        for key, value in standard_env.items():\n",
    "            if isinstance(value, list):\n",
    "                self.__dict__[key] = [getattr(env, key)]\n",
    "            else:\n",
    "                self.__dict__[key] = (getattr(env, key), None)\n",
    "        return None\n",
    "\n",
    "    # Dictionary methods\n",
    "    # These methods make sure the class work just\n",
    "    # The same as a normal dict\n",
    "\n",
    "    def __setitem__(self, key, item):\n",
    "        self.__dict__[key] = item\n",
    "\n",
    "    def __getitem__(self, key):\n",
    "        return self.__dict__[key]\n",
    "\n",
    "    def __repr__(self):\n",
    "        indent = 4\n",
    "        rep = '{\\n'\n",
    "        for key, value in self.__dict__.items():\n",
    "            rep = rep + ' ' * indent + str(key) + ' : ' + str(value) + ',\\n'\n",
    "        rep = rep + '}'\n",
    "        return rep\n",
    "    \n",
    "    def __len__(self):\n",
    "        return len(self.__dict__)\n",
    "\n",
    "    def __delitem__(self, key):\n",
    "        del self.__dict__[key]\n",
    "\n",
    "    def clear(self):\n",
    "        return self.__dict__.clear()\n",
    "\n",
    "    def copy(self):\n",
    "        return self.__dict__.copy()\n",
    "\n",
    "    def has_key(self, k):\n",
    "        return k in self.__dict__\n",
    "\n",
    "    def update(self, *args, **kwargs):\n",
    "        return self.__dict__.update(*args, **kwargs)\n",
    "\n",
    "    def keys(self):\n",
    "        return self.__dict__.keys()\n",
    "\n",
    "    def values(self):\n",
    "        return self.__dict__.values()\n",
    "\n",
    "    def items(self):\n",
    "        return self.__dict__.items()\n",
    "\n",
    "    def pop(self, *args):\n",
    "        return self.__dict__.pop(*args)\n",
    "\n",
    "    def __cmp__(self, dict_):\n",
    "        return self.__cmp__(self.__dict__, dict_)\n",
    "\n",
    "    def __contains__(self, item):\n",
    "        return item in self.__dict__\n",
    "\n",
    "    def __iter__(self):\n",
    "        return iter(self.__dict__)\n",
    "\n",
    "    def __unicode__(self):\n",
    "        return unicode(repr(self.__dict__))\n",
    "\n",
    "\n"
   ]
  },
  {
   "cell_type": "markdown",
   "metadata": {},
   "source": [
    "And we can visualize the flight trajectory:"
   ]
  },
  {
   "cell_type": "code",
   "execution_count": null,
   "metadata": {},
   "outputs": [],
   "source": [
    "TestFlight.plots.trajectory_3d()\n"
   ]
  },
  {
   "cell_type": "markdown",
   "metadata": {},
   "source": [
    "### Starting the Monte Carlo Simulations"
   ]
  },
  {
   "cell_type": "markdown",
   "metadata": {},
   "source": [
    "First, let's invoke the Dispersion class, we only need a filename to initialize it.\n",
    "The filename will be used either to save the results of the simulations or to load them\n",
    "from a previous ran simulation."
   ]
  },
  {
   "cell_type": "code",
   "execution_count": null,
   "metadata": {},
   "outputs": [],
   "source": [
    "TestDispersion = Dispersion(filename=\"dispersion_analysis_outputs/disp_class_example\")\n"
   ]
  },
  {
   "cell_type": "markdown",
   "metadata": {},
   "source": [
    "Then, we can run the simulations using the method Dispersion.run_dispersion().\n",
    "But before that, we need to set some simple parameters for the simulations.\n",
    "We will set them by using a dictionary, which is one of the simplest way to do it."
   ]
  },
  {
   "cell_type": "code",
   "execution_count": null,
   "metadata": {},
   "outputs": [],
   "source": [
    "#TODO: explain that this is std only\n",
    "disp_dictionary = {\n",
    "    # Solid Motor Parameters\n",
    "    \"burnOutTime\": 0.2,\n",
    "    \"totalImpulse\": 0.033 * Pro75M1670.totalImpulse,\n",
    "    \"motor_position\": (-1.255,0),\n",
    "    # Rocket Parameters\n",
    "    \"mass\": 0.100,\n",
    "    \"radius\": 0.001,\n",
    "    \"powerOffDrag\": 0.033,  # Multiplier\n",
    "    \"powerOnDrag\": 0.033,  # Multiplier\n",
    "    \"parachute_Main_CdS\": 1,\n",
    "    \"parachute_Drogue_CdS\": 0.1,\n",
    "    \"parachute_Main_lag\": 0.1,\n",
    "    \"parachute_Drogue_lag\": 0.1,\n",
    "    # Flight Parameters\n",
    "    \"inclination\": 1,\n",
    "    \"heading\": 2,\n",
    "}\n"
   ]
  },
  {
   "cell_type": "markdown",
   "metadata": {},
   "source": [
    "Finally, let's iterate over the simulations and export the data from each flight simulation!"
   ]
  },
  {
   "cell_type": "code",
   "execution_count": null,
   "metadata": {},
   "outputs": [],
   "source": [
    "TestDispersion.run_dispersion(\n",
    "    number_of_simulations=50,\n",
    "    dispersion_dictionary=disp_dictionary,\n",
    "    rocket=Calisto,\n",
    "    append=False,\n",
    ")\n"
   ]
  },
  {
   "cell_type": "markdown",
   "metadata": {},
   "source": [
    "### Visualizing the results"
   ]
  },
  {
   "cell_type": "markdown",
   "metadata": {},
   "source": [
    "Now we finally have the results of our Monte Carlo simulations loaded!\n",
    "Let's play with them."
   ]
  },
  {
   "cell_type": "markdown",
   "metadata": {},
   "source": [
    "First, we can print numerical information regarding the results of the simulations."
   ]
  },
  {
   "cell_type": "code",
   "execution_count": null,
   "metadata": {},
   "outputs": [],
   "source": [
    "TestDispersion.import_results()\n"
   ]
  },
  {
   "cell_type": "code",
   "execution_count": null,
   "metadata": {},
   "outputs": [],
   "source": [
    "TestDispersion.print_results()\n"
   ]
  },
  {
   "cell_type": "markdown",
   "metadata": {},
   "source": [
    "Also, we can visualize histograms of such results"
   ]
  },
  {
   "cell_type": "code",
   "execution_count": null,
   "metadata": {},
   "outputs": [],
   "source": [
    "TestDispersion.allInfo()\n"
   ]
  },
  {
   "cell_type": "markdown",
   "metadata": {},
   "source": [
    "Export to kml so it can be visualized in Google Earth"
   ]
  },
  {
   "cell_type": "code",
   "execution_count": null,
   "metadata": {},
   "outputs": [],
   "source": [
    "TestDispersion.exportEllipsesToKML(\n",
    "    filename=\"dispersion_analysis_outputs/disp_class_example.kml\",\n",
    "    origin_lat=Env.latitude,\n",
    "    origin_lon=Env.longitude,\n",
    "    type=\"impact\",\n",
    ")\n"
   ]
  },
  {
   "cell_type": "markdown",
   "metadata": {},
   "source": [
    "## 2nd Option -> Running by using only a dictionary of parameters"
   ]
  },
  {
   "cell_type": "markdown",
   "metadata": {},
   "source": [
    "This second option allow us to perform the Monte Carlo Simulations without the need of a Flight object. This is useful when we want to perform the simulations for a rocket that we don't have a Flight object for, or when we want to perform the simulations for a rocket that we have a Flight object for, but we want to change some parameters of the simulations."
   ]
  },
  {
   "cell_type": "code",
   "execution_count": null,
   "metadata": {},
   "outputs": [],
   "source": [
    "TestDispersion2 = Dispersion(filename=\"dispersion_analysis_outputs/disp_class_example2\")\n"
   ]
  },
  {
   "cell_type": "code",
   "execution_count": null,
   "metadata": {},
   "outputs": [],
   "source": [
    "aerodynamic_surfaces = Calisto.aerodynamicSurfaces\n",
    "nose, fins, tail = aerodynamic_surfaces\n"
   ]
  },
  {
   "cell_type": "code",
   "execution_count": null,
   "metadata": {},
   "outputs": [],
   "source": [
    "dispersion_dictionary2 = {\n",
    "    # Environment Parameters\n",
    "    \"railLength\": (Env.railLength, 0.001),\n",
    "    \"date\": [Env.date],\n",
    "    \"datum\": [\"WSG84\"],\n",
    "    \"elevation\": (Env.elevation, 10),\n",
    "    \"gravity\": (Env.gravity, 0),\n",
    "    \"latitude\": (Env.latitude, 0),\n",
    "    \"longitude\": (Env.longitude, 0),\n",
    "    \"timeZone\": [str(Env.timeZone)],\n",
    "    # Solid Motor Parameters\n",
    "    \"burnOutTime\": (Pro75M1670.burnOutTime, 0.2),\n",
    "    \"grainDensity\": (Pro75M1670.grainDensity, 0.1 * Pro75M1670.grainDensity),\n",
    "    \"grainInitialHeight\": (Pro75M1670.grainInitialHeight, 0.001),\n",
    "    \"grainInitialInnerRadius\": (Pro75M1670.grainInitialInnerRadius, 0.001),\n",
    "    \"grainNumber\": [Pro75M1670.grainNumber],\n",
    "    \"grainOuterRadius\": (Pro75M1670.grainOuterRadius, 0.001),\n",
    "    \"grainSeparation\": (Pro75M1670.grainSeparation, 0.001),\n",
    "    \"nozzleRadius\": (Pro75M1670.nozzleRadius, 0.001),\n",
    "    \"throatRadius\": (Pro75M1670.throatRadius, 0.001),\n",
    "    \"thrustSource\": [Pro75M1670.thrustSource],\n",
    "    \"totalImpulse\": (Pro75M1670.totalImpulse, 0.033 * Pro75M1670.totalImpulse),\n",
    "    \"grainsCenterOfMassPosition\": (Pro75M1670.grainsCenterOfMassPosition, 0.001),\n",
    "    # Rocket Parameters\n",
    "    \"mass\": (Calisto.mass, 0.100),\n",
    "    \"radius\": (Calisto.radius, 0.001),\n",
    "    \"inertiaI\": (Calisto.inertiaI, Calisto.inertiaI * 0.1),\n",
    "    \"inertiaZ\": (Calisto.inertiaZ, Calisto.inertiaZ * 0.1),\n",
    "    \"powerOffDrag\":[\"../../../data/calisto/powerOffDragCurve.csv\"],\n",
    "    \"powerOnDrag\":[\"../../../data/calisto/powerOnDragCurve.csv\"],\n",
    "    \"powerOffDragFactor\": (1, 0.033),\n",
    "    \"powerOnDragFactor\": (1, 0.033),\n",
    "    \"motor_position\": (Calisto.motorPosition, 0.001),\n",
    "    \"nose_name_kind\": [nose[0].kind],\n",
    "    \"nose_name_length\": (nose[0].length, 0.001),\n",
    "    \"nose_name_position\": (nose[1], 0.001),\n",
    "    \"finSet_name_n\": [fins[0].n],\n",
    "    \"finSet_name_rootChord\": (fins[0].rootChord, 0.001),\n",
    "    \"finSet_name_tipChord\": (fins[0].tipChord, 0.001),\n",
    "    \"finSet_name_span\": (fins[0].span, 0.001),\n",
    "    \"finSet_name_position\": (fins[1], 0.001),\n",
    "    \"finSet_name_airfoil\": [fins[0].airfoil],\n",
    "    \"tail_name_topRadius\": (tail[0].topRadius, 0.001),\n",
    "    \"tail_name_bottomRadius\": (tail[0].bottomRadius, 0.001),\n",
    "    \"tail_name_length\": (tail[0].length, 0.001),\n",
    "    \"tail_name_position\": (tail[1], 0.001),\n",
    "    \"parachute_Main_CdS\": (10,2),\n",
    "    \"parachute_Main_trigger\": mainTrigger,\n",
    "    \"parachute_Main_samplingRate\": (105,0),\n",
    "    \"parachute_Main_lag\": (1.5,0),\n",
    "    \"parachute_Main_noise\": [(0,8.3,0.5)],\n",
    "    \"parachute_Drogue_CdS\": (1,0.3),\n",
    "    \"parachute_Drogue_trigger\": drogueTrigger,\n",
    "    \"parachute_Drogue_samplingRate\": (105,0),\n",
    "    \"parachute_Drogue_lag\": (1.5,0),\n",
    "    \"parachute_Drogue_noise\": [(0,8.3,0.5)],\n",
    "    # Flight Parameters\n",
    "    \"inclination\": (85,1),\n",
    "    \"heading\": (90,2),\n",
    "}"
   ]
  },
  {
   "cell_type": "code",
   "execution_count": null,
   "metadata": {},
   "outputs": [],
   "source": [
    "TestDispersion2.run_dispersion(\n",
    "    number_of_simulations=50,\n",
    "    dispersion_dictionary=dispersion_dictionary2,\n",
    ")\n"
   ]
  },
  {
   "cell_type": "code",
   "execution_count": null,
   "metadata": {},
   "outputs": [],
   "source": [
    "TestDispersion2.import_results()\n"
   ]
  },
  {
   "cell_type": "markdown",
   "metadata": {},
   "source": [
    "And finally, we can export the ellipses of the results to a .kml file so it can be opened on Google Earth"
   ]
  },
  {
   "cell_type": "code",
   "execution_count": null,
   "metadata": {},
   "outputs": [],
   "source": [
    "TestDispersion2.print_results()\n"
   ]
  },
  {
   "cell_type": "code",
   "execution_count": null,
   "metadata": {},
   "outputs": [],
   "source": [
    "TestDispersion2.allInfo()\n"
   ]
  },
  {
   "cell_type": "code",
   "execution_count": null,
   "metadata": {},
   "outputs": [],
   "source": []
  }
 ],
 "metadata": {
  "hide_input": false,
  "kernelspec": {
   "display_name": "Python 3.10.5 64-bit",
   "language": "python",
   "name": "python3"
  },
  "language_info": {
   "codemirror_mode": {
    "name": "ipython",
    "version": 3
   },
   "file_extension": ".py",
   "mimetype": "text/x-python",
   "name": "python",
   "nbconvert_exporter": "python",
   "pygments_lexer": "ipython3",
   "version": "3.10.5"
  },
  "vscode": {
   "interpreter": {
    "hash": "26de051ba29f2982a8de78e945f0abaf191376122a1563185a90213a26c5da77"
   }
  }
 },
 "nbformat": 4,
 "nbformat_minor": 2
}
