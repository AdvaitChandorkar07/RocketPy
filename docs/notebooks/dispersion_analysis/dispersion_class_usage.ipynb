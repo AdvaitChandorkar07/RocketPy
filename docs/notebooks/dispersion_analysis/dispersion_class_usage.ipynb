{
 "cells": [
  {
   "attachments": {},
   "cell_type": "markdown",
   "metadata": {},
   "source": [
    "# Monte Carlo Dispersion Analysis with the Dispersion Class\n"
   ]
  },
  {
   "attachments": {},
   "cell_type": "markdown",
   "metadata": {},
   "source": [
    "Finally the Monte Carlo simulations can be performed using a dedicated class called Dispersion.\n",
    "Say goodbye to the long and tedious process of creating the Monte Carlo Simulations throughout jupyter notebooks!\n"
   ]
  },
  {
   "cell_type": "code",
   "execution_count": 1,
   "metadata": {},
   "outputs": [],
   "source": [
    "%load_ext autoreload\n",
    "%autoreload 2"
   ]
  },
  {
   "attachments": {},
   "cell_type": "markdown",
   "metadata": {},
   "source": [
    "First, let's import the necessary libraries, including the newest Dispersion class!\n"
   ]
  },
  {
   "cell_type": "code",
   "execution_count": 2,
   "metadata": {},
   "outputs": [],
   "source": [
    "from rocketpy import Environment, SolidMotor, Rocket, Flight, Dispersion\n",
    "from rocketpy.monte_carlo import (\n",
    "    McEnvironment,\n",
    "    McSolidMotor,\n",
    "    McRocket,\n",
    "    McFlight,\n",
    "    McNoseCone,\n",
    "    McTail,\n",
    "    McTrapezoidalFins,\n",
    "    McParachute,\n",
    ")\n",
    "import datetime\n"
   ]
  },
  {
   "attachments": {},
   "cell_type": "markdown",
   "metadata": {},
   "source": [
    "If you are using Jupyter Notebooks, it is recommended to run the following line to make matplotlib plots which will be shown later interactive and higher quality.\n"
   ]
  },
  {
   "cell_type": "code",
   "execution_count": 3,
   "metadata": {},
   "outputs": [],
   "source": [
    "%matplotlib inline"
   ]
  },
  {
   "attachments": {},
   "cell_type": "markdown",
   "metadata": {},
   "source": [
    "The Dispersion class allows us to perform Monte Carlo Simulations in a very simple way.\n",
    "We just need to create an instance of the class, and then call the method `run_dispersion()` to perform the simulations.\n",
    "The class has a lot of capabilities, but we will only use a few of them in this example.\n",
    "We encourage you to check the documentation of the class to learn more about the Dispersion.\n",
    "\n",
    "Also, you can check RocketPy's main reference for a better conceptual understanding\n",
    "of the Monte Carlo Simulations: [RocketPy: Six Degree-of-Freedom Rocket Trajectory Simulator](<https://doi.org/10.1061/(ASCE)AS.1943-5525.0001331>)\n",
    "\n",
    "TODO: improve the description\n"
   ]
  },
  {
   "attachments": {},
   "cell_type": "markdown",
   "metadata": {},
   "source": [
    "## First Step: Creating the Inputs for the Simulations\n"
   ]
  },
  {
   "attachments": {},
   "cell_type": "markdown",
   "metadata": {},
   "source": [
    "### Environment\n"
   ]
  },
  {
   "cell_type": "code",
   "execution_count": 5,
   "metadata": {},
   "outputs": [],
   "source": [
    "env = Environment(\n",
    "    railLength=5.7, latitude=39.389700, longitude=-8.288964, elevation=113\n",
    ")\n",
    "\n",
    "tomorrow = datetime.date.today() + datetime.timedelta(days=1)\n",
    "\n",
    "env.setDate((tomorrow.year, tomorrow.month, tomorrow.day, 12))  # Hour given in UTC time\n",
    "\n",
    "env.setAtmosphericModel(type=\"Ensemble\", file=\"GEFS\")\n"
   ]
  },
  {
   "cell_type": "code",
   "execution_count": 26,
   "metadata": {},
   "outputs": [
    {
     "data": {
      "image/png": "[encoded data removed]",
      "text/plain": [
       "<Figure size 432x288 with 1 Axes>"
      ]
     },
     "metadata": {
      "needs_background": "light"
     },
     "output_type": "display_data"
    }
   ],
   "source": [
    "env.windVelocityX()"
   ]
  },
  {
   "attachments": {},
   "cell_type": "markdown",
   "metadata": {},
   "source": [
    "TODO: Improve docs\n",
    "Here we only add a standard deviation to rail length of 0.005\n"
   ]
  },
  {
   "cell_type": "code",
   "execution_count": 29,
   "metadata": {},
   "outputs": [
    {
     "name": "stdout",
     "output_type": "stream",
     "text": [
      "first?\n"
     ]
    },
    {
     "ename": "ValidationError",
     "evalue": "1 validation error for McEnvironment\n__root__\n  \nField 'railLength' \n\tMust be either a tuple, list, int or float (type=value_error)",
     "output_type": "error",
     "traceback": [
      "\u001b[1;31m---------------------------------------------------------------------------\u001b[0m",
      "\u001b[1;31mValidationError\u001b[0m                           Traceback (most recent call last)",
      "\u001b[1;32mc:\\Mateus\\GitHub\\RocketPy\\docs\\notebooks\\dispersion_analysis\\dispersion_class_usage.ipynb Cell 14\u001b[0m in \u001b[0;36m<cell line: 1>\u001b[1;34m()\u001b[0m\n\u001b[1;32m----> <a href='vscode-notebook-cell:/c%3A/Mateus/GitHub/RocketPy/docs/notebooks/dispersion_analysis/dispersion_class_usage.ipynb#X15sZmlsZQ%3D%3D?line=0'>1</a>\u001b[0m mc_env \u001b[39m=\u001b[39m McEnvironment(\n\u001b[0;32m      <a href='vscode-notebook-cell:/c%3A/Mateus/GitHub/RocketPy/docs/notebooks/dispersion_analysis/dispersion_class_usage.ipynb#X15sZmlsZQ%3D%3D?line=1'>2</a>\u001b[0m     environment\u001b[39m=\u001b[39;49menv,\n\u001b[0;32m      <a href='vscode-notebook-cell:/c%3A/Mateus/GitHub/RocketPy/docs/notebooks/dispersion_analysis/dispersion_class_usage.ipynb#X15sZmlsZQ%3D%3D?line=2'>3</a>\u001b[0m     railLength\u001b[39m=\u001b[39;49m\u001b[39m'\u001b[39;49m\u001b[39m0.005\u001b[39;49m\u001b[39m'\u001b[39;49m,\n\u001b[0;32m      <a href='vscode-notebook-cell:/c%3A/Mateus/GitHub/RocketPy/docs/notebooks/dispersion_analysis/dispersion_class_usage.ipynb#X15sZmlsZQ%3D%3D?line=3'>4</a>\u001b[0m     ensembleMember \u001b[39m=\u001b[39;49m [\u001b[39m0\u001b[39;49m,\u001b[39m1\u001b[39;49m,\u001b[39m2\u001b[39;49m,\u001b[39m20\u001b[39;49m]\n\u001b[0;32m      <a href='vscode-notebook-cell:/c%3A/Mateus/GitHub/RocketPy/docs/notebooks/dispersion_analysis/dispersion_class_usage.ipynb#X15sZmlsZQ%3D%3D?line=4'>5</a>\u001b[0m )\n\u001b[0;32m      <a href='vscode-notebook-cell:/c%3A/Mateus/GitHub/RocketPy/docs/notebooks/dispersion_analysis/dispersion_class_usage.ipynb#X15sZmlsZQ%3D%3D?line=6'>7</a>\u001b[0m mc_env\n",
      "File \u001b[1;32m~\\AppData\\Roaming\\Python\\Python310\\site-packages\\pydantic\\main.py:342\u001b[0m, in \u001b[0;36mpydantic.main.BaseModel.__init__\u001b[1;34m()\u001b[0m\n",
      "\u001b[1;31mValidationError\u001b[0m: 1 validation error for McEnvironment\n__root__\n  \nField 'railLength' \n\tMust be either a tuple, list, int or float (type=value_error)"
     ]
    }
   ],
   "source": [
    "mc_env = McEnvironment(\n",
    "    environment=env,\n",
    "    railLength='0.005',\n",
    "    ensembleMember = [0,1,2,20]\n",
    ")\n",
    "\n",
    "mc_env\n",
    "\n",
    "# TODO: improve the print or __repr__() of these Monte Carlo classes\n"
   ]
  },
  {
   "attachments": {},
   "cell_type": "markdown",
   "metadata": {},
   "source": [
    "### Motor\n"
   ]
  },
  {
   "attachments": {},
   "cell_type": "markdown",
   "metadata": {},
   "source": [
    "Let's define the motor using the firs method. We will be using the data from the manufacturer, and following\n",
    "the [RocketPy's documentation](https://docs.rocketpy.org/en/latest/user/index.html).\n"
   ]
  },
  {
   "cell_type": "code",
   "execution_count": 6,
   "metadata": {},
   "outputs": [],
   "source": [
    "motor = SolidMotor(\n",
    "    thrustSource=\"../../../data/motors/Cesaroni_M1670.eng\",\n",
    "    burnOutTime=3.9,\n",
    "    grainsCenterOfMassPosition=-0.85704,\n",
    "    grainNumber=5,\n",
    "    grainSeparation=5 / 1000,\n",
    "    grainDensity=1815,\n",
    "    grainOuterRadius=33 / 1000,\n",
    "    grainInitialInnerRadius=15 / 1000,\n",
    "    grainInitialHeight=120 / 1000,\n",
    "    nozzleRadius=33 / 1000,\n",
    "    throatRadius=11 / 1000,\n",
    "    interpolationMethod=\"linear\",\n",
    "    nozzlePosition=-1.255,\n",
    "    coordinateSystemOrientation=\"nozzleToCombustionChamber\",\n",
    ")\n"
   ]
  },
  {
   "cell_type": "code",
   "execution_count": 7,
   "metadata": {},
   "outputs": [
    {
     "data": {
      "text/plain": [
       "McSolidMotor(thrustSource=['../../../data/motors/Cesaroni_M1670.eng'], burnOutTime=(3.9, 1), grainsCenterOfMassPosition=(-0.85704, 0.001), grainNumber=[5], grainDensity=(1815, 50), grainOuterRadius=(0.033, 0), grainInitialInnerRadius=(0.015, 0), grainInitialHeight=(0.12, 0.001), grainSeparation=(0.005, 0), totalImpulse=(6026.35, 100), nozzleRadius=(0.033, 0), nozzlePosition=(-1.255, 0.001), throatRadius=(0.011, 0.0005))"
      ]
     },
     "execution_count": 7,
     "metadata": {},
     "output_type": "execute_result"
    }
   ],
   "source": [
    "mc_motor = McSolidMotor(\n",
    "    solidMotor=motor,\n",
    "    burnOutTime=1,\n",
    "    grainsCenterOfMassPosition=0.001,\n",
    "    grainDensity=50,\n",
    "    grainInitialHeight=0.001,\n",
    "    totalImpulse=100,\n",
    "    throatRadius=0.0005,\n",
    "    nozzlePosition=0.001,\n",
    ")\n",
    "mc_motor"
   ]
  },
  {
   "attachments": {},
   "cell_type": "markdown",
   "metadata": {},
   "source": [
    "### Rocket\n"
   ]
  },
  {
   "cell_type": "code",
   "execution_count": 8,
   "metadata": {},
   "outputs": [],
   "source": [
    "rocket = Rocket(\n",
    "    radius=127 / 2000,\n",
    "    mass=19.197 - 2.956,\n",
    "    inertiaI=6.60,\n",
    "    inertiaZ=0.0351,\n",
    "    powerOffDrag=\"../../../data/calisto/powerOffDragCurve.csv\",\n",
    "    powerOnDrag=\"../../../data/calisto/powerOnDragCurve.csv\",\n",
    "    centerOfDryMassPosition=0,\n",
    "    coordinateSystemOrientation=\"tailToNose\",\n",
    ")\n",
    "\n",
    "rocket.setRailButtons([0.2, -0.5])\n",
    "\n",
    "rocket.addMotor(motor, position=-1.255)\n",
    "\n",
    "nose_cone = rocket.addNose(length=0.55829, kind=\"vonKarman\", position=1.278)\n",
    "\n",
    "fin_set = rocket.addTrapezoidalFins(\n",
    "    n=4,\n",
    "    rootChord=0.120,\n",
    "    tipChord=0.040,\n",
    "    span=0.100,\n",
    "    position=-1.04956,\n",
    ")\n",
    "\n",
    "tail = rocket.addTail(\n",
    "    topRadius=0.0635, bottomRadius=0.0435, length=0.060, position=-1.194656\n",
    ")\n"
   ]
  },
  {
   "attachments": {},
   "cell_type": "markdown",
   "metadata": {},
   "source": [
    "Additionally, we set parachutes for our Rocket, as well as the trigger functions for the deployment of such parachutes.\n"
   ]
  },
  {
   "cell_type": "code",
   "execution_count": 9,
   "metadata": {},
   "outputs": [],
   "source": [
    "def drogueTrigger(p, y):\n",
    "    # p = pressure\n",
    "    # y = [x, y, z, vx, vy, vz, e0, e1, e2, e3, w1, w2, w3]\n",
    "    # activate drogue when vz < 0 m/s.\n",
    "    return True if y[5] < 0 else False\n",
    "\n",
    "\n",
    "def mainTrigger(p, y):\n",
    "    # p = pressure\n",
    "    # y = [x, y, z, vx, vy, vz, e0, e1, e2, e3, w1, w2, w3]\n",
    "    # activate main when vz < 0 m/s and z < 500 + 100 m (+100 due to surface elevation).\n",
    "    return True if y[5] < 0 and y[2] < 500 + 100 else False\n",
    "\n",
    "\n",
    "main_chute = rocket.addParachute(\n",
    "    \"Main\",\n",
    "    CdS=10.0,\n",
    "    trigger=mainTrigger,\n",
    "    samplingRate=105,\n",
    "    lag=1.5,\n",
    "    noise=(0, 8.3, 0.5),\n",
    ")\n",
    "\n",
    "drogue_chute = rocket.addParachute(\n",
    "    \"Drogue\",\n",
    "    CdS=1.0,\n",
    "    trigger=drogueTrigger,\n",
    "    samplingRate=105,\n",
    "    lag=1.5,\n",
    "    noise=(0, 8.3, 0.5),\n",
    ")\n"
   ]
  },
  {
   "cell_type": "code",
   "execution_count": 10,
   "metadata": {},
   "outputs": [
    {
     "data": {
      "text/plain": [
       "McRocket(radius=(0.0635, 1), mass=(16.241, 1), inertiaI=(6.6, 0), inertiaZ=(0.0351, 1), powerOffDrag=[Function from R1 to R1 : (Mach Number) → (Drag Coefficient with Power Off)], powerOnDrag=[Function from R1 to R1 : (Mach Number) → (Drag Coefficient with Power On)], centerOfDryMassPosition=(0, 0), powerOffDragFactor=(1, 0.03), powerOnDragFactor=(1, 0.03))"
      ]
     },
     "execution_count": 10,
     "metadata": {},
     "output_type": "execute_result"
    }
   ],
   "source": [
    "mc_rocket = McRocket(\n",
    "    rocket=rocket,\n",
    "    radius=1,\n",
    "    mass=1,\n",
    "    inertiaZ=1,\n",
    "    powerOffDragFactor=(1, 0.03),\n",
    "    powerOnDragFactor=(1, 0.03),\n",
    ")\n",
    "mc_rocket"
   ]
  },
  {
   "cell_type": "code",
   "execution_count": 11,
   "metadata": {},
   "outputs": [],
   "source": [
    "mc_nose_cone = McNoseCone(\n",
    "    nosecone=nose_cone,\n",
    "    length=0.001,\n",
    ")\n",
    "\n",
    "mc_fin_set = McTrapezoidalFins(\n",
    "    trapezoidalFins=fin_set,\n",
    "    rootChord=0.001,\n",
    "    tipChord=0.001,\n",
    "    span=0.001,\n",
    ")\n",
    "\n",
    "mc_tail = McTail(\n",
    "    tail=tail,\n",
    "    topRadius=0.001,\n",
    "    bottomRadius=0.001,\n",
    "    length=0.001,\n",
    ")\n",
    "\n",
    "mc_main = McParachute(\n",
    "    parachute=main_chute,\n",
    "    CdS=0.1,\n",
    "    lag=0.1,\n",
    ")\n",
    "\n",
    "mc_drogue = McParachute(\n",
    "    parachute=drogue_chute,\n",
    "    CdS=0.1,\n",
    "    lag=0.1,\n",
    ")\n"
   ]
  },
  {
   "cell_type": "code",
   "execution_count": 12,
   "metadata": {},
   "outputs": [],
   "source": [
    "mc_rocket.addMotor(mc_motor,position=0.001)\n",
    "mc_rocket.addNose(mc_nose_cone,position=(1.278,0.001))\n",
    "mc_rocket.addTrapezoidalFins(mc_fin_set,position=(0.001,\"dist_func\"))\n",
    "mc_rocket.addTail(mc_tail,position=(-1.194656,0.001,\"dist_func\"))\n",
    "mc_rocket.addParachute(mc_main)\n",
    "mc_rocket.addParachute(mc_drogue)\n"
   ]
  },
  {
   "cell_type": "code",
   "execution_count": 13,
   "metadata": {},
   "outputs": [
    {
     "name": "stdout",
     "output_type": "stream",
     "text": [
      "(-1.255, 0.001)\n",
      "(1.278, 0.001)\n",
      "(-1.04956, 0.001, 'dist_func')\n",
      "(-1.194656, 0.001, 'dist_func')\n"
     ]
    }
   ],
   "source": [
    "print(mc_rocket.motors[0].position)\n",
    "print(mc_rocket.nosecones[0].position)\n",
    "print(mc_rocket.fins[0].position)\n",
    "print(mc_rocket.tails[0].position)\n"
   ]
  },
  {
   "attachments": {},
   "cell_type": "markdown",
   "metadata": {},
   "source": [
    "### Flight\n"
   ]
  },
  {
   "cell_type": "code",
   "execution_count": 14,
   "metadata": {},
   "outputs": [],
   "source": [
    "test_flight = Flight(\n",
    "    rocket=rocket,\n",
    "    environment=env,\n",
    "    inclination=84,\n",
    "    heading=133,\n",
    ")\n"
   ]
  },
  {
   "cell_type": "code",
   "execution_count": 15,
   "metadata": {},
   "outputs": [],
   "source": [
    "mc_flight = McFlight(\n",
    "    flight=test_flight,\n",
    "    inclination=(84, 1),\n",
    "    heading=(133, 1),\n",
    ")\n"
   ]
  },
  {
   "attachments": {},
   "cell_type": "markdown",
   "metadata": {},
   "source": [
    "And we can visualize the flight trajectory:\n"
   ]
  },
  {
   "cell_type": "code",
   "execution_count": null,
   "metadata": {},
   "outputs": [],
   "source": [
    "# test_flight.plots.trajectory_3d()\n"
   ]
  },
  {
   "attachments": {},
   "cell_type": "markdown",
   "metadata": {},
   "source": [
    "### Starting the Monte Carlo Simulations\n"
   ]
  },
  {
   "attachments": {},
   "cell_type": "markdown",
   "metadata": {},
   "source": [
    "First, let's invoke the Dispersion class, we only need a filename to initialize it.\n",
    "The filename will be used either to save the results of the simulations or to load them\n",
    "from a previous ran simulation.\n"
   ]
  },
  {
   "cell_type": "code",
   "execution_count": null,
   "metadata": {},
   "outputs": [],
   "source": [
    "test_dispersion = Dispersion(\n",
    "    filename=\"dispersion_analysis_outputs/disp_class_example\",\n",
    "    environment=mc_env,\n",
    "    rocket=mc_rocket,\n",
    "    flight=mc_flight,\n",
    ")\n",
    "\n",
    "# TODO: add custom warning o when the rocket doesn't have a motors, parachute, or aerosurfaces\n"
   ]
  },
  {
   "attachments": {},
   "cell_type": "markdown",
   "metadata": {},
   "source": [
    "Then, we can run the simulations using the method Dispersion.run_dispersion().\n",
    "But before that, we need to set some simple parameters for the simulations.\n",
    "We will set them by using a dictionary, which is one of the simplest way to do it.\n"
   ]
  },
  {
   "attachments": {},
   "cell_type": "markdown",
   "metadata": {},
   "source": [
    "Finally, let's iterate over the simulations and export the data from each flight simulation!\n"
   ]
  },
  {
   "cell_type": "code",
   "execution_count": null,
   "metadata": {},
   "outputs": [],
   "source": [
    "test_dispersion.run_dispersion(\n",
    "    number_of_simulations=50,\n",
    "    append=False,\n",
    ")\n",
    "\n",
    "# TODO: it seems the dispersion is falling into an eternal loop. Need to check it out \n"
   ]
  },
  {
   "cell_type": "code",
   "execution_count": null,
   "metadata": {},
   "outputs": [],
   "source": [
    "# In case you want to verify the new dispersion dictionary format...\n",
    "test_dispersion.dispersion_dictionary\n"
   ]
  },
  {
   "attachments": {},
   "cell_type": "markdown",
   "metadata": {},
   "source": [
    "### Visualizing the results\n"
   ]
  },
  {
   "attachments": {},
   "cell_type": "markdown",
   "metadata": {},
   "source": [
    "Now we finally have the results of our Monte Carlo simulations loaded!\n",
    "Let's play with them.\n"
   ]
  },
  {
   "attachments": {},
   "cell_type": "markdown",
   "metadata": {},
   "source": [
    "First, we can print numerical information regarding the results of the simulations.\n"
   ]
  },
  {
   "cell_type": "code",
   "execution_count": null,
   "metadata": {},
   "outputs": [],
   "source": [
    "test_dispersion.import_results()\n"
   ]
  },
  {
   "cell_type": "code",
   "execution_count": null,
   "metadata": {},
   "outputs": [],
   "source": [
    "test_dispersion.print_results()\n"
   ]
  },
  {
   "attachments": {},
   "cell_type": "markdown",
   "metadata": {},
   "source": [
    "Also, we can visualize histograms of such results\n"
   ]
  },
  {
   "cell_type": "code",
   "execution_count": null,
   "metadata": {},
   "outputs": [],
   "source": [
    "test_dispersion.allInfo()\n"
   ]
  },
  {
   "attachments": {},
   "cell_type": "markdown",
   "metadata": {},
   "source": [
    "Export to kml so it can be visualized in Google Earth\n"
   ]
  },
  {
   "cell_type": "code",
   "execution_count": null,
   "metadata": {},
   "outputs": [],
   "source": [
    "test_dispersion.exportEllipsesToKML(\n",
    "    filename=\"dispersion_analysis_outputs/disp_class_example.kml\",\n",
    "    origin_lat=env.latitude,\n",
    "    origin_lon=env.longitude,\n",
    "    type=\"impact\",\n",
    ")\n"
   ]
  }
 ],
 "metadata": {
  "hide_input": false,
  "kernelspec": {
   "display_name": "Python 3.10.5 64-bit",
   "language": "python",
   "name": "python3"
  },
  "language_info": {
   "codemirror_mode": {
    "name": "ipython",
    "version": 3
   },
   "file_extension": ".py",
   "mimetype": "text/x-python",
   "name": "python",
   "nbconvert_exporter": "python",
   "pygments_lexer": "ipython3",
   "version": "3.10.5"
  },
  "vscode": {
   "interpreter": {
    "hash": "26de051ba29f2982a8de78e945f0abaf191376122a1563185a90213a26c5da77"
   }
  }
 },
 "nbformat": 4,
 "nbformat_minor": 2
}
